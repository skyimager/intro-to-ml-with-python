{
 "cells": [
  {
   "cell_type": "markdown",
   "metadata": {},
   "source": [
    "# Flask API"
   ]
  },
  {
   "cell_type": "markdown",
   "metadata": {},
   "source": [
    "## How Flask works"
   ]
  },
  {
   "cell_type": "markdown",
   "metadata": {},
   "source": [
    "When we open a browser we see a few things:\n",
    "Front-End\n",
    "- **HTML** displays the page elements like the actual text on the website\n",
    "- **CSS** styles the elemtns liek change font or sizeof the text\n",
    "- **Bootstrap** provides some automatic styling through CSS and Javascript"
   ]
  },
  {
   "cell_type": "markdown",
   "metadata": {},
   "source": [
    "Every website will perform some main ops:\n",
    "- Accept info from user\n",
    "- Retrieve info from databse\n",
    "- Create/Update/Delete info in the database\n",
    "- Display information back to the user\n",
    "\n",
    "a. To connect the front-end stuff to web database, we need a web framework. <br>\n",
    "b. Web framework is to accept user information from website and connect to back-end database and report something releveant that can be stored in db so that the front-end to user can see it.\n",
    "\n",
    "**Flask** is a web framework. Allows to connect Python code to the web. *Flask has reputation for being not scalable.*"
   ]
  },
  {
   "cell_type": "markdown",
   "metadata": {},
   "source": [
    "## Accepting user information\n",
    "- Could be something like accepting query into Google search - instance of user filling out info. WTForms is a library that works well with flask\n",
    "- Communicate with database and retrieve information. In this case its SQLite. SQLite can scale to quite a large website.\n",
    "- SQLAlchemy allows us to write Python code instead of SQL queries\n",
    "- Flask is like connector between front-end and back-end info that is stored\n",
    "- **Jinja** templates grab info from Python and Flask ad send info back as HTML\n",
    "- Flask renders HTML templates"
   ]
  },
  {
   "cell_type": "markdown",
   "metadata": {},
   "source": [
    "## Virtual Environment"
   ]
  },
  {
   "cell_type": "markdown",
   "metadata": {},
   "source": [
    "Launched web app and want to use external python library, but the library gets updated. We can set up virtual environment to help manage dependencies. "
   ]
  },
  {
   "cell_type": "markdown",
   "metadata": {},
   "source": [
    "## Flask \"Hello World\" example\n",
    "- Return a string \"Hello Puppy\" on a webpage"
   ]
  },
  {
   "cell_type": "code",
   "execution_count": 1,
   "metadata": {
    "ExecuteTime": {
     "end_time": "2022-05-15T10:42:24.416052Z",
     "start_time": "2022-05-15T10:41:15.727285Z"
    }
   },
   "outputs": [
    {
     "name": "stdout",
     "output_type": "stream",
     "text": [
      " * Serving Flask app '__main__' (lazy loading)\n",
      " * Environment: production\n",
      "\u001b[31m   WARNING: This is a development server. Do not use it in a production deployment.\u001b[0m\n",
      "\u001b[2m   Use a production WSGI server instead.\u001b[0m\n",
      " * Debug mode: off\n"
     ]
    },
    {
     "name": "stderr",
     "output_type": "stream",
     "text": [
      " * Running on http://127.0.0.1:5000/ (Press CTRL+C to quit)\n",
      "127.0.0.1 - - [15/May/2022 16:11:25] \"GET / HTTP/1.1\" 200 -\n"
     ]
    }
   ],
   "source": [
    "from flask import Flask \n",
    "\n",
    "#Next line creates an application object as an instance of the class flask\n",
    "#name variable is a python pre-defined variable which is set to name of module in which it is used\n",
    "#flask uses location of module as a starting point when loading other files\n",
    "app = Flask(__name__) \n",
    "\n",
    "#linkes the page below to whatever route on web ap it should be at\n",
    "#'/' is same thing as single home page or domain\n",
    "@app.route('/')\n",
    "\n",
    "#defines a page index with the function and returns a string\n",
    "def home():\n",
    "    return '<h1>Hello World!</h1>'\n",
    "\n",
    "#if running script, run the application\n",
    "if __name__ == '__main__':\n",
    "    app.run()"
   ]
  },
  {
   "cell_type": "markdown",
   "metadata": {},
   "source": [
    "## Basic Routing"
   ]
  },
  {
   "cell_type": "markdown",
   "metadata": {},
   "source": [
    "- @app.route() is the main functon\n",
    "- Home domain is represented as http://127.0.0.1:5000/\n",
    "- @app.route(\"/some_page\") is a new page\n",
    "- Once deploted to web, its going to be replaced by the domain name"
   ]
  },
  {
   "cell_type": "code",
   "execution_count": 2,
   "metadata": {
    "ExecuteTime": {
     "end_time": "2022-05-15T10:45:06.423954Z",
     "start_time": "2022-05-15T10:44:19.163392Z"
    }
   },
   "outputs": [
    {
     "name": "stdout",
     "output_type": "stream",
     "text": [
      " * Serving Flask app '__main__' (lazy loading)\n",
      " * Environment: production\n",
      "\u001b[31m   WARNING: This is a development server. Do not use it in a production deployment.\u001b[0m\n",
      "\u001b[2m   Use a production WSGI server instead.\u001b[0m\n",
      " * Debug mode: off\n"
     ]
    },
    {
     "name": "stderr",
     "output_type": "stream",
     "text": [
      " * Running on http://127.0.0.1:5000/ (Press CTRL+C to quit)\n",
      "127.0.0.1 - - [15/May/2022 16:14:23] \"GET / HTTP/1.1\" 200 -\n",
      "127.0.0.1 - - [15/May/2022 16:14:29] \"GET /info HTTP/1.1\" 200 -\n",
      "127.0.0.1 - - [15/May/2022 16:14:38] \"\u001b[33mGET /int HTTP/1.1\u001b[0m\" 404 -\n",
      "127.0.0.1 - - [15/May/2022 16:14:46] \"GET /info HTTP/1.1\" 200 -\n"
     ]
    }
   ],
   "source": [
    "from flask import Flask \n",
    "\n",
    "app = Flask(__name__) \n",
    "\n",
    "@app.route('/')\n",
    "def index():\n",
    "    return '<h1>Hello World!</h1>'\n",
    "\n",
    "@app.route('/info') #this is just defining anothe rpage\n",
    "def info():\n",
    "    return \"<h1> Lets Learn Flask!</h1>\"\n",
    "\n",
    "if __name__ == '__main__':\n",
    "    app.run()"
   ]
  },
  {
   "cell_type": "markdown",
   "metadata": {},
   "source": [
    "## Server defintion"
   ]
  },
  {
   "cell_type": "markdown",
   "metadata": {},
   "source": [
    "Method | Description\n",
    "-- | --\n",
    "GET | The browser tells the server to just get the information stored on that page and send it. This is probably the most common method.\n",
    "HEAD | The browser tells the server to get the information, but it is only interested in the headers, not the content of the page. An application is supposed to handle that as if a GET request was received but to not deliver the actual content. In Flask you don’t have to deal with that at all, the underlying Werkzeug library handles that for you.\n",
    "POST | The browser tells the server that it wants to post some new information to that URL and that the server must ensure the data is stored and only stored once. This is how HTML forms usually transmit data to the server.\n",
    "PUT | Similar to POST but the server might trigger the store procedure multiple times by overwriting the old values more than once. Now you might be asking why this is useful, but there are some good reasons to do it this way. Consider that the connection is lost during transmission: in this situation a system between the browser and the server might receive the request safely a second time without breaking things. With POST that would not be possible because it must only be triggered once.\n",
    "DELETE | Remove the information at the given location.\n",
    "OPTIONS | Provides a quick way for a client to figure out which methods are supported by this URL. Starting with Flask 0.6, this is implemented for you automatically."
   ]
  },
  {
   "cell_type": "markdown",
   "metadata": {},
   "source": [
    "**Response Code**\n",
    "\n",
    "HTTP Code | Response Data\n",
    "--|--\n",
    "200 | The request has succeeded. \n",
    "400 | Bad Request.\n",
    "404 | Not Found."
   ]
  },
  {
   "cell_type": "code",
   "execution_count": 3,
   "metadata": {
    "ExecuteTime": {
     "end_time": "2022-05-15T10:47:22.266797Z",
     "start_time": "2022-05-15T10:47:21.674293Z"
    }
   },
   "outputs": [],
   "source": [
    "from flask import Flask, jsonify,request\n",
    "import joblib\n",
    "import pandas as pd"
   ]
  },
  {
   "cell_type": "code",
   "execution_count": null,
   "metadata": {
    "ExecuteTime": {
     "end_time": "2022-05-15T07:21:44.333305Z",
     "start_time": "2022-05-15T07:21:44.311627Z"
    }
   },
   "outputs": [],
   "source": [
    "app = Flask(__name__)\n",
    "\n",
    "@app.route('/', methods=['GET'])\n",
    "def home():\n",
    "    return '<h1>Hello World!</h1>'\n",
    "\n",
    "@app.route('/predict', methods=['POST'])\n",
    "def predict():\n",
    "    json_ = request.get_json(silent=True)\n",
    "    message=json_.get('message')\n",
    "    mydf = pd.DataFrame({'message':message})\n",
    "    print(mydf)\n",
    "    prediction = clf.predict_proba(mydf['message'])\n",
    "    return jsonify({'prediction': prediction.tolist()})"
   ]
  },
  {
   "cell_type": "markdown",
   "metadata": {},
   "source": [
    "## Running the server"
   ]
  },
  {
   "cell_type": "code",
   "execution_count": null,
   "metadata": {
    "ExecuteTime": {
     "end_time": "2022-05-15T07:21:56.593844Z",
     "start_time": "2022-05-15T07:21:44.911158Z"
    }
   },
   "outputs": [],
   "source": [
    "mymodel=open('my_model_pipeline.pkl','rb')\n",
    "clf=joblib.load(mymodel)\n",
    "app.run(port=5000)"
   ]
  },
  {
   "cell_type": "markdown",
   "metadata": {},
   "source": [
    "## Prediction from server"
   ]
  },
  {
   "cell_type": "code",
   "execution_count": 4,
   "metadata": {
    "ExecuteTime": {
     "end_time": "2022-05-15T10:51:44.217514Z",
     "start_time": "2022-05-15T10:51:44.079043Z"
    }
   },
   "outputs": [],
   "source": [
    "import os\n",
    "import json\n",
    "import requests"
   ]
  },
  {
   "cell_type": "code",
   "execution_count": 5,
   "metadata": {
    "ExecuteTime": {
     "end_time": "2022-05-15T10:52:50.391715Z",
     "start_time": "2022-05-15T10:52:50.299263Z"
    }
   },
   "outputs": [
    {
     "data": {
      "text/plain": [
       "<Response [200]>"
      ]
     },
     "execution_count": 5,
     "metadata": {},
     "output_type": "execute_result"
    }
   ],
   "source": [
    "payload = {'message' : [\"FREE FREE FREE\"]}\n",
    "r = requests.post(\"http://127.0.0.1:5000/predict\" , json = payload)\n",
    "r"
   ]
  },
  {
   "cell_type": "code",
   "execution_count": 6,
   "metadata": {
    "ExecuteTime": {
     "end_time": "2022-05-15T10:53:00.766677Z",
     "start_time": "2022-05-15T10:53:00.744935Z"
    }
   },
   "outputs": [
    {
     "data": {
      "text/plain": [
       "'{\"prediction\":[[0.00849832658995884,0.9915016734100409]]}\\n'"
      ]
     },
     "execution_count": 6,
     "metadata": {},
     "output_type": "execute_result"
    }
   ],
   "source": [
    "r.text"
   ]
  },
  {
   "cell_type": "code",
   "execution_count": 7,
   "metadata": {
    "ExecuteTime": {
     "end_time": "2022-05-15T10:53:02.899305Z",
     "start_time": "2022-05-15T10:53:02.883284Z"
    }
   },
   "outputs": [],
   "source": [
    "res = r.json()"
   ]
  },
  {
   "cell_type": "code",
   "execution_count": 8,
   "metadata": {
    "ExecuteTime": {
     "end_time": "2022-05-15T10:53:45.478953Z",
     "start_time": "2022-05-15T10:53:45.451088Z"
    }
   },
   "outputs": [
    {
     "data": {
      "text/plain": [
       "[[0.00849832658995884, 0.9915016734100409]]"
      ]
     },
     "execution_count": 8,
     "metadata": {},
     "output_type": "execute_result"
    }
   ],
   "source": [
    "res[\"prediction\"]"
   ]
  },
  {
   "cell_type": "code",
   "execution_count": null,
   "metadata": {},
   "outputs": [],
   "source": []
  }
 ],
 "metadata": {
  "kernelspec": {
   "display_name": "Python 3 (ipykernel)",
   "language": "python",
   "name": "python3"
  },
  "language_info": {
   "codemirror_mode": {
    "name": "ipython",
    "version": 3
   },
   "file_extension": ".py",
   "mimetype": "text/x-python",
   "name": "python",
   "nbconvert_exporter": "python",
   "pygments_lexer": "ipython3",
   "version": "3.7.11"
  }
 },
 "nbformat": 4,
 "nbformat_minor": 2
}
