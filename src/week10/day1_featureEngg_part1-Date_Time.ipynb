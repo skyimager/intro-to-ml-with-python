{
 "cells": [
  {
   "cell_type": "markdown",
   "metadata": {},
   "source": [
    "# Dates and Times\n",
    "\n",
    "A special type of categorical variable are those that instead of taking traditional labels, like color (blue, red), or city (London, Manchester), take dates and / or time as values. For example, date of birth ('29-08-1987', '12-01-2012'), or date of application ('2016-Dec', '2013-March').\n",
    "\n",
    "Datetime variables can contain dates only, time only, or date and time.\n",
    "\n",
    "We don't usually work with a datetime variable in their raw format because:\n",
    "\n",
    "- Date variables contain a huge number of different categories\n",
    "- We can extract much more information from datetime variables by preprocessing them correctly\n",
    "\n",
    "In addition, often, date variables will contain dates that were not present in the dataset used to train the machine learning model. In fact, date variables will usually contain dates placed in the future, respect to the dates in the training dataset. Therefore, the machine learning model will not know what to do with them, because it never saw them while being trained. "
   ]
  },
  {
   "cell_type": "markdown",
   "metadata": {
    "heading_collapsed": true
   },
   "source": [
    "# Basic Imports"
   ]
  },
  {
   "cell_type": "code",
   "execution_count": 1,
   "metadata": {
    "ExecuteTime": {
     "end_time": "2022-05-28T10:39:03.096070Z",
     "start_time": "2022-05-28T10:39:03.067347Z"
    },
    "hidden": true
   },
   "outputs": [],
   "source": [
    "# this is specific to macos X , windows/linux users dont need this \n",
    "# without this , while using xgboost , you get errors , kernel dies\n",
    "import os\n",
    "os.environ['KMP_DUPLICATE_LIB_OK']='True'"
   ]
  },
  {
   "cell_type": "code",
   "execution_count": 2,
   "metadata": {
    "ExecuteTime": {
     "end_time": "2022-05-28T10:39:03.540118Z",
     "start_time": "2022-05-28T10:39:03.522709Z"
    },
    "hidden": true
   },
   "outputs": [],
   "source": [
    "import warnings\n",
    "warnings.filterwarnings('ignore')"
   ]
  },
  {
   "cell_type": "code",
   "execution_count": 3,
   "metadata": {
    "ExecuteTime": {
     "end_time": "2022-05-28T10:39:06.229904Z",
     "start_time": "2022-05-28T10:39:03.999031Z"
    },
    "hidden": true
   },
   "outputs": [],
   "source": [
    "import numpy as np\n",
    "import seaborn as sns\n",
    "import pandas as pd\n",
    "import math as mt"
   ]
  },
  {
   "cell_type": "code",
   "execution_count": 4,
   "metadata": {
    "ExecuteTime": {
     "end_time": "2022-05-28T10:39:06.252567Z",
     "start_time": "2022-05-28T10:39:06.237517Z"
    },
    "hidden": true
   },
   "outputs": [],
   "source": [
    "# !pip install rfpimp"
   ]
  },
  {
   "cell_type": "code",
   "execution_count": 5,
   "metadata": {
    "ExecuteTime": {
     "end_time": "2022-05-28T10:39:06.974461Z",
     "start_time": "2022-05-28T10:39:06.258022Z"
    },
    "hidden": true
   },
   "outputs": [],
   "source": [
    "from rfpimp import *\n",
    "from sklearn.model_selection import train_test_split\n",
    "from sklearn.svm import SVR\n",
    "from sklearn.metrics import mean_absolute_error"
   ]
  },
  {
   "cell_type": "markdown",
   "metadata": {},
   "source": [
    "# Load Data"
   ]
  },
  {
   "cell_type": "code",
   "execution_count": 6,
   "metadata": {
    "ExecuteTime": {
     "end_time": "2022-05-28T10:39:25.386425Z",
     "start_time": "2022-05-28T10:39:25.304745Z"
    }
   },
   "outputs": [],
   "source": [
    "# Variable definitions:\n",
    "#-------------------------\n",
    "# disbursed amount: loan amount lent to the borrower\n",
    "# market: risk band in which borrowers are placed\n",
    "# loan purpose: intended use of the loan\n",
    "# date_issued: date the loan was issued\n",
    "# date_last_payment: date of last payment towards repyaing the loan\n",
    "\n",
    "file = r'./data/loan.csv'\n",
    "data=pd.read_csv(file)"
   ]
  },
  {
   "cell_type": "code",
   "execution_count": 7,
   "metadata": {
    "ExecuteTime": {
     "end_time": "2022-05-28T10:39:30.800585Z",
     "start_time": "2022-05-28T10:39:30.762158Z"
    }
   },
   "outputs": [
    {
     "data": {
      "text/plain": [
       "(10000, 14)"
      ]
     },
     "execution_count": 7,
     "metadata": {},
     "output_type": "execute_result"
    }
   ],
   "source": [
    "data.shape"
   ]
  },
  {
   "cell_type": "code",
   "execution_count": 8,
   "metadata": {
    "ExecuteTime": {
     "end_time": "2022-05-28T10:39:33.341584Z",
     "start_time": "2022-05-28T10:39:33.282654Z"
    }
   },
   "outputs": [
    {
     "data": {
      "text/html": [
       "<div>\n",
       "<style scoped>\n",
       "    .dataframe tbody tr th:only-of-type {\n",
       "        vertical-align: middle;\n",
       "    }\n",
       "\n",
       "    .dataframe tbody tr th {\n",
       "        vertical-align: top;\n",
       "    }\n",
       "\n",
       "    .dataframe thead th {\n",
       "        text-align: right;\n",
       "    }\n",
       "</style>\n",
       "<table border=\"1\" class=\"dataframe\">\n",
       "  <thead>\n",
       "    <tr style=\"text-align: right;\">\n",
       "      <th></th>\n",
       "      <th>customer_id</th>\n",
       "      <th>disbursed_amount</th>\n",
       "      <th>interest</th>\n",
       "      <th>market</th>\n",
       "      <th>employment</th>\n",
       "      <th>time_employed</th>\n",
       "      <th>householder</th>\n",
       "      <th>income</th>\n",
       "      <th>date_issued</th>\n",
       "      <th>target</th>\n",
       "      <th>loan_purpose</th>\n",
       "      <th>number_open_accounts</th>\n",
       "      <th>date_last_payment</th>\n",
       "      <th>number_credit_lines_12</th>\n",
       "    </tr>\n",
       "  </thead>\n",
       "  <tbody>\n",
       "    <tr>\n",
       "      <th>3082</th>\n",
       "      <td>3082</td>\n",
       "      <td>940.0</td>\n",
       "      <td>18.0675</td>\n",
       "      <td>E</td>\n",
       "      <td>NaN</td>\n",
       "      <td>NaN</td>\n",
       "      <td>RENT</td>\n",
       "      <td>10431.12</td>\n",
       "      <td>2015-10-13</td>\n",
       "      <td>0</td>\n",
       "      <td>Other</td>\n",
       "      <td>15.0</td>\n",
       "      <td>2016-01-08</td>\n",
       "      <td>NaN</td>\n",
       "    </tr>\n",
       "    <tr>\n",
       "      <th>5886</th>\n",
       "      <td>5886</td>\n",
       "      <td>9200.0</td>\n",
       "      <td>7.4676</td>\n",
       "      <td>A</td>\n",
       "      <td>Bus driver</td>\n",
       "      <td>&gt;5 years</td>\n",
       "      <td>MORTGAGE</td>\n",
       "      <td>72960.00</td>\n",
       "      <td>2013-07-15</td>\n",
       "      <td>0</td>\n",
       "      <td>Home improvements</td>\n",
       "      <td>14.0</td>\n",
       "      <td>2016-01-20</td>\n",
       "      <td>NaN</td>\n",
       "    </tr>\n",
       "    <tr>\n",
       "      <th>6660</th>\n",
       "      <td>6660</td>\n",
       "      <td>19000.0</td>\n",
       "      <td>13.2446</td>\n",
       "      <td>B</td>\n",
       "      <td>Statistician</td>\n",
       "      <td>&lt;=5 years</td>\n",
       "      <td>MORTGAGE</td>\n",
       "      <td>54450.00</td>\n",
       "      <td>2012-07-06</td>\n",
       "      <td>0</td>\n",
       "      <td>Debt consolidation</td>\n",
       "      <td>12.0</td>\n",
       "      <td>2015-07-22</td>\n",
       "      <td>NaN</td>\n",
       "    </tr>\n",
       "    <tr>\n",
       "      <th>1009</th>\n",
       "      <td>1009</td>\n",
       "      <td>22770.0</td>\n",
       "      <td>16.4312</td>\n",
       "      <td>D</td>\n",
       "      <td>Dentist</td>\n",
       "      <td>&lt;=5 years</td>\n",
       "      <td>MORTGAGE</td>\n",
       "      <td>147200.00</td>\n",
       "      <td>2015-09-02</td>\n",
       "      <td>0</td>\n",
       "      <td>Debt consolidation</td>\n",
       "      <td>11.0</td>\n",
       "      <td>2016-01-01</td>\n",
       "      <td>NaN</td>\n",
       "    </tr>\n",
       "    <tr>\n",
       "      <th>4650</th>\n",
       "      <td>4650</td>\n",
       "      <td>23760.0</td>\n",
       "      <td>14.7108</td>\n",
       "      <td>D</td>\n",
       "      <td>Dentist</td>\n",
       "      <td>&gt;5 years</td>\n",
       "      <td>MORTGAGE</td>\n",
       "      <td>58200.00</td>\n",
       "      <td>2011-06-13</td>\n",
       "      <td>0</td>\n",
       "      <td>Debt consolidation</td>\n",
       "      <td>13.0</td>\n",
       "      <td>2013-03-07</td>\n",
       "      <td>NaN</td>\n",
       "    </tr>\n",
       "  </tbody>\n",
       "</table>\n",
       "</div>"
      ],
      "text/plain": [
       "      customer_id  disbursed_amount  interest market    employment  \\\n",
       "3082         3082             940.0   18.0675      E           NaN   \n",
       "5886         5886            9200.0    7.4676      A    Bus driver   \n",
       "6660         6660           19000.0   13.2446      B  Statistician   \n",
       "1009         1009           22770.0   16.4312      D       Dentist   \n",
       "4650         4650           23760.0   14.7108      D       Dentist   \n",
       "\n",
       "     time_employed householder     income date_issued  target  \\\n",
       "3082           NaN        RENT   10431.12  2015-10-13       0   \n",
       "5886      >5 years    MORTGAGE   72960.00  2013-07-15       0   \n",
       "6660     <=5 years    MORTGAGE   54450.00  2012-07-06       0   \n",
       "1009     <=5 years    MORTGAGE  147200.00  2015-09-02       0   \n",
       "4650      >5 years    MORTGAGE   58200.00  2011-06-13       0   \n",
       "\n",
       "            loan_purpose  number_open_accounts date_last_payment  \\\n",
       "3082               Other                  15.0        2016-01-08   \n",
       "5886   Home improvements                  14.0        2016-01-20   \n",
       "6660  Debt consolidation                  12.0        2015-07-22   \n",
       "1009  Debt consolidation                  11.0        2016-01-01   \n",
       "4650  Debt consolidation                  13.0        2013-03-07   \n",
       "\n",
       "      number_credit_lines_12  \n",
       "3082                     NaN  \n",
       "5886                     NaN  \n",
       "6660                     NaN  \n",
       "1009                     NaN  \n",
       "4650                     NaN  "
      ]
     },
     "execution_count": 8,
     "metadata": {},
     "output_type": "execute_result"
    }
   ],
   "source": [
    "data.sample(5)"
   ]
  },
  {
   "cell_type": "code",
   "execution_count": 9,
   "metadata": {
    "ExecuteTime": {
     "end_time": "2022-05-28T10:40:40.653312Z",
     "start_time": "2022-05-28T10:40:40.614293Z"
    }
   },
   "outputs": [
    {
     "data": {
      "text/plain": [
       "date_issued          object\n",
       "date_last_payment    object\n",
       "dtype: object"
      ]
     },
     "execution_count": 9,
     "metadata": {},
     "output_type": "execute_result"
    }
   ],
   "source": [
    "# pandas assigns type 'object' when reading dates\n",
    "# and considers them strings.\n",
    "# Let's have a look\n",
    "\n",
    "data[['date_issued', 'date_last_payment']].dtypes"
   ]
  },
  {
   "cell_type": "markdown",
   "metadata": {},
   "source": [
    "Both date_issued and date_last_payment are casted as objects. Therefore, pandas will treat them as strings or categorical variables.\n",
    "\n",
    "In order to instruct pandas to treat them as dates, we need to re-cast them into datetime format:"
   ]
  },
  {
   "cell_type": "markdown",
   "metadata": {},
   "source": [
    "# Datetime Conversions and Analysis"
   ]
  },
  {
   "cell_type": "code",
   "execution_count": 10,
   "metadata": {
    "ExecuteTime": {
     "end_time": "2022-05-28T10:45:44.393815Z",
     "start_time": "2022-05-28T10:45:44.354123Z"
    }
   },
   "outputs": [],
   "source": [
    "# now let's parse the dates, currently coded as strings, into datetime format\n",
    "# this will allow us to make some analysis afterwards\n",
    "\n",
    "data['issued_dt'] = pd.to_datetime(data['date_issued'])\n",
    "data['last_payment_dt'] = pd.to_datetime(data['date_last_payment'])"
   ]
  },
  {
   "cell_type": "code",
   "execution_count": 11,
   "metadata": {
    "ExecuteTime": {
     "end_time": "2022-05-28T10:45:52.774048Z",
     "start_time": "2022-05-28T10:45:52.744319Z"
    }
   },
   "outputs": [
    {
     "data": {
      "text/plain": [
       "(10000, 16)"
      ]
     },
     "execution_count": 11,
     "metadata": {},
     "output_type": "execute_result"
    }
   ],
   "source": [
    "data.shape"
   ]
  },
  {
   "cell_type": "code",
   "execution_count": 12,
   "metadata": {
    "ExecuteTime": {
     "end_time": "2022-05-28T10:46:30.124488Z",
     "start_time": "2022-05-28T10:46:30.067183Z"
    }
   },
   "outputs": [
    {
     "data": {
      "text/html": [
       "<div>\n",
       "<style scoped>\n",
       "    .dataframe tbody tr th:only-of-type {\n",
       "        vertical-align: middle;\n",
       "    }\n",
       "\n",
       "    .dataframe tbody tr th {\n",
       "        vertical-align: top;\n",
       "    }\n",
       "\n",
       "    .dataframe thead th {\n",
       "        text-align: right;\n",
       "    }\n",
       "</style>\n",
       "<table border=\"1\" class=\"dataframe\">\n",
       "  <thead>\n",
       "    <tr style=\"text-align: right;\">\n",
       "      <th></th>\n",
       "      <th>date_issued</th>\n",
       "      <th>issued_dt</th>\n",
       "      <th>date_last_payment</th>\n",
       "      <th>last_payment_dt</th>\n",
       "    </tr>\n",
       "  </thead>\n",
       "  <tbody>\n",
       "    <tr>\n",
       "      <th>0</th>\n",
       "      <td>2013-06-11</td>\n",
       "      <td>2013-06-11</td>\n",
       "      <td>2016-01-14</td>\n",
       "      <td>2016-01-14</td>\n",
       "    </tr>\n",
       "    <tr>\n",
       "      <th>1</th>\n",
       "      <td>2014-05-08</td>\n",
       "      <td>2014-05-08</td>\n",
       "      <td>2016-01-25</td>\n",
       "      <td>2016-01-25</td>\n",
       "    </tr>\n",
       "    <tr>\n",
       "      <th>2</th>\n",
       "      <td>2013-10-26</td>\n",
       "      <td>2013-10-26</td>\n",
       "      <td>2014-09-26</td>\n",
       "      <td>2014-09-26</td>\n",
       "    </tr>\n",
       "    <tr>\n",
       "      <th>3</th>\n",
       "      <td>2015-08-20</td>\n",
       "      <td>2015-08-20</td>\n",
       "      <td>2016-01-26</td>\n",
       "      <td>2016-01-26</td>\n",
       "    </tr>\n",
       "    <tr>\n",
       "      <th>4</th>\n",
       "      <td>2014-07-22</td>\n",
       "      <td>2014-07-22</td>\n",
       "      <td>2016-01-11</td>\n",
       "      <td>2016-01-11</td>\n",
       "    </tr>\n",
       "  </tbody>\n",
       "</table>\n",
       "</div>"
      ],
      "text/plain": [
       "  date_issued  issued_dt date_last_payment last_payment_dt\n",
       "0  2013-06-11 2013-06-11        2016-01-14      2016-01-14\n",
       "1  2014-05-08 2014-05-08        2016-01-25      2016-01-25\n",
       "2  2013-10-26 2013-10-26        2014-09-26      2014-09-26\n",
       "3  2015-08-20 2015-08-20        2016-01-26      2016-01-26\n",
       "4  2014-07-22 2014-07-22        2016-01-11      2016-01-11"
      ]
     },
     "execution_count": 12,
     "metadata": {},
     "output_type": "execute_result"
    }
   ],
   "source": [
    "data[['date_issued', 'issued_dt', 'date_last_payment', 'last_payment_dt']].head()"
   ]
  },
  {
   "cell_type": "code",
   "execution_count": 13,
   "metadata": {
    "ExecuteTime": {
     "end_time": "2022-05-28T10:47:11.772563Z",
     "start_time": "2022-05-28T10:47:11.737322Z"
    }
   },
   "outputs": [
    {
     "data": {
      "text/plain": [
       "date_issued                  object\n",
       "issued_dt            datetime64[ns]\n",
       "date_last_payment            object\n",
       "last_payment_dt      datetime64[ns]\n",
       "dtype: object"
      ]
     },
     "execution_count": 13,
     "metadata": {},
     "output_type": "execute_result"
    }
   ],
   "source": [
    "data[['date_issued', 'issued_dt', 'date_last_payment', 'last_payment_dt']].dtypes"
   ]
  },
  {
   "cell_type": "code",
   "execution_count": 57,
   "metadata": {
    "ExecuteTime": {
     "end_time": "2022-05-28T11:25:16.571916Z",
     "start_time": "2022-05-28T11:25:16.551306Z"
    }
   },
   "outputs": [],
   "source": [
    "# let's extract the month and the year from the variable date\n",
    "# to make nicer plots\n",
    "\n",
    "data['month'] = data['issued_dt'].dt.month\n",
    "data['year'] = data['issued_dt'].dt.year"
   ]
  },
  {
   "cell_type": "code",
   "execution_count": 17,
   "metadata": {
    "ExecuteTime": {
     "end_time": "2022-05-28T10:49:22.277720Z",
     "start_time": "2022-05-28T10:49:22.226877Z"
    }
   },
   "outputs": [
    {
     "data": {
      "text/plain": [
       "array([ 6,  5, 10,  8,  7,  9,  3,  2, 12, 11,  4,  1])"
      ]
     },
     "execution_count": 17,
     "metadata": {},
     "output_type": "execute_result"
    }
   ],
   "source": [
    "data['month'].unique()"
   ]
  },
  {
   "cell_type": "code",
   "execution_count": 19,
   "metadata": {
    "ExecuteTime": {
     "end_time": "2022-05-28T10:49:55.514663Z",
     "start_time": "2022-05-28T10:49:55.471826Z"
    }
   },
   "outputs": [
    {
     "data": {
      "text/plain": [
       "array([2013, 2014, 2015, 2011, 2009, 2012, 2010, 2008, 2007])"
      ]
     },
     "execution_count": 19,
     "metadata": {},
     "output_type": "execute_result"
    }
   ],
   "source": [
    "data['year'].unique()"
   ]
  },
  {
   "cell_type": "code",
   "execution_count": 20,
   "metadata": {
    "ExecuteTime": {
     "end_time": "2022-05-28T10:52:53.509243Z",
     "start_time": "2022-05-28T10:52:53.448299Z"
    }
   },
   "outputs": [
    {
     "data": {
      "text/html": [
       "<div>\n",
       "<style scoped>\n",
       "    .dataframe tbody tr th:only-of-type {\n",
       "        vertical-align: middle;\n",
       "    }\n",
       "\n",
       "    .dataframe tbody tr th {\n",
       "        vertical-align: top;\n",
       "    }\n",
       "\n",
       "    .dataframe thead th {\n",
       "        text-align: right;\n",
       "    }\n",
       "</style>\n",
       "<table border=\"1\" class=\"dataframe\">\n",
       "  <thead>\n",
       "    <tr style=\"text-align: right;\">\n",
       "      <th></th>\n",
       "      <th>market</th>\n",
       "      <th>A</th>\n",
       "      <th>B</th>\n",
       "      <th>C</th>\n",
       "      <th>D</th>\n",
       "      <th>E</th>\n",
       "    </tr>\n",
       "    <tr>\n",
       "      <th>year</th>\n",
       "      <th>month</th>\n",
       "      <th></th>\n",
       "      <th></th>\n",
       "      <th></th>\n",
       "      <th></th>\n",
       "      <th></th>\n",
       "    </tr>\n",
       "  </thead>\n",
       "  <tbody>\n",
       "    <tr>\n",
       "      <th rowspan=\"5\" valign=\"top\">2007</th>\n",
       "      <th>7</th>\n",
       "      <td>1820.00</td>\n",
       "      <td>NaN</td>\n",
       "      <td>NaN</td>\n",
       "      <td>NaN</td>\n",
       "      <td>NaN</td>\n",
       "    </tr>\n",
       "    <tr>\n",
       "      <th>8</th>\n",
       "      <td>NaN</td>\n",
       "      <td>NaN</td>\n",
       "      <td>NaN</td>\n",
       "      <td>NaN</td>\n",
       "      <td>18600.00</td>\n",
       "    </tr>\n",
       "    <tr>\n",
       "      <th>9</th>\n",
       "      <td>NaN</td>\n",
       "      <td>NaN</td>\n",
       "      <td>NaN</td>\n",
       "      <td>NaN</td>\n",
       "      <td>19432.25</td>\n",
       "    </tr>\n",
       "    <tr>\n",
       "      <th>10</th>\n",
       "      <td>NaN</td>\n",
       "      <td>NaN</td>\n",
       "      <td>NaN</td>\n",
       "      <td>NaN</td>\n",
       "      <td>14256.00</td>\n",
       "    </tr>\n",
       "    <tr>\n",
       "      <th>12</th>\n",
       "      <td>NaN</td>\n",
       "      <td>2796.50</td>\n",
       "      <td>NaN</td>\n",
       "      <td>NaN</td>\n",
       "      <td>NaN</td>\n",
       "    </tr>\n",
       "    <tr>\n",
       "      <th>...</th>\n",
       "      <th>...</th>\n",
       "      <td>...</td>\n",
       "      <td>...</td>\n",
       "      <td>...</td>\n",
       "      <td>...</td>\n",
       "      <td>...</td>\n",
       "    </tr>\n",
       "    <tr>\n",
       "      <th rowspan=\"5\" valign=\"top\">2015</th>\n",
       "      <th>8</th>\n",
       "      <td>1149909.75</td>\n",
       "      <td>1536688.75</td>\n",
       "      <td>1491727.50</td>\n",
       "      <td>880038.75</td>\n",
       "      <td>852688.00</td>\n",
       "    </tr>\n",
       "    <tr>\n",
       "      <th>9</th>\n",
       "      <td>757929.75</td>\n",
       "      <td>1287596.50</td>\n",
       "      <td>1386275.50</td>\n",
       "      <td>879593.25</td>\n",
       "      <td>686892.25</td>\n",
       "    </tr>\n",
       "    <tr>\n",
       "      <th>10</th>\n",
       "      <td>971295.50</td>\n",
       "      <td>2361789.00</td>\n",
       "      <td>2243754.50</td>\n",
       "      <td>1080193.75</td>\n",
       "      <td>1112724.25</td>\n",
       "    </tr>\n",
       "    <tr>\n",
       "      <th>11</th>\n",
       "      <td>998115.50</td>\n",
       "      <td>1679571.50</td>\n",
       "      <td>2017138.00</td>\n",
       "      <td>858076.25</td>\n",
       "      <td>542300.00</td>\n",
       "    </tr>\n",
       "    <tr>\n",
       "      <th>12</th>\n",
       "      <td>1094781.50</td>\n",
       "      <td>1775188.00</td>\n",
       "      <td>1941545.75</td>\n",
       "      <td>1083162.50</td>\n",
       "      <td>871467.50</td>\n",
       "    </tr>\n",
       "  </tbody>\n",
       "</table>\n",
       "<p>99 rows × 5 columns</p>\n",
       "</div>"
      ],
      "text/plain": [
       "market               A           B           C           D           E\n",
       "year month                                                            \n",
       "2007 7         1820.00         NaN         NaN         NaN         NaN\n",
       "     8             NaN         NaN         NaN         NaN    18600.00\n",
       "     9             NaN         NaN         NaN         NaN    19432.25\n",
       "     10            NaN         NaN         NaN         NaN    14256.00\n",
       "     12            NaN     2796.50         NaN         NaN         NaN\n",
       "...                ...         ...         ...         ...         ...\n",
       "2015 8      1149909.75  1536688.75  1491727.50   880038.75   852688.00\n",
       "     9       757929.75  1287596.50  1386275.50   879593.25   686892.25\n",
       "     10      971295.50  2361789.00  2243754.50  1080193.75  1112724.25\n",
       "     11      998115.50  1679571.50  2017138.00   858076.25   542300.00\n",
       "     12     1094781.50  1775188.00  1941545.75  1083162.50   871467.50\n",
       "\n",
       "[99 rows x 5 columns]"
      ]
     },
     "execution_count": 20,
     "metadata": {},
     "output_type": "execute_result"
    }
   ],
   "source": [
    "data.groupby(['year', 'month', 'market'])['disbursed_amount'].sum().unstack()"
   ]
  },
  {
   "cell_type": "code",
   "execution_count": 21,
   "metadata": {
    "ExecuteTime": {
     "end_time": "2022-05-28T10:53:07.863472Z",
     "start_time": "2022-05-28T10:53:07.787083Z"
    }
   },
   "outputs": [
    {
     "data": {
      "text/html": [
       "<div>\n",
       "<style scoped>\n",
       "    .dataframe tbody tr th:only-of-type {\n",
       "        vertical-align: middle;\n",
       "    }\n",
       "\n",
       "    .dataframe tbody tr th {\n",
       "        vertical-align: top;\n",
       "    }\n",
       "\n",
       "    .dataframe thead th {\n",
       "        text-align: right;\n",
       "    }\n",
       "</style>\n",
       "<table border=\"1\" class=\"dataframe\">\n",
       "  <thead>\n",
       "    <tr style=\"text-align: right;\">\n",
       "      <th></th>\n",
       "      <th>market</th>\n",
       "      <th>A</th>\n",
       "      <th>B</th>\n",
       "      <th>C</th>\n",
       "      <th>D</th>\n",
       "      <th>E</th>\n",
       "    </tr>\n",
       "    <tr>\n",
       "      <th>year</th>\n",
       "      <th>month</th>\n",
       "      <th></th>\n",
       "      <th></th>\n",
       "      <th></th>\n",
       "      <th></th>\n",
       "      <th></th>\n",
       "    </tr>\n",
       "  </thead>\n",
       "  <tbody>\n",
       "    <tr>\n",
       "      <th rowspan=\"5\" valign=\"top\">2007</th>\n",
       "      <th>7</th>\n",
       "      <td>1820.0</td>\n",
       "      <td>NaN</td>\n",
       "      <td>NaN</td>\n",
       "      <td>NaN</td>\n",
       "      <td>NaN</td>\n",
       "    </tr>\n",
       "    <tr>\n",
       "      <th>8</th>\n",
       "      <td>NaN</td>\n",
       "      <td>NaN</td>\n",
       "      <td>NaN</td>\n",
       "      <td>NaN</td>\n",
       "      <td>18600.00</td>\n",
       "    </tr>\n",
       "    <tr>\n",
       "      <th>9</th>\n",
       "      <td>NaN</td>\n",
       "      <td>NaN</td>\n",
       "      <td>NaN</td>\n",
       "      <td>NaN</td>\n",
       "      <td>19432.25</td>\n",
       "    </tr>\n",
       "    <tr>\n",
       "      <th>10</th>\n",
       "      <td>NaN</td>\n",
       "      <td>NaN</td>\n",
       "      <td>NaN</td>\n",
       "      <td>NaN</td>\n",
       "      <td>14256.00</td>\n",
       "    </tr>\n",
       "    <tr>\n",
       "      <th>12</th>\n",
       "      <td>NaN</td>\n",
       "      <td>2796.5</td>\n",
       "      <td>NaN</td>\n",
       "      <td>NaN</td>\n",
       "      <td>NaN</td>\n",
       "    </tr>\n",
       "  </tbody>\n",
       "</table>\n",
       "</div>"
      ],
      "text/plain": [
       "market           A       B   C   D         E\n",
       "year month                                  \n",
       "2007 7      1820.0     NaN NaN NaN       NaN\n",
       "     8         NaN     NaN NaN NaN  18600.00\n",
       "     9         NaN     NaN NaN NaN  19432.25\n",
       "     10        NaN     NaN NaN NaN  14256.00\n",
       "     12        NaN  2796.5 NaN NaN       NaN"
      ]
     },
     "execution_count": 21,
     "metadata": {},
     "output_type": "execute_result"
    }
   ],
   "source": [
    "data.groupby(['year', 'month', 'market'])['disbursed_amount'].sum().unstack().head()"
   ]
  },
  {
   "cell_type": "code",
   "execution_count": 22,
   "metadata": {
    "ExecuteTime": {
     "end_time": "2022-05-28T10:55:20.989244Z",
     "start_time": "2022-05-28T10:55:20.603592Z"
    }
   },
   "outputs": [
    {
     "data": {
      "text/plain": [
       "Text(0, 0.5, 'Disbursed Amount')"
      ]
     },
     "execution_count": 22,
     "metadata": {},
     "output_type": "execute_result"
    },
    {
     "data": {
      "image/png": "[encoded data removed]",
      "text/plain": [
       "<Figure size 1008x576 with 1 Axes>"
      ]
     },
     "metadata": {
      "needs_background": "light"
     },
     "output_type": "display_data"
    }
   ],
   "source": [
    "# let's see how much money Lending has disbursed\n",
    "# (i.e., lent) over the years to the different risk\n",
    "# markets (grade variable)\n",
    "\n",
    "fig = data.groupby(['year','month', 'market'])['disbursed_amount'].sum().unstack().plot(\n",
    "    figsize=(14, 8), linewidth=2)\n",
    "\n",
    "fig.set_title('Disbursed amount in time')\n",
    "fig.set_ylabel('Disbursed Amount')"
   ]
  },
  {
   "cell_type": "markdown",
   "metadata": {},
   "source": [
    "This toy finance company seems to have increased the amount of money lent from 2012 onwards. The tendency indicates that they continue to grow. In addition, we can see that their major business comes from lending money to C and B grades.\n",
    "\n",
    "'A' grades are the lower risk borrowers, borrowers that most likely will be able to repay their loans, as they are typically in a better financial situation. Borrowers within this grade are charged lower interest rates.\n",
    "\n",
    "D and E grades represent the riskier borrowers. Usually borrowers in somewhat tighter financial situations, or for whom there is not sufficient financial history to make a reliable credit assessment. They are typically charged higher rates, as the business, and therefore the investors, take a higher risk when lending them money."
   ]
  },
  {
   "cell_type": "markdown",
   "metadata": {},
   "source": [
    "# Coding cyclic time features "
   ]
  },
  {
   "cell_type": "code",
   "execution_count": 58,
   "metadata": {
    "ExecuteTime": {
     "end_time": "2022-05-28T11:25:24.174809Z",
     "start_time": "2022-05-28T11:25:24.166207Z"
    }
   },
   "outputs": [
    {
     "data": {
      "text/plain": [
       "array([ 6,  5, 10,  8,  7,  9,  3,  2, 12, 11,  4,  1])"
      ]
     },
     "execution_count": 58,
     "metadata": {},
     "output_type": "execute_result"
    }
   ],
   "source": [
    "data['month'].unique()"
   ]
  },
  {
   "cell_type": "code",
   "execution_count": 59,
   "metadata": {
    "ExecuteTime": {
     "end_time": "2022-05-28T11:28:25.901795Z",
     "start_time": "2022-05-28T11:28:25.869421Z"
    }
   },
   "outputs": [],
   "source": [
    "# month=12=2pi i.e. 360\n",
    "# 360/12 = 30\n",
    "# month =1=(pi/6) = 30deg\n",
    "months_sin=np.sin(2*np.pi*data['month']/12) "
   ]
  },
  {
   "cell_type": "code",
   "execution_count": 24,
   "metadata": {
    "ExecuteTime": {
     "end_time": "2022-05-28T11:02:52.989907Z",
     "start_time": "2022-05-28T11:02:52.728504Z"
    }
   },
   "outputs": [
    {
     "data": {
      "text/plain": [
       "[]"
      ]
     },
     "execution_count": 24,
     "metadata": {},
     "output_type": "execute_result"
    },
    {
     "data": {
      "image/png": "[encoded data removed]",
      "text/plain": [
       "<Figure size 432x288 with 1 Axes>"
      ]
     },
     "metadata": {
      "needs_background": "light"
     },
     "output_type": "display_data"
    }
   ],
   "source": [
    "sns.scatterplot(data['month'], months_sin).plot()"
   ]
  },
  {
   "cell_type": "code",
   "execution_count": null,
   "metadata": {
    "ExecuteTime": {
     "end_time": "2022-05-28T05:47:40.414735Z",
     "start_time": "2022-05-28T05:47:40.393371Z"
    }
   },
   "outputs": [],
   "source": [
    "months_sin"
   ]
  },
  {
   "cell_type": "code",
   "execution_count": 25,
   "metadata": {
    "ExecuteTime": {
     "end_time": "2022-05-28T11:04:36.356508Z",
     "start_time": "2022-05-28T11:04:36.324543Z"
    }
   },
   "outputs": [],
   "source": [
    "months_cos=np.cos(2*np.pi*data['month']/12)"
   ]
  },
  {
   "cell_type": "code",
   "execution_count": 26,
   "metadata": {
    "ExecuteTime": {
     "end_time": "2022-05-28T11:04:42.153391Z",
     "start_time": "2022-05-28T11:04:41.884141Z"
    }
   },
   "outputs": [
    {
     "data": {
      "text/plain": [
       "[]"
      ]
     },
     "execution_count": 26,
     "metadata": {},
     "output_type": "execute_result"
    },
    {
     "data": {
      "image/png": "[encoded data removed]",
      "text/plain": [
       "<Figure size 432x288 with 1 Axes>"
      ]
     },
     "metadata": {
      "needs_background": "light"
     },
     "output_type": "display_data"
    }
   ],
   "source": [
    "sns.scatterplot(data['month'], months_cos).plot()"
   ]
  },
  {
   "cell_type": "code",
   "execution_count": null,
   "metadata": {
    "ExecuteTime": {
     "end_time": "2022-05-28T05:47:41.319390Z",
     "start_time": "2022-05-28T05:47:41.306063Z"
    }
   },
   "outputs": [],
   "source": [
    "months_sin"
   ]
  },
  {
   "cell_type": "code",
   "execution_count": null,
   "metadata": {
    "ExecuteTime": {
     "end_time": "2022-05-28T05:47:41.572453Z",
     "start_time": "2022-05-28T05:47:41.545451Z"
    }
   },
   "outputs": [],
   "source": [
    "months_cos"
   ]
  },
  {
   "cell_type": "code",
   "execution_count": 27,
   "metadata": {
    "ExecuteTime": {
     "end_time": "2022-05-28T11:05:30.188562Z",
     "start_time": "2022-05-28T11:05:29.930452Z"
    }
   },
   "outputs": [
    {
     "data": {
      "text/plain": [
       "[]"
      ]
     },
     "execution_count": 27,
     "metadata": {},
     "output_type": "execute_result"
    },
    {
     "data": {
      "image/png": "[encoded data removed]",
      "text/plain": [
       "<Figure size 432x288 with 1 Axes>"
      ]
     },
     "metadata": {
      "needs_background": "light"
     },
     "output_type": "display_data"
    }
   ],
   "source": [
    "sns.scatterplot(months_sin, months_cos).plot()"
   ]
  },
  {
   "cell_type": "code",
   "execution_count": 28,
   "metadata": {
    "ExecuteTime": {
     "end_time": "2022-05-28T11:06:32.850123Z",
     "start_time": "2022-05-28T11:06:32.829884Z"
    }
   },
   "outputs": [],
   "source": [
    "def code_cyclic_features(data,columns,drop_cols=True):\n",
    "    for col in columns:\n",
    "        max_val=max(data[col])\n",
    "\n",
    "        data[col+'_sin']=np.sin(2*np.pi*data[col]/max_val)\n",
    "        data[col+'_cos']=np.cos(2*np.pi*data[col]/max_val)\n",
    "\n",
    "        if drop_cols:\n",
    "            del data[col]\n",
    "    return data  "
   ]
  },
  {
   "cell_type": "code",
   "execution_count": 29,
   "metadata": {
    "ExecuteTime": {
     "end_time": "2022-05-28T11:06:45.396789Z",
     "start_time": "2022-05-28T11:06:45.316720Z"
    }
   },
   "outputs": [
    {
     "data": {
      "text/html": [
       "<div>\n",
       "<style scoped>\n",
       "    .dataframe tbody tr th:only-of-type {\n",
       "        vertical-align: middle;\n",
       "    }\n",
       "\n",
       "    .dataframe tbody tr th {\n",
       "        vertical-align: top;\n",
       "    }\n",
       "\n",
       "    .dataframe thead th {\n",
       "        text-align: right;\n",
       "    }\n",
       "</style>\n",
       "<table border=\"1\" class=\"dataframe\">\n",
       "  <thead>\n",
       "    <tr style=\"text-align: right;\">\n",
       "      <th></th>\n",
       "      <th>customer_id</th>\n",
       "      <th>disbursed_amount</th>\n",
       "      <th>interest</th>\n",
       "      <th>market</th>\n",
       "      <th>employment</th>\n",
       "      <th>time_employed</th>\n",
       "      <th>householder</th>\n",
       "      <th>income</th>\n",
       "      <th>date_issued</th>\n",
       "      <th>target</th>\n",
       "      <th>loan_purpose</th>\n",
       "      <th>number_open_accounts</th>\n",
       "      <th>date_last_payment</th>\n",
       "      <th>number_credit_lines_12</th>\n",
       "      <th>issued_dt</th>\n",
       "      <th>last_payment_dt</th>\n",
       "      <th>year</th>\n",
       "      <th>month_sin</th>\n",
       "      <th>month_cos</th>\n",
       "    </tr>\n",
       "  </thead>\n",
       "  <tbody>\n",
       "    <tr>\n",
       "      <th>0</th>\n",
       "      <td>0</td>\n",
       "      <td>23201.5</td>\n",
       "      <td>15.4840</td>\n",
       "      <td>C</td>\n",
       "      <td>Teacher</td>\n",
       "      <td>&lt;=5 years</td>\n",
       "      <td>RENT</td>\n",
       "      <td>84600.0</td>\n",
       "      <td>2013-06-11</td>\n",
       "      <td>0</td>\n",
       "      <td>Debt consolidation</td>\n",
       "      <td>4.0</td>\n",
       "      <td>2016-01-14</td>\n",
       "      <td>NaN</td>\n",
       "      <td>2013-06-11</td>\n",
       "      <td>2016-01-14</td>\n",
       "      <td>2013</td>\n",
       "      <td>1.224647e-16</td>\n",
       "      <td>-1.000000e+00</td>\n",
       "    </tr>\n",
       "    <tr>\n",
       "      <th>1</th>\n",
       "      <td>1</td>\n",
       "      <td>7425.0</td>\n",
       "      <td>11.2032</td>\n",
       "      <td>B</td>\n",
       "      <td>Accountant</td>\n",
       "      <td>&lt;=5 years</td>\n",
       "      <td>OWNER</td>\n",
       "      <td>102000.0</td>\n",
       "      <td>2014-05-08</td>\n",
       "      <td>0</td>\n",
       "      <td>Car purchase</td>\n",
       "      <td>13.0</td>\n",
       "      <td>2016-01-25</td>\n",
       "      <td>NaN</td>\n",
       "      <td>2014-05-08</td>\n",
       "      <td>2016-01-25</td>\n",
       "      <td>2014</td>\n",
       "      <td>5.000000e-01</td>\n",
       "      <td>-8.660254e-01</td>\n",
       "    </tr>\n",
       "    <tr>\n",
       "      <th>2</th>\n",
       "      <td>2</td>\n",
       "      <td>11150.0</td>\n",
       "      <td>8.5100</td>\n",
       "      <td>A</td>\n",
       "      <td>Statistician</td>\n",
       "      <td>&lt;=5 years</td>\n",
       "      <td>RENT</td>\n",
       "      <td>69840.0</td>\n",
       "      <td>2013-10-26</td>\n",
       "      <td>0</td>\n",
       "      <td>Debt consolidation</td>\n",
       "      <td>8.0</td>\n",
       "      <td>2014-09-26</td>\n",
       "      <td>NaN</td>\n",
       "      <td>2013-10-26</td>\n",
       "      <td>2014-09-26</td>\n",
       "      <td>2013</td>\n",
       "      <td>-8.660254e-01</td>\n",
       "      <td>5.000000e-01</td>\n",
       "    </tr>\n",
       "    <tr>\n",
       "      <th>3</th>\n",
       "      <td>3</td>\n",
       "      <td>7600.0</td>\n",
       "      <td>5.8656</td>\n",
       "      <td>A</td>\n",
       "      <td>Other</td>\n",
       "      <td>&lt;=5 years</td>\n",
       "      <td>RENT</td>\n",
       "      <td>100386.0</td>\n",
       "      <td>2015-08-20</td>\n",
       "      <td>0</td>\n",
       "      <td>Debt consolidation</td>\n",
       "      <td>20.0</td>\n",
       "      <td>2016-01-26</td>\n",
       "      <td>NaN</td>\n",
       "      <td>2015-08-20</td>\n",
       "      <td>2016-01-26</td>\n",
       "      <td>2015</td>\n",
       "      <td>-8.660254e-01</td>\n",
       "      <td>-5.000000e-01</td>\n",
       "    </tr>\n",
       "    <tr>\n",
       "      <th>4</th>\n",
       "      <td>4</td>\n",
       "      <td>31960.0</td>\n",
       "      <td>18.7392</td>\n",
       "      <td>E</td>\n",
       "      <td>Bus driver</td>\n",
       "      <td>&gt;5 years</td>\n",
       "      <td>RENT</td>\n",
       "      <td>95040.0</td>\n",
       "      <td>2014-07-22</td>\n",
       "      <td>0</td>\n",
       "      <td>Debt consolidation</td>\n",
       "      <td>14.0</td>\n",
       "      <td>2016-01-11</td>\n",
       "      <td>NaN</td>\n",
       "      <td>2014-07-22</td>\n",
       "      <td>2016-01-11</td>\n",
       "      <td>2014</td>\n",
       "      <td>-5.000000e-01</td>\n",
       "      <td>-8.660254e-01</td>\n",
       "    </tr>\n",
       "    <tr>\n",
       "      <th>...</th>\n",
       "      <td>...</td>\n",
       "      <td>...</td>\n",
       "      <td>...</td>\n",
       "      <td>...</td>\n",
       "      <td>...</td>\n",
       "      <td>...</td>\n",
       "      <td>...</td>\n",
       "      <td>...</td>\n",
       "      <td>...</td>\n",
       "      <td>...</td>\n",
       "      <td>...</td>\n",
       "      <td>...</td>\n",
       "      <td>...</td>\n",
       "      <td>...</td>\n",
       "      <td>...</td>\n",
       "      <td>...</td>\n",
       "      <td>...</td>\n",
       "      <td>...</td>\n",
       "      <td>...</td>\n",
       "    </tr>\n",
       "    <tr>\n",
       "      <th>9995</th>\n",
       "      <td>9995</td>\n",
       "      <td>23750.0</td>\n",
       "      <td>11.0019</td>\n",
       "      <td>B</td>\n",
       "      <td>Civil Servant</td>\n",
       "      <td>&lt;=5 years</td>\n",
       "      <td>MORTGAGE</td>\n",
       "      <td>98000.0</td>\n",
       "      <td>2010-01-14</td>\n",
       "      <td>0</td>\n",
       "      <td>Other</td>\n",
       "      <td>12.0</td>\n",
       "      <td>2010-11-03</td>\n",
       "      <td>NaN</td>\n",
       "      <td>2010-01-14</td>\n",
       "      <td>2010-11-03</td>\n",
       "      <td>2010</td>\n",
       "      <td>5.000000e-01</td>\n",
       "      <td>8.660254e-01</td>\n",
       "    </tr>\n",
       "    <tr>\n",
       "      <th>9996</th>\n",
       "      <td>9996</td>\n",
       "      <td>11880.0</td>\n",
       "      <td>10.4923</td>\n",
       "      <td>B</td>\n",
       "      <td>Civil Servant</td>\n",
       "      <td>&lt;=5 years</td>\n",
       "      <td>RENT</td>\n",
       "      <td>36270.0</td>\n",
       "      <td>2015-03-20</td>\n",
       "      <td>0</td>\n",
       "      <td>Debt consolidation</td>\n",
       "      <td>17.0</td>\n",
       "      <td>2016-01-26</td>\n",
       "      <td>NaN</td>\n",
       "      <td>2015-03-20</td>\n",
       "      <td>2016-01-26</td>\n",
       "      <td>2015</td>\n",
       "      <td>1.000000e+00</td>\n",
       "      <td>6.123234e-17</td>\n",
       "    </tr>\n",
       "    <tr>\n",
       "      <th>9997</th>\n",
       "      <td>9997</td>\n",
       "      <td>19950.0</td>\n",
       "      <td>8.4364</td>\n",
       "      <td>B</td>\n",
       "      <td>Accountant</td>\n",
       "      <td>&gt;5 years</td>\n",
       "      <td>OWNER</td>\n",
       "      <td>52250.0</td>\n",
       "      <td>2015-04-03</td>\n",
       "      <td>0</td>\n",
       "      <td>Debt consolidation</td>\n",
       "      <td>9.0</td>\n",
       "      <td>2015-12-12</td>\n",
       "      <td>NaN</td>\n",
       "      <td>2015-04-03</td>\n",
       "      <td>2015-12-12</td>\n",
       "      <td>2015</td>\n",
       "      <td>8.660254e-01</td>\n",
       "      <td>-5.000000e-01</td>\n",
       "    </tr>\n",
       "    <tr>\n",
       "      <th>9998</th>\n",
       "      <td>9998</td>\n",
       "      <td>4850.0</td>\n",
       "      <td>13.6409</td>\n",
       "      <td>C</td>\n",
       "      <td>Bus driver</td>\n",
       "      <td>&gt;5 years</td>\n",
       "      <td>RENT</td>\n",
       "      <td>80040.0</td>\n",
       "      <td>2014-11-23</td>\n",
       "      <td>0</td>\n",
       "      <td>Debt consolidation</td>\n",
       "      <td>26.0</td>\n",
       "      <td>2016-01-01</td>\n",
       "      <td>NaN</td>\n",
       "      <td>2014-11-23</td>\n",
       "      <td>2016-01-01</td>\n",
       "      <td>2014</td>\n",
       "      <td>-5.000000e-01</td>\n",
       "      <td>8.660254e-01</td>\n",
       "    </tr>\n",
       "    <tr>\n",
       "      <th>9999</th>\n",
       "      <td>9999</td>\n",
       "      <td>25584.0</td>\n",
       "      <td>17.1456</td>\n",
       "      <td>D</td>\n",
       "      <td>Accountant</td>\n",
       "      <td>&gt;5 years</td>\n",
       "      <td>MORTGAGE</td>\n",
       "      <td>72000.0</td>\n",
       "      <td>2015-01-19</td>\n",
       "      <td>0</td>\n",
       "      <td>Debt consolidation</td>\n",
       "      <td>5.0</td>\n",
       "      <td>2016-01-16</td>\n",
       "      <td>NaN</td>\n",
       "      <td>2015-01-19</td>\n",
       "      <td>2016-01-16</td>\n",
       "      <td>2015</td>\n",
       "      <td>5.000000e-01</td>\n",
       "      <td>8.660254e-01</td>\n",
       "    </tr>\n",
       "  </tbody>\n",
       "</table>\n",
       "<p>10000 rows × 19 columns</p>\n",
       "</div>"
      ],
      "text/plain": [
       "      customer_id  disbursed_amount  interest market     employment  \\\n",
       "0               0           23201.5   15.4840      C        Teacher   \n",
       "1               1            7425.0   11.2032      B     Accountant   \n",
       "2               2           11150.0    8.5100      A   Statistician   \n",
       "3               3            7600.0    5.8656      A          Other   \n",
       "4               4           31960.0   18.7392      E     Bus driver   \n",
       "...           ...               ...       ...    ...            ...   \n",
       "9995         9995           23750.0   11.0019      B  Civil Servant   \n",
       "9996         9996           11880.0   10.4923      B  Civil Servant   \n",
       "9997         9997           19950.0    8.4364      B     Accountant   \n",
       "9998         9998            4850.0   13.6409      C     Bus driver   \n",
       "9999         9999           25584.0   17.1456      D     Accountant   \n",
       "\n",
       "     time_employed householder    income date_issued  target  \\\n",
       "0        <=5 years        RENT   84600.0  2013-06-11       0   \n",
       "1        <=5 years       OWNER  102000.0  2014-05-08       0   \n",
       "2        <=5 years        RENT   69840.0  2013-10-26       0   \n",
       "3        <=5 years        RENT  100386.0  2015-08-20       0   \n",
       "4         >5 years        RENT   95040.0  2014-07-22       0   \n",
       "...            ...         ...       ...         ...     ...   \n",
       "9995     <=5 years    MORTGAGE   98000.0  2010-01-14       0   \n",
       "9996     <=5 years        RENT   36270.0  2015-03-20       0   \n",
       "9997      >5 years       OWNER   52250.0  2015-04-03       0   \n",
       "9998      >5 years        RENT   80040.0  2014-11-23       0   \n",
       "9999      >5 years    MORTGAGE   72000.0  2015-01-19       0   \n",
       "\n",
       "            loan_purpose  number_open_accounts date_last_payment  \\\n",
       "0     Debt consolidation                   4.0        2016-01-14   \n",
       "1           Car purchase                  13.0        2016-01-25   \n",
       "2     Debt consolidation                   8.0        2014-09-26   \n",
       "3     Debt consolidation                  20.0        2016-01-26   \n",
       "4     Debt consolidation                  14.0        2016-01-11   \n",
       "...                  ...                   ...               ...   \n",
       "9995               Other                  12.0        2010-11-03   \n",
       "9996  Debt consolidation                  17.0        2016-01-26   \n",
       "9997  Debt consolidation                   9.0        2015-12-12   \n",
       "9998  Debt consolidation                  26.0        2016-01-01   \n",
       "9999  Debt consolidation                   5.0        2016-01-16   \n",
       "\n",
       "      number_credit_lines_12  issued_dt last_payment_dt  year     month_sin  \\\n",
       "0                        NaN 2013-06-11      2016-01-14  2013  1.224647e-16   \n",
       "1                        NaN 2014-05-08      2016-01-25  2014  5.000000e-01   \n",
       "2                        NaN 2013-10-26      2014-09-26  2013 -8.660254e-01   \n",
       "3                        NaN 2015-08-20      2016-01-26  2015 -8.660254e-01   \n",
       "4                        NaN 2014-07-22      2016-01-11  2014 -5.000000e-01   \n",
       "...                      ...        ...             ...   ...           ...   \n",
       "9995                     NaN 2010-01-14      2010-11-03  2010  5.000000e-01   \n",
       "9996                     NaN 2015-03-20      2016-01-26  2015  1.000000e+00   \n",
       "9997                     NaN 2015-04-03      2015-12-12  2015  8.660254e-01   \n",
       "9998                     NaN 2014-11-23      2016-01-01  2014 -5.000000e-01   \n",
       "9999                     NaN 2015-01-19      2016-01-16  2015  5.000000e-01   \n",
       "\n",
       "         month_cos  \n",
       "0    -1.000000e+00  \n",
       "1    -8.660254e-01  \n",
       "2     5.000000e-01  \n",
       "3    -5.000000e-01  \n",
       "4    -8.660254e-01  \n",
       "...            ...  \n",
       "9995  8.660254e-01  \n",
       "9996  6.123234e-17  \n",
       "9997 -5.000000e-01  \n",
       "9998  8.660254e-01  \n",
       "9999  8.660254e-01  \n",
       "\n",
       "[10000 rows x 19 columns]"
      ]
     },
     "execution_count": 29,
     "metadata": {},
     "output_type": "execute_result"
    }
   ],
   "source": [
    "code_cyclic_features(data, ['month'])"
   ]
  },
  {
   "cell_type": "markdown",
   "metadata": {},
   "source": [
    "# Engineering Dates\n",
    "\n",
    "Date variables are special type of categorical variable. By their own nature, date variables will contain a multitude of different labels, each one corresponding to a specific date and sometimes time. Date variables, when preprocessed properly can highly enrich a dataset. For example, from a date variable we can extract:\n",
    "\n",
    "- Week of the year\n",
    "- Month\n",
    "- Quarter\n",
    "- Semester\n",
    "- Year\n",
    "- Day (number)\n",
    "- Day of the week\n",
    "- Is Weekend?\n",
    "- Time differences in years, months, days, hrs, etc.\n",
    "\n",
    "Date variables should not be used as categorical variables when building a machine learning model. Not only because they have a multitude of categories, but also because when we actually use the model to score a new observation, this observation will most likely be in the future, an therefore its date label, might be different from the ones contained in the training set and therefore the ones used to train the machine learning algorithm."
   ]
  },
  {
   "cell_type": "code",
   "execution_count": 30,
   "metadata": {
    "ExecuteTime": {
     "end_time": "2022-05-28T11:13:07.769769Z",
     "start_time": "2022-05-28T11:13:07.743153Z"
    }
   },
   "outputs": [],
   "source": [
    "import pandas as pd\n",
    "import numpy as np\n",
    "\n",
    "import datetime"
   ]
  },
  {
   "cell_type": "code",
   "execution_count": 31,
   "metadata": {
    "ExecuteTime": {
     "end_time": "2022-05-28T11:13:08.120780Z",
     "start_time": "2022-05-28T11:13:08.090476Z"
    }
   },
   "outputs": [
    {
     "data": {
      "text/html": [
       "<div>\n",
       "<style scoped>\n",
       "    .dataframe tbody tr th:only-of-type {\n",
       "        vertical-align: middle;\n",
       "    }\n",
       "\n",
       "    .dataframe tbody tr th {\n",
       "        vertical-align: top;\n",
       "    }\n",
       "\n",
       "    .dataframe thead th {\n",
       "        text-align: right;\n",
       "    }\n",
       "</style>\n",
       "<table border=\"1\" class=\"dataframe\">\n",
       "  <thead>\n",
       "    <tr style=\"text-align: right;\">\n",
       "      <th></th>\n",
       "      <th>customer_id</th>\n",
       "      <th>disbursed_amount</th>\n",
       "      <th>interest</th>\n",
       "      <th>market</th>\n",
       "      <th>employment</th>\n",
       "      <th>time_employed</th>\n",
       "      <th>householder</th>\n",
       "      <th>income</th>\n",
       "      <th>date_issued</th>\n",
       "      <th>target</th>\n",
       "      <th>loan_purpose</th>\n",
       "      <th>number_open_accounts</th>\n",
       "      <th>date_last_payment</th>\n",
       "      <th>number_credit_lines_12</th>\n",
       "      <th>issued_dt</th>\n",
       "      <th>last_payment_dt</th>\n",
       "      <th>year</th>\n",
       "      <th>month_sin</th>\n",
       "      <th>month_cos</th>\n",
       "    </tr>\n",
       "  </thead>\n",
       "  <tbody>\n",
       "    <tr>\n",
       "      <th>0</th>\n",
       "      <td>0</td>\n",
       "      <td>23201.5</td>\n",
       "      <td>15.4840</td>\n",
       "      <td>C</td>\n",
       "      <td>Teacher</td>\n",
       "      <td>&lt;=5 years</td>\n",
       "      <td>RENT</td>\n",
       "      <td>84600.0</td>\n",
       "      <td>2013-06-11</td>\n",
       "      <td>0</td>\n",
       "      <td>Debt consolidation</td>\n",
       "      <td>4.0</td>\n",
       "      <td>2016-01-14</td>\n",
       "      <td>NaN</td>\n",
       "      <td>2013-06-11</td>\n",
       "      <td>2016-01-14</td>\n",
       "      <td>2013</td>\n",
       "      <td>1.224647e-16</td>\n",
       "      <td>-1.000000</td>\n",
       "    </tr>\n",
       "    <tr>\n",
       "      <th>1</th>\n",
       "      <td>1</td>\n",
       "      <td>7425.0</td>\n",
       "      <td>11.2032</td>\n",
       "      <td>B</td>\n",
       "      <td>Accountant</td>\n",
       "      <td>&lt;=5 years</td>\n",
       "      <td>OWNER</td>\n",
       "      <td>102000.0</td>\n",
       "      <td>2014-05-08</td>\n",
       "      <td>0</td>\n",
       "      <td>Car purchase</td>\n",
       "      <td>13.0</td>\n",
       "      <td>2016-01-25</td>\n",
       "      <td>NaN</td>\n",
       "      <td>2014-05-08</td>\n",
       "      <td>2016-01-25</td>\n",
       "      <td>2014</td>\n",
       "      <td>5.000000e-01</td>\n",
       "      <td>-0.866025</td>\n",
       "    </tr>\n",
       "    <tr>\n",
       "      <th>2</th>\n",
       "      <td>2</td>\n",
       "      <td>11150.0</td>\n",
       "      <td>8.5100</td>\n",
       "      <td>A</td>\n",
       "      <td>Statistician</td>\n",
       "      <td>&lt;=5 years</td>\n",
       "      <td>RENT</td>\n",
       "      <td>69840.0</td>\n",
       "      <td>2013-10-26</td>\n",
       "      <td>0</td>\n",
       "      <td>Debt consolidation</td>\n",
       "      <td>8.0</td>\n",
       "      <td>2014-09-26</td>\n",
       "      <td>NaN</td>\n",
       "      <td>2013-10-26</td>\n",
       "      <td>2014-09-26</td>\n",
       "      <td>2013</td>\n",
       "      <td>-8.660254e-01</td>\n",
       "      <td>0.500000</td>\n",
       "    </tr>\n",
       "    <tr>\n",
       "      <th>3</th>\n",
       "      <td>3</td>\n",
       "      <td>7600.0</td>\n",
       "      <td>5.8656</td>\n",
       "      <td>A</td>\n",
       "      <td>Other</td>\n",
       "      <td>&lt;=5 years</td>\n",
       "      <td>RENT</td>\n",
       "      <td>100386.0</td>\n",
       "      <td>2015-08-20</td>\n",
       "      <td>0</td>\n",
       "      <td>Debt consolidation</td>\n",
       "      <td>20.0</td>\n",
       "      <td>2016-01-26</td>\n",
       "      <td>NaN</td>\n",
       "      <td>2015-08-20</td>\n",
       "      <td>2016-01-26</td>\n",
       "      <td>2015</td>\n",
       "      <td>-8.660254e-01</td>\n",
       "      <td>-0.500000</td>\n",
       "    </tr>\n",
       "    <tr>\n",
       "      <th>4</th>\n",
       "      <td>4</td>\n",
       "      <td>31960.0</td>\n",
       "      <td>18.7392</td>\n",
       "      <td>E</td>\n",
       "      <td>Bus driver</td>\n",
       "      <td>&gt;5 years</td>\n",
       "      <td>RENT</td>\n",
       "      <td>95040.0</td>\n",
       "      <td>2014-07-22</td>\n",
       "      <td>0</td>\n",
       "      <td>Debt consolidation</td>\n",
       "      <td>14.0</td>\n",
       "      <td>2016-01-11</td>\n",
       "      <td>NaN</td>\n",
       "      <td>2014-07-22</td>\n",
       "      <td>2016-01-11</td>\n",
       "      <td>2014</td>\n",
       "      <td>-5.000000e-01</td>\n",
       "      <td>-0.866025</td>\n",
       "    </tr>\n",
       "  </tbody>\n",
       "</table>\n",
       "</div>"
      ],
      "text/plain": [
       "   customer_id  disbursed_amount  interest market    employment time_employed  \\\n",
       "0            0           23201.5   15.4840      C       Teacher     <=5 years   \n",
       "1            1            7425.0   11.2032      B    Accountant     <=5 years   \n",
       "2            2           11150.0    8.5100      A  Statistician     <=5 years   \n",
       "3            3            7600.0    5.8656      A         Other     <=5 years   \n",
       "4            4           31960.0   18.7392      E    Bus driver      >5 years   \n",
       "\n",
       "  householder    income date_issued  target        loan_purpose  \\\n",
       "0        RENT   84600.0  2013-06-11       0  Debt consolidation   \n",
       "1       OWNER  102000.0  2014-05-08       0        Car purchase   \n",
       "2        RENT   69840.0  2013-10-26       0  Debt consolidation   \n",
       "3        RENT  100386.0  2015-08-20       0  Debt consolidation   \n",
       "4        RENT   95040.0  2014-07-22       0  Debt consolidation   \n",
       "\n",
       "   number_open_accounts date_last_payment  number_credit_lines_12  issued_dt  \\\n",
       "0                   4.0        2016-01-14                     NaN 2013-06-11   \n",
       "1                  13.0        2016-01-25                     NaN 2014-05-08   \n",
       "2                   8.0        2014-09-26                     NaN 2013-10-26   \n",
       "3                  20.0        2016-01-26                     NaN 2015-08-20   \n",
       "4                  14.0        2016-01-11                     NaN 2014-07-22   \n",
       "\n",
       "  last_payment_dt  year     month_sin  month_cos  \n",
       "0      2016-01-14  2013  1.224647e-16  -1.000000  \n",
       "1      2016-01-25  2014  5.000000e-01  -0.866025  \n",
       "2      2014-09-26  2013 -8.660254e-01   0.500000  \n",
       "3      2016-01-26  2015 -8.660254e-01  -0.500000  \n",
       "4      2016-01-11  2014 -5.000000e-01  -0.866025  "
      ]
     },
     "execution_count": 31,
     "metadata": {},
     "output_type": "execute_result"
    }
   ],
   "source": [
    "data.head()"
   ]
  },
  {
   "cell_type": "code",
   "execution_count": 32,
   "metadata": {
    "ExecuteTime": {
     "end_time": "2022-05-28T11:13:20.945563Z",
     "start_time": "2022-05-28T11:13:20.908538Z"
    }
   },
   "outputs": [
    {
     "data": {
      "text/html": [
       "<div>\n",
       "<style scoped>\n",
       "    .dataframe tbody tr th:only-of-type {\n",
       "        vertical-align: middle;\n",
       "    }\n",
       "\n",
       "    .dataframe tbody tr th {\n",
       "        vertical-align: top;\n",
       "    }\n",
       "\n",
       "    .dataframe thead th {\n",
       "        text-align: right;\n",
       "    }\n",
       "</style>\n",
       "<table border=\"1\" class=\"dataframe\">\n",
       "  <thead>\n",
       "    <tr style=\"text-align: right;\">\n",
       "      <th></th>\n",
       "      <th>date_issued</th>\n",
       "      <th>issued_dt</th>\n",
       "      <th>date_last_payment</th>\n",
       "      <th>last_payment_dt</th>\n",
       "    </tr>\n",
       "  </thead>\n",
       "  <tbody>\n",
       "    <tr>\n",
       "      <th>0</th>\n",
       "      <td>2013-06-11</td>\n",
       "      <td>2013-06-11</td>\n",
       "      <td>2016-01-14</td>\n",
       "      <td>2016-01-14</td>\n",
       "    </tr>\n",
       "    <tr>\n",
       "      <th>1</th>\n",
       "      <td>2014-05-08</td>\n",
       "      <td>2014-05-08</td>\n",
       "      <td>2016-01-25</td>\n",
       "      <td>2016-01-25</td>\n",
       "    </tr>\n",
       "    <tr>\n",
       "      <th>2</th>\n",
       "      <td>2013-10-26</td>\n",
       "      <td>2013-10-26</td>\n",
       "      <td>2014-09-26</td>\n",
       "      <td>2014-09-26</td>\n",
       "    </tr>\n",
       "    <tr>\n",
       "      <th>3</th>\n",
       "      <td>2015-08-20</td>\n",
       "      <td>2015-08-20</td>\n",
       "      <td>2016-01-26</td>\n",
       "      <td>2016-01-26</td>\n",
       "    </tr>\n",
       "    <tr>\n",
       "      <th>4</th>\n",
       "      <td>2014-07-22</td>\n",
       "      <td>2014-07-22</td>\n",
       "      <td>2016-01-11</td>\n",
       "      <td>2016-01-11</td>\n",
       "    </tr>\n",
       "  </tbody>\n",
       "</table>\n",
       "</div>"
      ],
      "text/plain": [
       "  date_issued  issued_dt date_last_payment last_payment_dt\n",
       "0  2013-06-11 2013-06-11        2016-01-14      2016-01-14\n",
       "1  2014-05-08 2014-05-08        2016-01-25      2016-01-25\n",
       "2  2013-10-26 2013-10-26        2014-09-26      2014-09-26\n",
       "3  2015-08-20 2015-08-20        2016-01-26      2016-01-26\n",
       "4  2014-07-22 2014-07-22        2016-01-11      2016-01-11"
      ]
     },
     "execution_count": 32,
     "metadata": {},
     "output_type": "execute_result"
    }
   ],
   "source": [
    "# now let's parse the dates, currently cast as strings, into datetime format\n",
    "data[['date_issued','issued_dt','date_last_payment', 'last_payment_dt']].head()"
   ]
  },
  {
   "cell_type": "markdown",
   "metadata": {},
   "source": [
    "## Extract week of the year"
   ]
  },
  {
   "cell_type": "code",
   "execution_count": 33,
   "metadata": {
    "ExecuteTime": {
     "end_time": "2022-05-28T11:13:42.460009Z",
     "start_time": "2022-05-28T11:13:42.422402Z"
    }
   },
   "outputs": [
    {
     "data": {
      "text/html": [
       "<div>\n",
       "<style scoped>\n",
       "    .dataframe tbody tr th:only-of-type {\n",
       "        vertical-align: middle;\n",
       "    }\n",
       "\n",
       "    .dataframe tbody tr th {\n",
       "        vertical-align: top;\n",
       "    }\n",
       "\n",
       "    .dataframe thead th {\n",
       "        text-align: right;\n",
       "    }\n",
       "</style>\n",
       "<table border=\"1\" class=\"dataframe\">\n",
       "  <thead>\n",
       "    <tr style=\"text-align: right;\">\n",
       "      <th></th>\n",
       "      <th>issued_dt</th>\n",
       "      <th>issued_dt_week</th>\n",
       "    </tr>\n",
       "  </thead>\n",
       "  <tbody>\n",
       "    <tr>\n",
       "      <th>0</th>\n",
       "      <td>2013-06-11</td>\n",
       "      <td>24</td>\n",
       "    </tr>\n",
       "    <tr>\n",
       "      <th>1</th>\n",
       "      <td>2014-05-08</td>\n",
       "      <td>19</td>\n",
       "    </tr>\n",
       "    <tr>\n",
       "      <th>2</th>\n",
       "      <td>2013-10-26</td>\n",
       "      <td>43</td>\n",
       "    </tr>\n",
       "    <tr>\n",
       "      <th>3</th>\n",
       "      <td>2015-08-20</td>\n",
       "      <td>34</td>\n",
       "    </tr>\n",
       "    <tr>\n",
       "      <th>4</th>\n",
       "      <td>2014-07-22</td>\n",
       "      <td>30</td>\n",
       "    </tr>\n",
       "  </tbody>\n",
       "</table>\n",
       "</div>"
      ],
      "text/plain": [
       "   issued_dt  issued_dt_week\n",
       "0 2013-06-11              24\n",
       "1 2014-05-08              19\n",
       "2 2013-10-26              43\n",
       "3 2015-08-20              34\n",
       "4 2014-07-22              30"
      ]
     },
     "execution_count": 33,
     "metadata": {},
     "output_type": "execute_result"
    }
   ],
   "source": [
    "# Extracting week of year from date, varies from 1 to 52\n",
    "\n",
    "data['issued_dt_week'] = data['issued_dt'].dt.week\n",
    "\n",
    "data[['issued_dt', 'issued_dt_week']].head()"
   ]
  },
  {
   "cell_type": "code",
   "execution_count": 34,
   "metadata": {
    "ExecuteTime": {
     "end_time": "2022-05-28T11:14:07.349119Z",
     "start_time": "2022-05-28T11:14:07.310120Z"
    }
   },
   "outputs": [
    {
     "data": {
      "text/plain": [
       "array([24, 19, 43, 34, 30, 39, 12,  7, 52, 47, 14, 44, 46, 17,  8,  2, 25,\n",
       "       51, 15, 11, 36, 21, 16, 49, 23,  6, 40, 29, 38, 33, 27, 28, 41, 20,\n",
       "       50,  9,  5, 32, 45, 10, 42, 48,  4,  1, 26, 13, 37,  3, 22, 35, 18,\n",
       "       31])"
      ]
     },
     "execution_count": 34,
     "metadata": {},
     "output_type": "execute_result"
    }
   ],
   "source": [
    "data['issued_dt_week'].unique()"
   ]
  },
  {
   "cell_type": "markdown",
   "metadata": {},
   "source": [
    "## Extract month"
   ]
  },
  {
   "cell_type": "code",
   "execution_count": 35,
   "metadata": {
    "ExecuteTime": {
     "end_time": "2022-05-28T11:14:29.066875Z",
     "start_time": "2022-05-28T11:14:29.014042Z"
    }
   },
   "outputs": [
    {
     "data": {
      "text/html": [
       "<div>\n",
       "<style scoped>\n",
       "    .dataframe tbody tr th:only-of-type {\n",
       "        vertical-align: middle;\n",
       "    }\n",
       "\n",
       "    .dataframe tbody tr th {\n",
       "        vertical-align: top;\n",
       "    }\n",
       "\n",
       "    .dataframe thead th {\n",
       "        text-align: right;\n",
       "    }\n",
       "</style>\n",
       "<table border=\"1\" class=\"dataframe\">\n",
       "  <thead>\n",
       "    <tr style=\"text-align: right;\">\n",
       "      <th></th>\n",
       "      <th>issued_dt</th>\n",
       "      <th>issued_dt_month</th>\n",
       "    </tr>\n",
       "  </thead>\n",
       "  <tbody>\n",
       "    <tr>\n",
       "      <th>0</th>\n",
       "      <td>2013-06-11</td>\n",
       "      <td>6</td>\n",
       "    </tr>\n",
       "    <tr>\n",
       "      <th>1</th>\n",
       "      <td>2014-05-08</td>\n",
       "      <td>5</td>\n",
       "    </tr>\n",
       "    <tr>\n",
       "      <th>2</th>\n",
       "      <td>2013-10-26</td>\n",
       "      <td>10</td>\n",
       "    </tr>\n",
       "    <tr>\n",
       "      <th>3</th>\n",
       "      <td>2015-08-20</td>\n",
       "      <td>8</td>\n",
       "    </tr>\n",
       "    <tr>\n",
       "      <th>4</th>\n",
       "      <td>2014-07-22</td>\n",
       "      <td>7</td>\n",
       "    </tr>\n",
       "  </tbody>\n",
       "</table>\n",
       "</div>"
      ],
      "text/plain": [
       "   issued_dt  issued_dt_month\n",
       "0 2013-06-11                6\n",
       "1 2014-05-08                5\n",
       "2 2013-10-26               10\n",
       "3 2015-08-20                8\n",
       "4 2014-07-22                7"
      ]
     },
     "execution_count": 35,
     "metadata": {},
     "output_type": "execute_result"
    }
   ],
   "source": [
    "# Extracting month from date - 1 to 12\n",
    "\n",
    "data['issued_dt_month'] = data['issued_dt'].dt.month\n",
    "\n",
    "data[['issued_dt', 'issued_dt_month']].head()"
   ]
  },
  {
   "cell_type": "code",
   "execution_count": 36,
   "metadata": {
    "ExecuteTime": {
     "end_time": "2022-05-28T11:14:31.070871Z",
     "start_time": "2022-05-28T11:14:31.044770Z"
    }
   },
   "outputs": [
    {
     "data": {
      "text/plain": [
       "array([ 6,  5, 10,  8,  7,  9,  3,  2, 12, 11,  4,  1])"
      ]
     },
     "execution_count": 36,
     "metadata": {},
     "output_type": "execute_result"
    }
   ],
   "source": [
    "data['issued_dt_month'].unique()"
   ]
  },
  {
   "cell_type": "markdown",
   "metadata": {},
   "source": [
    "## Extract quarter"
   ]
  },
  {
   "cell_type": "code",
   "execution_count": 37,
   "metadata": {
    "ExecuteTime": {
     "end_time": "2022-05-28T11:14:54.815278Z",
     "start_time": "2022-05-28T11:14:54.796522Z"
    }
   },
   "outputs": [
    {
     "data": {
      "text/html": [
       "<div>\n",
       "<style scoped>\n",
       "    .dataframe tbody tr th:only-of-type {\n",
       "        vertical-align: middle;\n",
       "    }\n",
       "\n",
       "    .dataframe tbody tr th {\n",
       "        vertical-align: top;\n",
       "    }\n",
       "\n",
       "    .dataframe thead th {\n",
       "        text-align: right;\n",
       "    }\n",
       "</style>\n",
       "<table border=\"1\" class=\"dataframe\">\n",
       "  <thead>\n",
       "    <tr style=\"text-align: right;\">\n",
       "      <th></th>\n",
       "      <th>issued_dt</th>\n",
       "      <th>issued_dt_quarter</th>\n",
       "    </tr>\n",
       "  </thead>\n",
       "  <tbody>\n",
       "    <tr>\n",
       "      <th>0</th>\n",
       "      <td>2013-06-11</td>\n",
       "      <td>2</td>\n",
       "    </tr>\n",
       "    <tr>\n",
       "      <th>1</th>\n",
       "      <td>2014-05-08</td>\n",
       "      <td>2</td>\n",
       "    </tr>\n",
       "    <tr>\n",
       "      <th>2</th>\n",
       "      <td>2013-10-26</td>\n",
       "      <td>4</td>\n",
       "    </tr>\n",
       "    <tr>\n",
       "      <th>3</th>\n",
       "      <td>2015-08-20</td>\n",
       "      <td>3</td>\n",
       "    </tr>\n",
       "    <tr>\n",
       "      <th>4</th>\n",
       "      <td>2014-07-22</td>\n",
       "      <td>3</td>\n",
       "    </tr>\n",
       "  </tbody>\n",
       "</table>\n",
       "</div>"
      ],
      "text/plain": [
       "   issued_dt  issued_dt_quarter\n",
       "0 2013-06-11                  2\n",
       "1 2014-05-08                  2\n",
       "2 2013-10-26                  4\n",
       "3 2015-08-20                  3\n",
       "4 2014-07-22                  3"
      ]
     },
     "execution_count": 37,
     "metadata": {},
     "output_type": "execute_result"
    }
   ],
   "source": [
    "# Extract quarter from date variable - 1 to 4\n",
    "\n",
    "data['issued_dt_quarter'] = data['issued_dt'].dt.quarter\n",
    "\n",
    "data[['issued_dt', 'issued_dt_quarter']].head()"
   ]
  },
  {
   "cell_type": "code",
   "execution_count": 38,
   "metadata": {
    "ExecuteTime": {
     "end_time": "2022-05-28T11:15:22.623167Z",
     "start_time": "2022-05-28T11:15:22.588364Z"
    }
   },
   "outputs": [
    {
     "data": {
      "text/plain": [
       "array([2, 4, 3, 1])"
      ]
     },
     "execution_count": 38,
     "metadata": {},
     "output_type": "execute_result"
    }
   ],
   "source": [
    "data['issued_dt_quarter'].unique()"
   ]
  },
  {
   "cell_type": "markdown",
   "metadata": {},
   "source": [
    "## Extract semester"
   ]
  },
  {
   "cell_type": "code",
   "execution_count": 39,
   "metadata": {
    "ExecuteTime": {
     "end_time": "2022-05-28T11:16:14.412391Z",
     "start_time": "2022-05-28T11:16:14.345413Z"
    }
   },
   "outputs": [
    {
     "data": {
      "text/html": [
       "<div>\n",
       "<style scoped>\n",
       "    .dataframe tbody tr th:only-of-type {\n",
       "        vertical-align: middle;\n",
       "    }\n",
       "\n",
       "    .dataframe tbody tr th {\n",
       "        vertical-align: top;\n",
       "    }\n",
       "\n",
       "    .dataframe thead th {\n",
       "        text-align: right;\n",
       "    }\n",
       "</style>\n",
       "<table border=\"1\" class=\"dataframe\">\n",
       "  <thead>\n",
       "    <tr style=\"text-align: right;\">\n",
       "      <th></th>\n",
       "      <th>customer_id</th>\n",
       "      <th>disbursed_amount</th>\n",
       "      <th>interest</th>\n",
       "      <th>market</th>\n",
       "      <th>employment</th>\n",
       "      <th>time_employed</th>\n",
       "      <th>householder</th>\n",
       "      <th>income</th>\n",
       "      <th>date_issued</th>\n",
       "      <th>target</th>\n",
       "      <th>...</th>\n",
       "      <th>number_credit_lines_12</th>\n",
       "      <th>issued_dt</th>\n",
       "      <th>last_payment_dt</th>\n",
       "      <th>year</th>\n",
       "      <th>month_sin</th>\n",
       "      <th>month_cos</th>\n",
       "      <th>issued_dt_week</th>\n",
       "      <th>issued_dt_month</th>\n",
       "      <th>issued_dt_quarter</th>\n",
       "      <th>issued_dt_semester</th>\n",
       "    </tr>\n",
       "  </thead>\n",
       "  <tbody>\n",
       "    <tr>\n",
       "      <th>0</th>\n",
       "      <td>0</td>\n",
       "      <td>23201.5</td>\n",
       "      <td>15.4840</td>\n",
       "      <td>C</td>\n",
       "      <td>Teacher</td>\n",
       "      <td>&lt;=5 years</td>\n",
       "      <td>RENT</td>\n",
       "      <td>84600.0</td>\n",
       "      <td>2013-06-11</td>\n",
       "      <td>0</td>\n",
       "      <td>...</td>\n",
       "      <td>NaN</td>\n",
       "      <td>2013-06-11</td>\n",
       "      <td>2016-01-14</td>\n",
       "      <td>2013</td>\n",
       "      <td>1.224647e-16</td>\n",
       "      <td>-1.000000</td>\n",
       "      <td>24</td>\n",
       "      <td>6</td>\n",
       "      <td>2</td>\n",
       "      <td>1</td>\n",
       "    </tr>\n",
       "    <tr>\n",
       "      <th>1</th>\n",
       "      <td>1</td>\n",
       "      <td>7425.0</td>\n",
       "      <td>11.2032</td>\n",
       "      <td>B</td>\n",
       "      <td>Accountant</td>\n",
       "      <td>&lt;=5 years</td>\n",
       "      <td>OWNER</td>\n",
       "      <td>102000.0</td>\n",
       "      <td>2014-05-08</td>\n",
       "      <td>0</td>\n",
       "      <td>...</td>\n",
       "      <td>NaN</td>\n",
       "      <td>2014-05-08</td>\n",
       "      <td>2016-01-25</td>\n",
       "      <td>2014</td>\n",
       "      <td>5.000000e-01</td>\n",
       "      <td>-0.866025</td>\n",
       "      <td>19</td>\n",
       "      <td>5</td>\n",
       "      <td>2</td>\n",
       "      <td>1</td>\n",
       "    </tr>\n",
       "    <tr>\n",
       "      <th>2</th>\n",
       "      <td>2</td>\n",
       "      <td>11150.0</td>\n",
       "      <td>8.5100</td>\n",
       "      <td>A</td>\n",
       "      <td>Statistician</td>\n",
       "      <td>&lt;=5 years</td>\n",
       "      <td>RENT</td>\n",
       "      <td>69840.0</td>\n",
       "      <td>2013-10-26</td>\n",
       "      <td>0</td>\n",
       "      <td>...</td>\n",
       "      <td>NaN</td>\n",
       "      <td>2013-10-26</td>\n",
       "      <td>2014-09-26</td>\n",
       "      <td>2013</td>\n",
       "      <td>-8.660254e-01</td>\n",
       "      <td>0.500000</td>\n",
       "      <td>43</td>\n",
       "      <td>10</td>\n",
       "      <td>4</td>\n",
       "      <td>2</td>\n",
       "    </tr>\n",
       "    <tr>\n",
       "      <th>3</th>\n",
       "      <td>3</td>\n",
       "      <td>7600.0</td>\n",
       "      <td>5.8656</td>\n",
       "      <td>A</td>\n",
       "      <td>Other</td>\n",
       "      <td>&lt;=5 years</td>\n",
       "      <td>RENT</td>\n",
       "      <td>100386.0</td>\n",
       "      <td>2015-08-20</td>\n",
       "      <td>0</td>\n",
       "      <td>...</td>\n",
       "      <td>NaN</td>\n",
       "      <td>2015-08-20</td>\n",
       "      <td>2016-01-26</td>\n",
       "      <td>2015</td>\n",
       "      <td>-8.660254e-01</td>\n",
       "      <td>-0.500000</td>\n",
       "      <td>34</td>\n",
       "      <td>8</td>\n",
       "      <td>3</td>\n",
       "      <td>2</td>\n",
       "    </tr>\n",
       "    <tr>\n",
       "      <th>4</th>\n",
       "      <td>4</td>\n",
       "      <td>31960.0</td>\n",
       "      <td>18.7392</td>\n",
       "      <td>E</td>\n",
       "      <td>Bus driver</td>\n",
       "      <td>&gt;5 years</td>\n",
       "      <td>RENT</td>\n",
       "      <td>95040.0</td>\n",
       "      <td>2014-07-22</td>\n",
       "      <td>0</td>\n",
       "      <td>...</td>\n",
       "      <td>NaN</td>\n",
       "      <td>2014-07-22</td>\n",
       "      <td>2016-01-11</td>\n",
       "      <td>2014</td>\n",
       "      <td>-5.000000e-01</td>\n",
       "      <td>-0.866025</td>\n",
       "      <td>30</td>\n",
       "      <td>7</td>\n",
       "      <td>3</td>\n",
       "      <td>2</td>\n",
       "    </tr>\n",
       "  </tbody>\n",
       "</table>\n",
       "<p>5 rows × 23 columns</p>\n",
       "</div>"
      ],
      "text/plain": [
       "   customer_id  disbursed_amount  interest market    employment time_employed  \\\n",
       "0            0           23201.5   15.4840      C       Teacher     <=5 years   \n",
       "1            1            7425.0   11.2032      B    Accountant     <=5 years   \n",
       "2            2           11150.0    8.5100      A  Statistician     <=5 years   \n",
       "3            3            7600.0    5.8656      A         Other     <=5 years   \n",
       "4            4           31960.0   18.7392      E    Bus driver      >5 years   \n",
       "\n",
       "  householder    income date_issued  target  ... number_credit_lines_12  \\\n",
       "0        RENT   84600.0  2013-06-11       0  ...                    NaN   \n",
       "1       OWNER  102000.0  2014-05-08       0  ...                    NaN   \n",
       "2        RENT   69840.0  2013-10-26       0  ...                    NaN   \n",
       "3        RENT  100386.0  2015-08-20       0  ...                    NaN   \n",
       "4        RENT   95040.0  2014-07-22       0  ...                    NaN   \n",
       "\n",
       "   issued_dt last_payment_dt  year     month_sin month_cos  issued_dt_week  \\\n",
       "0 2013-06-11      2016-01-14  2013  1.224647e-16 -1.000000              24   \n",
       "1 2014-05-08      2016-01-25  2014  5.000000e-01 -0.866025              19   \n",
       "2 2013-10-26      2014-09-26  2013 -8.660254e-01  0.500000              43   \n",
       "3 2015-08-20      2016-01-26  2015 -8.660254e-01 -0.500000              34   \n",
       "4 2014-07-22      2016-01-11  2014 -5.000000e-01 -0.866025              30   \n",
       "\n",
       "   issued_dt_month  issued_dt_quarter  issued_dt_semester  \n",
       "0                6                  2                   1  \n",
       "1                5                  2                   1  \n",
       "2               10                  4                   2  \n",
       "3                8                  3                   2  \n",
       "4                7                  3                   2  \n",
       "\n",
       "[5 rows x 23 columns]"
      ]
     },
     "execution_count": 39,
     "metadata": {},
     "output_type": "execute_result"
    }
   ],
   "source": [
    "# We could also extract semester\n",
    "data['issued_dt_semester'] = np.where(data['issued_dt_quarter'].isin([1,2]), 1, 2)\n",
    "data.head()"
   ]
  },
  {
   "cell_type": "code",
   "execution_count": 40,
   "metadata": {
    "ExecuteTime": {
     "end_time": "2022-05-28T11:16:14.862950Z",
     "start_time": "2022-05-28T11:16:14.831199Z"
    }
   },
   "outputs": [
    {
     "data": {
      "text/plain": [
       "array([1, 2])"
      ]
     },
     "execution_count": 40,
     "metadata": {},
     "output_type": "execute_result"
    }
   ],
   "source": [
    "data['issued_dt_semester'].unique()"
   ]
  },
  {
   "cell_type": "markdown",
   "metadata": {},
   "source": [
    "##  Extract year"
   ]
  },
  {
   "cell_type": "code",
   "execution_count": 41,
   "metadata": {
    "ExecuteTime": {
     "end_time": "2022-05-28T11:16:33.236900Z",
     "start_time": "2022-05-28T11:16:33.191144Z"
    }
   },
   "outputs": [
    {
     "data": {
      "text/html": [
       "<div>\n",
       "<style scoped>\n",
       "    .dataframe tbody tr th:only-of-type {\n",
       "        vertical-align: middle;\n",
       "    }\n",
       "\n",
       "    .dataframe tbody tr th {\n",
       "        vertical-align: top;\n",
       "    }\n",
       "\n",
       "    .dataframe thead th {\n",
       "        text-align: right;\n",
       "    }\n",
       "</style>\n",
       "<table border=\"1\" class=\"dataframe\">\n",
       "  <thead>\n",
       "    <tr style=\"text-align: right;\">\n",
       "      <th></th>\n",
       "      <th>issued_dt</th>\n",
       "      <th>issued_dt_year</th>\n",
       "    </tr>\n",
       "  </thead>\n",
       "  <tbody>\n",
       "    <tr>\n",
       "      <th>0</th>\n",
       "      <td>2013-06-11</td>\n",
       "      <td>2013</td>\n",
       "    </tr>\n",
       "    <tr>\n",
       "      <th>1</th>\n",
       "      <td>2014-05-08</td>\n",
       "      <td>2014</td>\n",
       "    </tr>\n",
       "    <tr>\n",
       "      <th>2</th>\n",
       "      <td>2013-10-26</td>\n",
       "      <td>2013</td>\n",
       "    </tr>\n",
       "    <tr>\n",
       "      <th>3</th>\n",
       "      <td>2015-08-20</td>\n",
       "      <td>2015</td>\n",
       "    </tr>\n",
       "    <tr>\n",
       "      <th>4</th>\n",
       "      <td>2014-07-22</td>\n",
       "      <td>2014</td>\n",
       "    </tr>\n",
       "  </tbody>\n",
       "</table>\n",
       "</div>"
      ],
      "text/plain": [
       "   issued_dt  issued_dt_year\n",
       "0 2013-06-11            2013\n",
       "1 2014-05-08            2014\n",
       "2 2013-10-26            2013\n",
       "3 2015-08-20            2015\n",
       "4 2014-07-22            2014"
      ]
     },
     "execution_count": 41,
     "metadata": {},
     "output_type": "execute_result"
    }
   ],
   "source": [
    "# extract year \n",
    "data['issued_dt_year'] = data['issued_dt'].dt.year\n",
    "data[['issued_dt', 'issued_dt_year']].head()"
   ]
  },
  {
   "cell_type": "code",
   "execution_count": 42,
   "metadata": {
    "ExecuteTime": {
     "end_time": "2022-05-28T11:16:33.727579Z",
     "start_time": "2022-05-28T11:16:33.718798Z"
    }
   },
   "outputs": [
    {
     "data": {
      "text/plain": [
       "array([2013, 2014, 2015, 2011, 2009, 2012, 2010, 2008, 2007])"
      ]
     },
     "execution_count": 42,
     "metadata": {},
     "output_type": "execute_result"
    }
   ],
   "source": [
    "data['issued_dt_year'].unique()"
   ]
  },
  {
   "cell_type": "markdown",
   "metadata": {},
   "source": [
    "## Extract days, in various formats"
   ]
  },
  {
   "cell_type": "code",
   "execution_count": 43,
   "metadata": {
    "ExecuteTime": {
     "end_time": "2022-05-28T11:16:45.938988Z",
     "start_time": "2022-05-28T11:16:45.911981Z"
    }
   },
   "outputs": [
    {
     "data": {
      "text/html": [
       "<div>\n",
       "<style scoped>\n",
       "    .dataframe tbody tr th:only-of-type {\n",
       "        vertical-align: middle;\n",
       "    }\n",
       "\n",
       "    .dataframe tbody tr th {\n",
       "        vertical-align: top;\n",
       "    }\n",
       "\n",
       "    .dataframe thead th {\n",
       "        text-align: right;\n",
       "    }\n",
       "</style>\n",
       "<table border=\"1\" class=\"dataframe\">\n",
       "  <thead>\n",
       "    <tr style=\"text-align: right;\">\n",
       "      <th></th>\n",
       "      <th>issued_dt</th>\n",
       "      <th>issued_dt_day</th>\n",
       "    </tr>\n",
       "  </thead>\n",
       "  <tbody>\n",
       "    <tr>\n",
       "      <th>0</th>\n",
       "      <td>2013-06-11</td>\n",
       "      <td>11</td>\n",
       "    </tr>\n",
       "    <tr>\n",
       "      <th>1</th>\n",
       "      <td>2014-05-08</td>\n",
       "      <td>8</td>\n",
       "    </tr>\n",
       "    <tr>\n",
       "      <th>2</th>\n",
       "      <td>2013-10-26</td>\n",
       "      <td>26</td>\n",
       "    </tr>\n",
       "    <tr>\n",
       "      <th>3</th>\n",
       "      <td>2015-08-20</td>\n",
       "      <td>20</td>\n",
       "    </tr>\n",
       "    <tr>\n",
       "      <th>4</th>\n",
       "      <td>2014-07-22</td>\n",
       "      <td>22</td>\n",
       "    </tr>\n",
       "  </tbody>\n",
       "</table>\n",
       "</div>"
      ],
      "text/plain": [
       "   issued_dt  issued_dt_day\n",
       "0 2013-06-11             11\n",
       "1 2014-05-08              8\n",
       "2 2013-10-26             26\n",
       "3 2015-08-20             20\n",
       "4 2014-07-22             22"
      ]
     },
     "execution_count": 43,
     "metadata": {},
     "output_type": "execute_result"
    }
   ],
   "source": [
    "# day - numeric from 1-31\n",
    "data['issued_dt_day'] = data['issued_dt'].dt.day\n",
    "\n",
    "data[['issued_dt', 'issued_dt_day']].head()"
   ]
  },
  {
   "cell_type": "code",
   "execution_count": 44,
   "metadata": {
    "ExecuteTime": {
     "end_time": "2022-05-28T11:16:57.965438Z",
     "start_time": "2022-05-28T11:16:57.938892Z"
    }
   },
   "outputs": [
    {
     "data": {
      "text/plain": [
       "array([11,  8, 26, 20, 22, 21, 27, 14, 25,  4, 13, 23, 19, 18, 24, 17,  6,\n",
       "        1, 12, 10,  5,  3,  7,  2,  9, 16, 15])"
      ]
     },
     "execution_count": 44,
     "metadata": {},
     "output_type": "execute_result"
    }
   ],
   "source": [
    "data['issued_dt_day'].unique()"
   ]
  },
  {
   "cell_type": "code",
   "execution_count": 45,
   "metadata": {
    "ExecuteTime": {
     "end_time": "2022-05-28T11:17:20.915572Z",
     "start_time": "2022-05-28T11:17:20.869288Z"
    }
   },
   "outputs": [
    {
     "data": {
      "text/html": [
       "<div>\n",
       "<style scoped>\n",
       "    .dataframe tbody tr th:only-of-type {\n",
       "        vertical-align: middle;\n",
       "    }\n",
       "\n",
       "    .dataframe tbody tr th {\n",
       "        vertical-align: top;\n",
       "    }\n",
       "\n",
       "    .dataframe thead th {\n",
       "        text-align: right;\n",
       "    }\n",
       "</style>\n",
       "<table border=\"1\" class=\"dataframe\">\n",
       "  <thead>\n",
       "    <tr style=\"text-align: right;\">\n",
       "      <th></th>\n",
       "      <th>issued_dt</th>\n",
       "      <th>issued_dt_dayofweek</th>\n",
       "    </tr>\n",
       "  </thead>\n",
       "  <tbody>\n",
       "    <tr>\n",
       "      <th>0</th>\n",
       "      <td>2013-06-11</td>\n",
       "      <td>1</td>\n",
       "    </tr>\n",
       "    <tr>\n",
       "      <th>1</th>\n",
       "      <td>2014-05-08</td>\n",
       "      <td>3</td>\n",
       "    </tr>\n",
       "    <tr>\n",
       "      <th>2</th>\n",
       "      <td>2013-10-26</td>\n",
       "      <td>5</td>\n",
       "    </tr>\n",
       "    <tr>\n",
       "      <th>3</th>\n",
       "      <td>2015-08-20</td>\n",
       "      <td>3</td>\n",
       "    </tr>\n",
       "    <tr>\n",
       "      <th>4</th>\n",
       "      <td>2014-07-22</td>\n",
       "      <td>1</td>\n",
       "    </tr>\n",
       "  </tbody>\n",
       "</table>\n",
       "</div>"
      ],
      "text/plain": [
       "   issued_dt  issued_dt_dayofweek\n",
       "0 2013-06-11                    1\n",
       "1 2014-05-08                    3\n",
       "2 2013-10-26                    5\n",
       "3 2015-08-20                    3\n",
       "4 2014-07-22                    1"
      ]
     },
     "execution_count": 45,
     "metadata": {},
     "output_type": "execute_result"
    }
   ],
   "source": [
    "# day of the week - from 0 to 6\n",
    "data['issued_dt_dayofweek'] = data['issued_dt'].dt.dayofweek\n",
    "data[['issued_dt', 'issued_dt_dayofweek']].head()"
   ]
  },
  {
   "cell_type": "code",
   "execution_count": 46,
   "metadata": {
    "ExecuteTime": {
     "end_time": "2022-05-28T11:17:32.306144Z",
     "start_time": "2022-05-28T11:17:32.268056Z"
    }
   },
   "outputs": [
    {
     "data": {
      "text/plain": [
       "array([1, 3, 5, 2, 6, 4, 0])"
      ]
     },
     "execution_count": 46,
     "metadata": {},
     "output_type": "execute_result"
    }
   ],
   "source": [
    "data['issued_dt_dayofweek'].unique()"
   ]
  },
  {
   "cell_type": "code",
   "execution_count": 47,
   "metadata": {
    "ExecuteTime": {
     "end_time": "2022-05-28T11:18:16.943618Z",
     "start_time": "2022-05-28T11:18:16.922827Z"
    }
   },
   "outputs": [
    {
     "data": {
      "text/html": [
       "<div>\n",
       "<style scoped>\n",
       "    .dataframe tbody tr th:only-of-type {\n",
       "        vertical-align: middle;\n",
       "    }\n",
       "\n",
       "    .dataframe tbody tr th {\n",
       "        vertical-align: top;\n",
       "    }\n",
       "\n",
       "    .dataframe thead th {\n",
       "        text-align: right;\n",
       "    }\n",
       "</style>\n",
       "<table border=\"1\" class=\"dataframe\">\n",
       "  <thead>\n",
       "    <tr style=\"text-align: right;\">\n",
       "      <th></th>\n",
       "      <th>issued_dt</th>\n",
       "      <th>issued_dt_dayofweek</th>\n",
       "    </tr>\n",
       "  </thead>\n",
       "  <tbody>\n",
       "    <tr>\n",
       "      <th>0</th>\n",
       "      <td>2013-06-11</td>\n",
       "      <td>Tuesday</td>\n",
       "    </tr>\n",
       "    <tr>\n",
       "      <th>1</th>\n",
       "      <td>2014-05-08</td>\n",
       "      <td>Thursday</td>\n",
       "    </tr>\n",
       "    <tr>\n",
       "      <th>2</th>\n",
       "      <td>2013-10-26</td>\n",
       "      <td>Saturday</td>\n",
       "    </tr>\n",
       "    <tr>\n",
       "      <th>3</th>\n",
       "      <td>2015-08-20</td>\n",
       "      <td>Thursday</td>\n",
       "    </tr>\n",
       "    <tr>\n",
       "      <th>4</th>\n",
       "      <td>2014-07-22</td>\n",
       "      <td>Tuesday</td>\n",
       "    </tr>\n",
       "  </tbody>\n",
       "</table>\n",
       "</div>"
      ],
      "text/plain": [
       "   issued_dt issued_dt_dayofweek\n",
       "0 2013-06-11             Tuesday\n",
       "1 2014-05-08            Thursday\n",
       "2 2013-10-26            Saturday\n",
       "3 2015-08-20            Thursday\n",
       "4 2014-07-22             Tuesday"
      ]
     },
     "execution_count": 47,
     "metadata": {},
     "output_type": "execute_result"
    }
   ],
   "source": [
    "# day of the week - name\n",
    "data['issued_dt_dayofweek'] = data['issued_dt'].dt.day_name()\n",
    "data[['issued_dt', 'issued_dt_dayofweek']].head()"
   ]
  },
  {
   "cell_type": "code",
   "execution_count": 48,
   "metadata": {
    "ExecuteTime": {
     "end_time": "2022-05-28T11:18:46.756364Z",
     "start_time": "2022-05-28T11:18:46.713769Z"
    }
   },
   "outputs": [
    {
     "data": {
      "text/plain": [
       "array(['Tuesday', 'Thursday', 'Saturday', 'Wednesday', 'Sunday', 'Friday',\n",
       "       'Monday'], dtype=object)"
      ]
     },
     "execution_count": 48,
     "metadata": {},
     "output_type": "execute_result"
    }
   ],
   "source": [
    "data['issued_dt_dayofweek'].unique()"
   ]
  },
  {
   "cell_type": "code",
   "execution_count": 49,
   "metadata": {
    "ExecuteTime": {
     "end_time": "2022-05-28T11:20:32.432702Z",
     "start_time": "2022-05-28T11:20:32.411159Z"
    }
   },
   "outputs": [
    {
     "data": {
      "text/html": [
       "<div>\n",
       "<style scoped>\n",
       "    .dataframe tbody tr th:only-of-type {\n",
       "        vertical-align: middle;\n",
       "    }\n",
       "\n",
       "    .dataframe tbody tr th {\n",
       "        vertical-align: top;\n",
       "    }\n",
       "\n",
       "    .dataframe thead th {\n",
       "        text-align: right;\n",
       "    }\n",
       "</style>\n",
       "<table border=\"1\" class=\"dataframe\">\n",
       "  <thead>\n",
       "    <tr style=\"text-align: right;\">\n",
       "      <th></th>\n",
       "      <th>issued_dt</th>\n",
       "      <th>issued_dt_dayofweek</th>\n",
       "      <th>issued_dt_is_weekend</th>\n",
       "    </tr>\n",
       "  </thead>\n",
       "  <tbody>\n",
       "    <tr>\n",
       "      <th>0</th>\n",
       "      <td>2013-06-11</td>\n",
       "      <td>Tuesday</td>\n",
       "      <td>0</td>\n",
       "    </tr>\n",
       "    <tr>\n",
       "      <th>1</th>\n",
       "      <td>2014-05-08</td>\n",
       "      <td>Thursday</td>\n",
       "      <td>0</td>\n",
       "    </tr>\n",
       "    <tr>\n",
       "      <th>2</th>\n",
       "      <td>2013-10-26</td>\n",
       "      <td>Saturday</td>\n",
       "      <td>1</td>\n",
       "    </tr>\n",
       "    <tr>\n",
       "      <th>3</th>\n",
       "      <td>2015-08-20</td>\n",
       "      <td>Thursday</td>\n",
       "      <td>0</td>\n",
       "    </tr>\n",
       "    <tr>\n",
       "      <th>4</th>\n",
       "      <td>2014-07-22</td>\n",
       "      <td>Tuesday</td>\n",
       "      <td>0</td>\n",
       "    </tr>\n",
       "  </tbody>\n",
       "</table>\n",
       "</div>"
      ],
      "text/plain": [
       "   issued_dt issued_dt_dayofweek  issued_dt_is_weekend\n",
       "0 2013-06-11             Tuesday                     0\n",
       "1 2014-05-08            Thursday                     0\n",
       "2 2013-10-26            Saturday                     1\n",
       "3 2015-08-20            Thursday                     0\n",
       "4 2014-07-22             Tuesday                     0"
      ]
     },
     "execution_count": 49,
     "metadata": {},
     "output_type": "execute_result"
    }
   ],
   "source": [
    "# was the application done on the weekend?\n",
    "\n",
    "data['issued_dt_is_weekend'] = np.where(data['issued_dt_dayofweek'].isin(['Sunday', 'Saturday']), 1,0)\n",
    "data[['issued_dt', 'issued_dt_dayofweek','issued_dt_is_weekend']].head()"
   ]
  },
  {
   "cell_type": "code",
   "execution_count": 50,
   "metadata": {
    "ExecuteTime": {
     "end_time": "2022-05-28T11:21:25.872702Z",
     "start_time": "2022-05-28T11:21:25.861888Z"
    }
   },
   "outputs": [
    {
     "data": {
      "text/plain": [
       "array([0, 1])"
      ]
     },
     "execution_count": 50,
     "metadata": {},
     "output_type": "execute_result"
    }
   ],
   "source": [
    "data['issued_dt_is_weekend'].unique()"
   ]
  },
  {
   "cell_type": "markdown",
   "metadata": {},
   "source": [
    "## Extract Time elapsed between dates"
   ]
  },
  {
   "cell_type": "code",
   "execution_count": 51,
   "metadata": {
    "ExecuteTime": {
     "end_time": "2022-05-28T11:21:42.540493Z",
     "start_time": "2022-05-28T11:21:42.491616Z"
    },
    "scrolled": true
   },
   "outputs": [
    {
     "data": {
      "text/plain": [
       "0      -947 days\n",
       "1      -627 days\n",
       "2      -335 days\n",
       "3      -159 days\n",
       "4      -538 days\n",
       "          ...   \n",
       "9995   -293 days\n",
       "9996   -312 days\n",
       "9997   -253 days\n",
       "9998   -404 days\n",
       "9999   -362 days\n",
       "Length: 10000, dtype: timedelta64[ns]"
      ]
     },
     "execution_count": 51,
     "metadata": {},
     "output_type": "execute_result"
    }
   ],
   "source": [
    "# perhaps more interestingly, extract the date difference between 2 dates\n",
    "\n",
    "data['issued_dt'] - data['last_payment_dt']"
   ]
  },
  {
   "cell_type": "code",
   "execution_count": 53,
   "metadata": {
    "ExecuteTime": {
     "end_time": "2022-05-28T11:22:05.309454Z",
     "start_time": "2022-05-28T11:22:05.255121Z"
    }
   },
   "outputs": [
    {
     "data": {
      "text/plain": [
       "0    947\n",
       "1    627\n",
       "2    335\n",
       "3    159\n",
       "4    538\n",
       "dtype: int64"
      ]
     },
     "execution_count": 53,
     "metadata": {},
     "output_type": "execute_result"
    }
   ],
   "source": [
    "# same as above capturing just the time difference\n",
    "\n",
    "(data['last_payment_dt'] - data['issued_dt']).dt.days.head()"
   ]
  },
  {
   "cell_type": "code",
   "execution_count": 54,
   "metadata": {
    "ExecuteTime": {
     "end_time": "2022-05-28T11:22:29.590061Z",
     "start_time": "2022-05-28T11:22:29.533299Z"
    },
    "scrolled": true
   },
   "outputs": [
    {
     "data": {
      "text/html": [
       "<div>\n",
       "<style scoped>\n",
       "    .dataframe tbody tr th:only-of-type {\n",
       "        vertical-align: middle;\n",
       "    }\n",
       "\n",
       "    .dataframe tbody tr th {\n",
       "        vertical-align: top;\n",
       "    }\n",
       "\n",
       "    .dataframe thead th {\n",
       "        text-align: right;\n",
       "    }\n",
       "</style>\n",
       "<table border=\"1\" class=\"dataframe\">\n",
       "  <thead>\n",
       "    <tr style=\"text-align: right;\">\n",
       "      <th></th>\n",
       "      <th>last_payment_dt</th>\n",
       "      <th>issued_dt</th>\n",
       "      <th>months_passed</th>\n",
       "    </tr>\n",
       "  </thead>\n",
       "  <tbody>\n",
       "    <tr>\n",
       "      <th>0</th>\n",
       "      <td>2016-01-14</td>\n",
       "      <td>2013-06-11</td>\n",
       "      <td>31.0</td>\n",
       "    </tr>\n",
       "    <tr>\n",
       "      <th>1</th>\n",
       "      <td>2016-01-25</td>\n",
       "      <td>2014-05-08</td>\n",
       "      <td>21.0</td>\n",
       "    </tr>\n",
       "    <tr>\n",
       "      <th>2</th>\n",
       "      <td>2014-09-26</td>\n",
       "      <td>2013-10-26</td>\n",
       "      <td>11.0</td>\n",
       "    </tr>\n",
       "    <tr>\n",
       "      <th>3</th>\n",
       "      <td>2016-01-26</td>\n",
       "      <td>2015-08-20</td>\n",
       "      <td>5.0</td>\n",
       "    </tr>\n",
       "    <tr>\n",
       "      <th>4</th>\n",
       "      <td>2016-01-11</td>\n",
       "      <td>2014-07-22</td>\n",
       "      <td>18.0</td>\n",
       "    </tr>\n",
       "  </tbody>\n",
       "</table>\n",
       "</div>"
      ],
      "text/plain": [
       "  last_payment_dt  issued_dt  months_passed\n",
       "0      2016-01-14 2013-06-11           31.0\n",
       "1      2016-01-25 2014-05-08           21.0\n",
       "2      2014-09-26 2013-10-26           11.0\n",
       "3      2016-01-26 2015-08-20            5.0\n",
       "4      2016-01-11 2014-07-22           18.0"
      ]
     },
     "execution_count": 54,
     "metadata": {},
     "output_type": "execute_result"
    }
   ],
   "source": [
    "# calculate number of months passed between 2 dates\n",
    "# The date units are years (‘Y’), months (‘M’), weeks (‘W’), and days (‘D’), \n",
    "# while the time units are hours (‘h’), minutes (‘m’), seconds (‘s’), milliseconds (‘ms’)\n",
    "\n",
    "data['months_passed'] = (data['last_payment_dt'] - data['issued_dt']) / np.timedelta64(1, 'M')\n",
    "data['months_passed'] = np.round(data['months_passed'],0)\n",
    "\n",
    "data[['last_payment_dt', 'issued_dt','months_passed']].head()"
   ]
  }
 ],
 "metadata": {
  "kernelspec": {
   "display_name": "Python 3 (ipykernel)",
   "language": "python",
   "name": "python3"
  },
  "language_info": {
   "codemirror_mode": {
    "name": "ipython",
    "version": 3
   },
   "file_extension": ".py",
   "mimetype": "text/x-python",
   "name": "python",
   "nbconvert_exporter": "python",
   "pygments_lexer": "ipython3",
   "version": "3.7.11"
  }
 },
 "nbformat": 4,
 "nbformat_minor": 2
}
