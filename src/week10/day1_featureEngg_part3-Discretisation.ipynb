{
 "cells": [
  {
   "cell_type": "markdown",
   "id": "3130f8fb",
   "metadata": {},
   "source": [
    "## Discretisation\n",
    "\n",
    "Discretisation is the process of transforming continuous variables into discrete variables by creating a set of contiguous intervals that span the range of the variable's values. Discretisation is also called **binning**, where bin is an alternative name for interval."
   ]
  },
  {
   "cell_type": "markdown",
   "id": "fe721f43",
   "metadata": {},
   "source": [
    "### Discretisation helps handle outliers and may improve value spread in skewed variables\n",
    "\n",
    "Discretisation helps handle outliers by placing these values into the lower or higher intervals, together with the remaining inlier values of the distribution. Thus, these outlier observations no longer differ from the rest of the values at the tails of the distribution, as they are now all together in the same interval / bucket. In addition, by creating appropriate bins or intervals, discretisation can help spread the values of a skewed variable across a set of bins with equal number of observations.\n",
    "\n",
    "\n",
    "### Discretisation approaches\n",
    "\n",
    "There are several approaches to transform continuous variables into discrete ones. Discretisation methods fall into 2 categories: **supervised and unsupervised**. Unsupervised methods do not use any information, other than the variable distribution, to create the contiguous bins in which the values will be placed. Supervised methods typically use target information in order to create the bins or intervals.\n",
    "\n",
    "\n",
    "####  Unsupervised discretisation methods\n",
    "\n",
    "- Equal width discretisation\n",
    "- Equal frequency discretisation\n",
    "- K-means discretisation\n",
    "\n",
    "#### Supervised discretisation methods\n",
    "\n",
    "- Discretisation using decision trees"
   ]
  },
  {
   "cell_type": "markdown",
   "id": "a9af83f9",
   "metadata": {
    "heading_collapsed": true
   },
   "source": [
    "# 1. Equal width discretisation\n",
    "\n",
    "Equal width discretisation divides the scope of possible values into N bins of the same width.The width is determined by the range of values in the variable and the number of bins we wish to use to divide the variable:\n",
    "\n",
    "width = (max value - min value) / N\n",
    "\n",
    "where N is the number of bins or intervals.\n",
    "\n",
    "For example if the values of the variable vary between 0 and 100, we create 5 bins like this: width = (100-0) / 5 = 20. The bins thus are 0-20, 20-40, 40-60, 80-100. The first and final bins (0-20 and 80-100) can be expanded to accommodate outliers (that is, values under 0 or greater than 100 would be placed in those bins as well).\n",
    "\n",
    "There is no rule of thumb to define N, that is something to determine experimentally."
   ]
  },
  {
   "cell_type": "code",
   "execution_count": 1,
   "id": "79f3e0ec",
   "metadata": {
    "ExecuteTime": {
     "end_time": "2022-05-29T09:31:35.755752Z",
     "start_time": "2022-05-29T09:31:35.721777Z"
    },
    "hidden": true
   },
   "outputs": [],
   "source": [
    "# !pip install feature-engine"
   ]
  },
  {
   "cell_type": "code",
   "execution_count": 2,
   "id": "cae0accc",
   "metadata": {
    "ExecuteTime": {
     "end_time": "2022-05-29T09:31:38.327658Z",
     "start_time": "2022-05-29T09:31:36.148370Z"
    },
    "hidden": true
   },
   "outputs": [],
   "source": [
    "import pandas as pd\n",
    "import numpy as np\n",
    "\n",
    "import matplotlib.pyplot as plt\n",
    "\n",
    "from sklearn.model_selection import train_test_split"
   ]
  },
  {
   "cell_type": "code",
   "execution_count": 3,
   "id": "e7ae24c8",
   "metadata": {
    "ExecuteTime": {
     "end_time": "2022-05-29T09:31:48.911217Z",
     "start_time": "2022-05-29T09:31:48.858694Z"
    },
    "hidden": true
   },
   "outputs": [
    {
     "data": {
      "text/html": [
       "<div>\n",
       "<style scoped>\n",
       "    .dataframe tbody tr th:only-of-type {\n",
       "        vertical-align: middle;\n",
       "    }\n",
       "\n",
       "    .dataframe tbody tr th {\n",
       "        vertical-align: top;\n",
       "    }\n",
       "\n",
       "    .dataframe thead th {\n",
       "        text-align: right;\n",
       "    }\n",
       "</style>\n",
       "<table border=\"1\" class=\"dataframe\">\n",
       "  <thead>\n",
       "    <tr style=\"text-align: right;\">\n",
       "      <th></th>\n",
       "      <th>PassengerId</th>\n",
       "      <th>Survived</th>\n",
       "      <th>Pclass</th>\n",
       "      <th>Name</th>\n",
       "      <th>Sex</th>\n",
       "      <th>Age</th>\n",
       "      <th>SibSp</th>\n",
       "      <th>Parch</th>\n",
       "      <th>Ticket</th>\n",
       "      <th>Fare</th>\n",
       "      <th>Cabin</th>\n",
       "      <th>Embarked</th>\n",
       "    </tr>\n",
       "  </thead>\n",
       "  <tbody>\n",
       "    <tr>\n",
       "      <th>0</th>\n",
       "      <td>1</td>\n",
       "      <td>0</td>\n",
       "      <td>3</td>\n",
       "      <td>Braund, Mr. Owen Harris</td>\n",
       "      <td>male</td>\n",
       "      <td>22.0</td>\n",
       "      <td>1</td>\n",
       "      <td>0</td>\n",
       "      <td>A/5 21171</td>\n",
       "      <td>7.2500</td>\n",
       "      <td>NaN</td>\n",
       "      <td>S</td>\n",
       "    </tr>\n",
       "    <tr>\n",
       "      <th>1</th>\n",
       "      <td>2</td>\n",
       "      <td>1</td>\n",
       "      <td>1</td>\n",
       "      <td>Cumings, Mrs. John Bradley (Florence Briggs Th...</td>\n",
       "      <td>female</td>\n",
       "      <td>38.0</td>\n",
       "      <td>1</td>\n",
       "      <td>0</td>\n",
       "      <td>PC 17599</td>\n",
       "      <td>71.2833</td>\n",
       "      <td>C85</td>\n",
       "      <td>C</td>\n",
       "    </tr>\n",
       "    <tr>\n",
       "      <th>2</th>\n",
       "      <td>3</td>\n",
       "      <td>1</td>\n",
       "      <td>3</td>\n",
       "      <td>Heikkinen, Miss. Laina</td>\n",
       "      <td>female</td>\n",
       "      <td>26.0</td>\n",
       "      <td>0</td>\n",
       "      <td>0</td>\n",
       "      <td>STON/O2. 3101282</td>\n",
       "      <td>7.9250</td>\n",
       "      <td>NaN</td>\n",
       "      <td>S</td>\n",
       "    </tr>\n",
       "    <tr>\n",
       "      <th>3</th>\n",
       "      <td>4</td>\n",
       "      <td>1</td>\n",
       "      <td>1</td>\n",
       "      <td>Futrelle, Mrs. Jacques Heath (Lily May Peel)</td>\n",
       "      <td>female</td>\n",
       "      <td>35.0</td>\n",
       "      <td>1</td>\n",
       "      <td>0</td>\n",
       "      <td>113803</td>\n",
       "      <td>53.1000</td>\n",
       "      <td>C123</td>\n",
       "      <td>S</td>\n",
       "    </tr>\n",
       "    <tr>\n",
       "      <th>4</th>\n",
       "      <td>5</td>\n",
       "      <td>0</td>\n",
       "      <td>3</td>\n",
       "      <td>Allen, Mr. William Henry</td>\n",
       "      <td>male</td>\n",
       "      <td>35.0</td>\n",
       "      <td>0</td>\n",
       "      <td>0</td>\n",
       "      <td>373450</td>\n",
       "      <td>8.0500</td>\n",
       "      <td>NaN</td>\n",
       "      <td>S</td>\n",
       "    </tr>\n",
       "  </tbody>\n",
       "</table>\n",
       "</div>"
      ],
      "text/plain": [
       "   PassengerId  Survived  Pclass  \\\n",
       "0            1         0       3   \n",
       "1            2         1       1   \n",
       "2            3         1       3   \n",
       "3            4         1       1   \n",
       "4            5         0       3   \n",
       "\n",
       "                                                Name     Sex   Age  SibSp  \\\n",
       "0                            Braund, Mr. Owen Harris    male  22.0      1   \n",
       "1  Cumings, Mrs. John Bradley (Florence Briggs Th...  female  38.0      1   \n",
       "2                             Heikkinen, Miss. Laina  female  26.0      0   \n",
       "3       Futrelle, Mrs. Jacques Heath (Lily May Peel)  female  35.0      1   \n",
       "4                           Allen, Mr. William Henry    male  35.0      0   \n",
       "\n",
       "   Parch            Ticket     Fare Cabin Embarked  \n",
       "0      0         A/5 21171   7.2500   NaN        S  \n",
       "1      0          PC 17599  71.2833   C85        C  \n",
       "2      0  STON/O2. 3101282   7.9250   NaN        S  \n",
       "3      0            113803  53.1000  C123        S  \n",
       "4      0            373450   8.0500   NaN        S  "
      ]
     },
     "execution_count": 3,
     "metadata": {},
     "output_type": "execute_result"
    }
   ],
   "source": [
    "# load the numerical variables of the Titanic Dataset\n",
    "data = pd.read_csv('./data/titanic.csv')\n",
    "data.head()"
   ]
  },
  {
   "cell_type": "code",
   "execution_count": 5,
   "id": "bae5eda8",
   "metadata": {
    "ExecuteTime": {
     "end_time": "2022-05-29T09:34:14.955460Z",
     "start_time": "2022-05-29T09:34:14.928464Z"
    },
    "hidden": true
   },
   "outputs": [
    {
     "data": {
      "text/plain": [
       "((623, 2), (268, 2))"
      ]
     },
     "execution_count": 5,
     "metadata": {},
     "output_type": "execute_result"
    }
   ],
   "source": [
    "# Let's separate into train and test set\n",
    "\n",
    "X_train, X_test, y_train, y_test = train_test_split(\n",
    "    data[['Age', 'Fare']],\n",
    "    data['Survived'],\n",
    "    test_size=0.3,\n",
    "    random_state=0)\n",
    "\n",
    "X_train.shape, X_test.shape"
   ]
  },
  {
   "cell_type": "markdown",
   "id": "d3cab1f0",
   "metadata": {
    "hidden": true
   },
   "source": [
    "The variables Age and fare contain missing data, that I will fill by extracting a random sample of the variable."
   ]
  },
  {
   "cell_type": "code",
   "execution_count": 6,
   "id": "bf323104",
   "metadata": {
    "ExecuteTime": {
     "end_time": "2022-05-29T09:35:05.435068Z",
     "start_time": "2022-05-29T09:35:05.409566Z"
    },
    "hidden": true
   },
   "outputs": [],
   "source": [
    "def impute_na(data, variable):\n",
    "\n",
    "    df = data.copy()\n",
    "\n",
    "    # random sampling\n",
    "    df[variable + '_random'] = df[variable]\n",
    "\n",
    "    # extract the random sample to fill the na\n",
    "    random_sample = X_train[variable].dropna().sample(\n",
    "        df[variable].isnull().sum(), random_state=0)\n",
    "\n",
    "    # pandas needs to have the same index in order to merge datasets\n",
    "    random_sample.index = df[df[variable].isnull()].index\n",
    "    df.loc[df[variable].isnull(), variable + '_random'] = random_sample\n",
    "\n",
    "    return df[variable + '_random']"
   ]
  },
  {
   "cell_type": "code",
   "execution_count": 7,
   "id": "6f5cba21",
   "metadata": {
    "ExecuteTime": {
     "end_time": "2022-05-29T09:35:15.588981Z",
     "start_time": "2022-05-29T09:35:15.544708Z"
    },
    "hidden": true
   },
   "outputs": [],
   "source": [
    "# replace NA in both  train and test sets\n",
    "\n",
    "X_train['Age'] = impute_na(data, 'Age')\n",
    "X_test['Age'] = impute_na(data, 'Age')\n",
    "\n",
    "X_train['Fare'] = impute_na(data, 'Fare')\n",
    "X_test['Fare'] = impute_na(data, 'Fare')"
   ]
  },
  {
   "cell_type": "code",
   "execution_count": 8,
   "id": "84326d11",
   "metadata": {
    "ExecuteTime": {
     "end_time": "2022-05-29T09:35:21.837071Z",
     "start_time": "2022-05-29T09:35:21.387193Z"
    },
    "hidden": true
   },
   "outputs": [
    {
     "data": {
      "image/png": "[encoded data removed]",
      "text/plain": [
       "<Figure size 576x288 with 2 Axes>"
      ]
     },
     "metadata": {
      "needs_background": "light"
     },
     "output_type": "display_data"
    }
   ],
   "source": [
    "# let's explore the distribution of age\n",
    "\n",
    "data[['Age', 'Fare']].hist(bins=30, figsize=(8,4))\n",
    "plt.show()"
   ]
  },
  {
   "cell_type": "markdown",
   "id": "99b4e681",
   "metadata": {
    "hidden": true
   },
   "source": [
    "## 1.1. Equal width discretisation with pandas and NumPy\n",
    "\n",
    "First we need to determine the intervals' edges or limits."
   ]
  },
  {
   "cell_type": "code",
   "execution_count": 10,
   "id": "7e239ca4",
   "metadata": {
    "ExecuteTime": {
     "end_time": "2022-05-29T09:36:41.448259Z",
     "start_time": "2022-05-29T09:36:41.428087Z"
    },
    "hidden": true
   },
   "outputs": [
    {
     "data": {
      "text/plain": [
       "0.67"
      ]
     },
     "execution_count": 10,
     "metadata": {},
     "output_type": "execute_result"
    }
   ],
   "source": [
    "X_train['Age'].min()"
   ]
  },
  {
   "cell_type": "code",
   "execution_count": 11,
   "id": "1a2934e2",
   "metadata": {
    "ExecuteTime": {
     "end_time": "2022-05-29T09:36:52.622834Z",
     "start_time": "2022-05-29T09:36:52.610361Z"
    },
    "hidden": true
   },
   "outputs": [
    {
     "data": {
      "text/plain": [
       "80.0"
      ]
     },
     "execution_count": 11,
     "metadata": {},
     "output_type": "execute_result"
    }
   ],
   "source": [
    "X_train['Age'].max()"
   ]
  },
  {
   "cell_type": "code",
   "execution_count": 12,
   "id": "ab127b02",
   "metadata": {
    "ExecuteTime": {
     "end_time": "2022-05-29T09:36:56.667490Z",
     "start_time": "2022-05-29T09:36:56.632372Z"
    },
    "hidden": true,
    "scrolled": true
   },
   "outputs": [
    {
     "data": {
      "text/plain": [
       "79.33"
      ]
     },
     "execution_count": 12,
     "metadata": {},
     "output_type": "execute_result"
    }
   ],
   "source": [
    "# let's capture the range of the variable age\n",
    "age_range = X_train['Age'].max() - X_train['Age'].min()\n",
    "\n",
    "age_range"
   ]
  },
  {
   "cell_type": "code",
   "execution_count": 13,
   "id": "426b99e4",
   "metadata": {
    "ExecuteTime": {
     "end_time": "2022-05-29T09:37:21.005563Z",
     "start_time": "2022-05-29T09:37:20.964445Z"
    },
    "hidden": true
   },
   "outputs": [
    {
     "data": {
      "text/plain": [
       "7.933"
      ]
     },
     "execution_count": 13,
     "metadata": {},
     "output_type": "execute_result"
    }
   ],
   "source": [
    "# let's divide the range into 10 equal width bins\n",
    "age_range / 10"
   ]
  },
  {
   "cell_type": "markdown",
   "id": "477ab089",
   "metadata": {
    "hidden": true
   },
   "source": [
    "The range or width of our intervals will be 7 years."
   ]
  },
  {
   "cell_type": "code",
   "execution_count": 14,
   "id": "0622882b",
   "metadata": {
    "ExecuteTime": {
     "end_time": "2022-05-29T09:37:42.951219Z",
     "start_time": "2022-05-29T09:37:42.922670Z"
    },
    "hidden": true
   },
   "outputs": [
    {
     "data": {
      "text/plain": [
       "(0, 80, 8)"
      ]
     },
     "execution_count": 14,
     "metadata": {},
     "output_type": "execute_result"
    }
   ],
   "source": [
    "# now let's capture the lower and upper boundaries\n",
    "\n",
    "min_value = int(np.floor( X_train['Age'].min()))\n",
    "max_value = int(np.ceil( X_train['Age'].max()))\n",
    "\n",
    "# let's round the bin width\n",
    "inter_value = int(np.round(age_range / 10))\n",
    "\n",
    "min_value, max_value, inter_value"
   ]
  },
  {
   "cell_type": "code",
   "execution_count": 15,
   "id": "750ad420",
   "metadata": {
    "ExecuteTime": {
     "end_time": "2022-05-29T09:38:37.482484Z",
     "start_time": "2022-05-29T09:38:37.444878Z"
    },
    "hidden": true,
    "scrolled": false
   },
   "outputs": [
    {
     "data": {
      "text/plain": [
       "[0, 8, 16, 24, 32, 40, 48, 56, 64, 72, 80]"
      ]
     },
     "execution_count": 15,
     "metadata": {},
     "output_type": "execute_result"
    }
   ],
   "source": [
    "# let's capture the interval limits, so we can pass them to the pandas cut \n",
    "# function to generate the bins\n",
    "\n",
    "intervals = [i for i in range(min_value, max_value+inter_value, inter_value)]\n",
    "\n",
    "intervals"
   ]
  },
  {
   "cell_type": "code",
   "execution_count": 16,
   "id": "8b0bf047",
   "metadata": {
    "ExecuteTime": {
     "end_time": "2022-05-29T09:39:08.247754Z",
     "start_time": "2022-05-29T09:39:08.222311Z"
    },
    "hidden": true
   },
   "outputs": [
    {
     "data": {
      "text/plain": [
       "['Bin_1',\n",
       " 'Bin_2',\n",
       " 'Bin_3',\n",
       " 'Bin_4',\n",
       " 'Bin_5',\n",
       " 'Bin_6',\n",
       " 'Bin_7',\n",
       " 'Bin_8',\n",
       " 'Bin_9',\n",
       " 'Bin_10']"
      ]
     },
     "execution_count": 16,
     "metadata": {},
     "output_type": "execute_result"
    }
   ],
   "source": [
    "# let's make labels to label the different bins\n",
    "\n",
    "labels = ['Bin_' + str(i) for i in range(1, len(intervals))]\n",
    "\n",
    "labels"
   ]
  },
  {
   "cell_type": "code",
   "execution_count": 17,
   "id": "bc4446da",
   "metadata": {
    "ExecuteTime": {
     "end_time": "2022-05-29T09:41:30.544651Z",
     "start_time": "2022-05-29T09:41:30.487030Z"
    },
    "hidden": true
   },
   "outputs": [
    {
     "data": {
      "text/html": [
       "<div>\n",
       "<style scoped>\n",
       "    .dataframe tbody tr th:only-of-type {\n",
       "        vertical-align: middle;\n",
       "    }\n",
       "\n",
       "    .dataframe tbody tr th {\n",
       "        vertical-align: top;\n",
       "    }\n",
       "\n",
       "    .dataframe thead th {\n",
       "        text-align: right;\n",
       "    }\n",
       "</style>\n",
       "<table border=\"1\" class=\"dataframe\">\n",
       "  <thead>\n",
       "    <tr style=\"text-align: right;\">\n",
       "      <th></th>\n",
       "      <th>Age</th>\n",
       "      <th>Fare</th>\n",
       "      <th>Age_disc_labels</th>\n",
       "      <th>Age_disc</th>\n",
       "    </tr>\n",
       "  </thead>\n",
       "  <tbody>\n",
       "    <tr>\n",
       "      <th>857</th>\n",
       "      <td>51.0</td>\n",
       "      <td>26.5500</td>\n",
       "      <td>Bin_7</td>\n",
       "      <td>(48.0, 56.0]</td>\n",
       "    </tr>\n",
       "    <tr>\n",
       "      <th>52</th>\n",
       "      <td>49.0</td>\n",
       "      <td>76.7292</td>\n",
       "      <td>Bin_7</td>\n",
       "      <td>(48.0, 56.0]</td>\n",
       "    </tr>\n",
       "    <tr>\n",
       "      <th>386</th>\n",
       "      <td>1.0</td>\n",
       "      <td>46.9000</td>\n",
       "      <td>Bin_1</td>\n",
       "      <td>(-0.001, 8.0]</td>\n",
       "    </tr>\n",
       "    <tr>\n",
       "      <th>124</th>\n",
       "      <td>54.0</td>\n",
       "      <td>77.2875</td>\n",
       "      <td>Bin_7</td>\n",
       "      <td>(48.0, 56.0]</td>\n",
       "    </tr>\n",
       "    <tr>\n",
       "      <th>578</th>\n",
       "      <td>14.5</td>\n",
       "      <td>14.4583</td>\n",
       "      <td>Bin_2</td>\n",
       "      <td>(8.0, 16.0]</td>\n",
       "    </tr>\n",
       "    <tr>\n",
       "      <th>549</th>\n",
       "      <td>8.0</td>\n",
       "      <td>36.7500</td>\n",
       "      <td>Bin_1</td>\n",
       "      <td>(-0.001, 8.0]</td>\n",
       "    </tr>\n",
       "    <tr>\n",
       "      <th>118</th>\n",
       "      <td>24.0</td>\n",
       "      <td>247.5208</td>\n",
       "      <td>Bin_3</td>\n",
       "      <td>(16.0, 24.0]</td>\n",
       "    </tr>\n",
       "    <tr>\n",
       "      <th>12</th>\n",
       "      <td>20.0</td>\n",
       "      <td>8.0500</td>\n",
       "      <td>Bin_3</td>\n",
       "      <td>(16.0, 24.0]</td>\n",
       "    </tr>\n",
       "    <tr>\n",
       "      <th>157</th>\n",
       "      <td>30.0</td>\n",
       "      <td>8.0500</td>\n",
       "      <td>Bin_4</td>\n",
       "      <td>(24.0, 32.0]</td>\n",
       "    </tr>\n",
       "    <tr>\n",
       "      <th>127</th>\n",
       "      <td>24.0</td>\n",
       "      <td>7.1417</td>\n",
       "      <td>Bin_3</td>\n",
       "      <td>(16.0, 24.0]</td>\n",
       "    </tr>\n",
       "  </tbody>\n",
       "</table>\n",
       "</div>"
      ],
      "text/plain": [
       "      Age      Fare Age_disc_labels       Age_disc\n",
       "857  51.0   26.5500           Bin_7   (48.0, 56.0]\n",
       "52   49.0   76.7292           Bin_7   (48.0, 56.0]\n",
       "386   1.0   46.9000           Bin_1  (-0.001, 8.0]\n",
       "124  54.0   77.2875           Bin_7   (48.0, 56.0]\n",
       "578  14.5   14.4583           Bin_2    (8.0, 16.0]\n",
       "549   8.0   36.7500           Bin_1  (-0.001, 8.0]\n",
       "118  24.0  247.5208           Bin_3   (16.0, 24.0]\n",
       "12   20.0    8.0500           Bin_3   (16.0, 24.0]\n",
       "157  30.0    8.0500           Bin_4   (24.0, 32.0]\n",
       "127  24.0    7.1417           Bin_3   (16.0, 24.0]"
      ]
     },
     "execution_count": 17,
     "metadata": {},
     "output_type": "execute_result"
    }
   ],
   "source": [
    "# create binned age / discretise age\n",
    "\n",
    "# create one column with labels\n",
    "X_train['Age_disc_labels'] = pd.cut(x=X_train['Age'],\n",
    "                                    bins=intervals,\n",
    "                                    labels=labels,\n",
    "                                    include_lowest=True)\n",
    "\n",
    "# and one with bin boundaries\n",
    "X_train['Age_disc'] = pd.cut(x=X_train['Age'],\n",
    "                             bins=intervals,\n",
    "                             include_lowest=True)\n",
    "\n",
    "X_train.head(10)"
   ]
  },
  {
   "cell_type": "code",
   "execution_count": 22,
   "id": "50245e7b",
   "metadata": {
    "ExecuteTime": {
     "end_time": "2022-05-29T09:44:02.540171Z",
     "start_time": "2022-05-29T09:44:02.517109Z"
    },
    "hidden": true
   },
   "outputs": [
    {
     "data": {
      "text/plain": [
       "10"
      ]
     },
     "execution_count": 22,
     "metadata": {},
     "output_type": "execute_result"
    }
   ],
   "source": [
    "X_train['Age_disc_labels'].nunique()"
   ]
  },
  {
   "cell_type": "markdown",
   "id": "af0cf5f9",
   "metadata": {
    "hidden": true
   },
   "source": [
    "We can see in the above output how by discretising using equal width, we placed each Age observation within one interval / bin. \n",
    "\n",
    "When performing equal width discretisation, we guarantee that the intervals are all of the same lenght, however there won't necessarily be the same number of observations in each of the intervals. See below:"
   ]
  },
  {
   "cell_type": "code",
   "execution_count": 23,
   "id": "62ef6f1d",
   "metadata": {
    "ExecuteTime": {
     "end_time": "2022-05-29T09:45:42.232701Z",
     "start_time": "2022-05-29T09:45:42.214044Z"
    },
    "hidden": true
   },
   "outputs": [
    {
     "data": {
      "text/plain": [
       "Age_disc\n",
       "(-0.001, 8.0]     49\n",
       "(8.0, 16.0]       36\n",
       "(16.0, 24.0]     147\n",
       "(24.0, 32.0]     146\n",
       "(32.0, 40.0]     112\n",
       "(40.0, 48.0]      68\n",
       "(48.0, 56.0]      37\n",
       "(56.0, 64.0]      19\n",
       "(64.0, 72.0]       7\n",
       "(72.0, 80.0]       2\n",
       "Name: Age, dtype: int64"
      ]
     },
     "execution_count": 23,
     "metadata": {},
     "output_type": "execute_result"
    }
   ],
   "source": [
    "X_train.groupby('Age_disc')['Age'].count()"
   ]
  },
  {
   "cell_type": "code",
   "execution_count": 24,
   "id": "151d0dd1",
   "metadata": {
    "ExecuteTime": {
     "end_time": "2022-05-29T09:47:00.460853Z",
     "start_time": "2022-05-29T09:47:00.211241Z"
    },
    "hidden": true
   },
   "outputs": [
    {
     "data": {
      "text/plain": [
       "Text(0, 0.5, 'Number of observations per bin')"
      ]
     },
     "execution_count": 24,
     "metadata": {},
     "output_type": "execute_result"
    },
    {
     "data": {
      "image/png": "[encoded data removed]",
      "text/plain": [
       "<Figure size 432x288 with 1 Axes>"
      ]
     },
     "metadata": {
      "needs_background": "light"
     },
     "output_type": "display_data"
    }
   ],
   "source": [
    "X_train.groupby('Age_disc')['Age'].count().plot.bar()\n",
    "plt.xticks(rotation=45)\n",
    "plt.ylabel('Number of observations per bin')"
   ]
  },
  {
   "cell_type": "markdown",
   "id": "3cf62fc4",
   "metadata": {
    "hidden": true
   },
   "source": [
    "The majority of people on the Titanic were between 14-42 years of age.\n",
    "\n",
    "Now, we can discretise Age in the test set, using the same interval boundaries that we calculated for the train set:"
   ]
  },
  {
   "cell_type": "code",
   "execution_count": 25,
   "id": "892ff4b9",
   "metadata": {
    "ExecuteTime": {
     "end_time": "2022-05-29T09:47:39.345443Z",
     "start_time": "2022-05-29T09:47:39.290300Z"
    },
    "hidden": true
   },
   "outputs": [
    {
     "data": {
      "text/html": [
       "<div>\n",
       "<style scoped>\n",
       "    .dataframe tbody tr th:only-of-type {\n",
       "        vertical-align: middle;\n",
       "    }\n",
       "\n",
       "    .dataframe tbody tr th {\n",
       "        vertical-align: top;\n",
       "    }\n",
       "\n",
       "    .dataframe thead th {\n",
       "        text-align: right;\n",
       "    }\n",
       "</style>\n",
       "<table border=\"1\" class=\"dataframe\">\n",
       "  <thead>\n",
       "    <tr style=\"text-align: right;\">\n",
       "      <th></th>\n",
       "      <th>Age</th>\n",
       "      <th>Fare</th>\n",
       "      <th>Age_disc_labels</th>\n",
       "      <th>Age_disc</th>\n",
       "    </tr>\n",
       "  </thead>\n",
       "  <tbody>\n",
       "    <tr>\n",
       "      <th>495</th>\n",
       "      <td>42.0</td>\n",
       "      <td>14.4583</td>\n",
       "      <td>Bin_6</td>\n",
       "      <td>(40.0, 48.0]</td>\n",
       "    </tr>\n",
       "    <tr>\n",
       "      <th>648</th>\n",
       "      <td>18.0</td>\n",
       "      <td>7.5500</td>\n",
       "      <td>Bin_3</td>\n",
       "      <td>(16.0, 24.0]</td>\n",
       "    </tr>\n",
       "    <tr>\n",
       "      <th>278</th>\n",
       "      <td>7.0</td>\n",
       "      <td>29.1250</td>\n",
       "      <td>Bin_1</td>\n",
       "      <td>(-0.001, 8.0]</td>\n",
       "    </tr>\n",
       "    <tr>\n",
       "      <th>31</th>\n",
       "      <td>35.0</td>\n",
       "      <td>146.5208</td>\n",
       "      <td>Bin_5</td>\n",
       "      <td>(32.0, 40.0]</td>\n",
       "    </tr>\n",
       "    <tr>\n",
       "      <th>255</th>\n",
       "      <td>29.0</td>\n",
       "      <td>15.2458</td>\n",
       "      <td>Bin_4</td>\n",
       "      <td>(24.0, 32.0]</td>\n",
       "    </tr>\n",
       "  </tbody>\n",
       "</table>\n",
       "</div>"
      ],
      "text/plain": [
       "      Age      Fare Age_disc_labels       Age_disc\n",
       "495  42.0   14.4583           Bin_6   (40.0, 48.0]\n",
       "648  18.0    7.5500           Bin_3   (16.0, 24.0]\n",
       "278   7.0   29.1250           Bin_1  (-0.001, 8.0]\n",
       "31   35.0  146.5208           Bin_5   (32.0, 40.0]\n",
       "255  29.0   15.2458           Bin_4   (24.0, 32.0]"
      ]
     },
     "execution_count": 25,
     "metadata": {},
     "output_type": "execute_result"
    }
   ],
   "source": [
    "X_test['Age_disc_labels'] = pd.cut(x=X_test['Age'],\n",
    "                                   bins=intervals,\n",
    "                                   labels=labels,\n",
    "                                   include_lowest=True)\n",
    "\n",
    "X_test['Age_disc'] = pd.cut(x=X_test['Age'],\n",
    "                            bins=intervals,\n",
    "                            include_lowest=True)\n",
    "\n",
    "X_test.head()"
   ]
  },
  {
   "cell_type": "code",
   "execution_count": 26,
   "id": "aceb3d63",
   "metadata": {
    "ExecuteTime": {
     "end_time": "2022-05-29T09:47:41.931591Z",
     "start_time": "2022-05-29T09:47:41.653997Z"
    },
    "hidden": true
   },
   "outputs": [
    {
     "data": {
      "text/plain": [
       "Text(0, 0.5, 'Number of observations per bin')"
      ]
     },
     "execution_count": 26,
     "metadata": {},
     "output_type": "execute_result"
    },
    {
     "data": {
      "image/png": "[encoded data removed]",
      "text/plain": [
       "<Figure size 432x288 with 1 Axes>"
      ]
     },
     "metadata": {
      "needs_background": "light"
     },
     "output_type": "display_data"
    }
   ],
   "source": [
    "# if the distributions in train and test set are similar, we should expect similar propotion of\n",
    "# observations in the different intervals in the train and test set\n",
    "# let's see that below\n",
    "\n",
    "t1 = X_train.groupby(['Age_disc'])['Age'].count() / len(X_train)\n",
    "t2 = X_test.groupby(['Age_disc'])['Age'].count() / len(X_test)\n",
    "\n",
    "tmp = pd.concat([t1, t2], axis=1)\n",
    "tmp.columns = ['train', 'test']\n",
    "tmp.plot.bar()\n",
    "plt.xticks(rotation=45)\n",
    "plt.ylabel('Number of observations per bin')"
   ]
  },
  {
   "cell_type": "markdown",
   "id": "4ceb2f49",
   "metadata": {
    "hidden": true
   },
   "source": [
    "## 1.2. Equal width discretisation with Feature-Engine"
   ]
  },
  {
   "cell_type": "code",
   "execution_count": 27,
   "id": "b8a8cb14",
   "metadata": {
    "ExecuteTime": {
     "end_time": "2022-05-29T09:49:14.408559Z",
     "start_time": "2022-05-29T09:49:14.294057Z"
    },
    "hidden": true
   },
   "outputs": [],
   "source": [
    "from feature_engine.discretisation import EqualWidthDiscretiser"
   ]
  },
  {
   "cell_type": "code",
   "execution_count": 28,
   "id": "31fcacdf",
   "metadata": {
    "ExecuteTime": {
     "end_time": "2022-05-29T09:49:16.805862Z",
     "start_time": "2022-05-29T09:49:16.775022Z"
    },
    "hidden": true
   },
   "outputs": [
    {
     "data": {
      "text/plain": [
       "((623, 2), (268, 2))"
      ]
     },
     "execution_count": 28,
     "metadata": {},
     "output_type": "execute_result"
    }
   ],
   "source": [
    "# Let's separate into train and test set\n",
    "\n",
    "X_train, X_test, y_train, y_test = train_test_split(\n",
    "    data[['Age', 'Fare']],\n",
    "    data['Survived'],\n",
    "    test_size=0.3,\n",
    "    random_state=0)\n",
    "\n",
    "X_train.shape, X_test.shape"
   ]
  },
  {
   "cell_type": "code",
   "execution_count": 29,
   "id": "4f36e40b",
   "metadata": {
    "ExecuteTime": {
     "end_time": "2022-05-29T09:49:17.579594Z",
     "start_time": "2022-05-29T09:49:17.550878Z"
    },
    "hidden": true
   },
   "outputs": [],
   "source": [
    "# replace NA in both  train and test sets\n",
    "\n",
    "X_train['Age'] = impute_na(data, 'Age')\n",
    "X_test['Age'] = impute_na(data, 'Age')\n",
    "\n",
    "X_train['Fare'] = impute_na(data, 'Fare')\n",
    "X_test['Fare'] = impute_na(data, 'Fare')"
   ]
  },
  {
   "cell_type": "code",
   "execution_count": 30,
   "id": "8d9d21e1",
   "metadata": {
    "ExecuteTime": {
     "end_time": "2022-05-29T09:49:41.444450Z",
     "start_time": "2022-05-29T09:49:41.402261Z"
    },
    "hidden": true
   },
   "outputs": [
    {
     "data": {
      "text/plain": [
       "EqualWidthDiscretiser(variables=['Age', 'Fare'])"
      ]
     },
     "execution_count": 30,
     "metadata": {},
     "output_type": "execute_result"
    }
   ],
   "source": [
    "# with feature engine we can automate the process for many variables\n",
    "# in one line of code\n",
    "\n",
    "disc = EqualWidthDiscretiser(bins=10, variables = ['Age', 'Fare'])\n",
    "\n",
    "disc.fit(X_train)"
   ]
  },
  {
   "cell_type": "code",
   "execution_count": 32,
   "id": "5c5f682b",
   "metadata": {
    "ExecuteTime": {
     "end_time": "2022-05-29T09:51:30.796251Z",
     "start_time": "2022-05-29T09:51:30.767870Z"
    },
    "hidden": true
   },
   "outputs": [
    {
     "data": {
      "text/plain": [
       "{'Age': [-inf,\n",
       "  8.603,\n",
       "  16.536,\n",
       "  24.469,\n",
       "  32.402,\n",
       "  40.335,\n",
       "  48.268,\n",
       "  56.201,\n",
       "  64.134,\n",
       "  72.067,\n",
       "  inf],\n",
       " 'Fare': [-inf,\n",
       "  51.23292,\n",
       "  102.46584,\n",
       "  153.69876,\n",
       "  204.93168,\n",
       "  256.1646,\n",
       "  307.39752,\n",
       "  358.63044,\n",
       "  409.86336,\n",
       "  461.09628,\n",
       "  inf]}"
      ]
     },
     "execution_count": 32,
     "metadata": {},
     "output_type": "execute_result"
    }
   ],
   "source": [
    "# in the binner dict, we can see the limits of the intervals. For age\n",
    "# the value increases aproximately 8 years from one bin to the next.\n",
    "\n",
    "# for fare it increases in around 51 dollars from one interval to the \n",
    "# next, but it increases always the same value, aka, same width.\n",
    "\n",
    "disc.binner_dict_"
   ]
  },
  {
   "cell_type": "code",
   "execution_count": 33,
   "id": "efe1df4d",
   "metadata": {
    "ExecuteTime": {
     "end_time": "2022-05-29T09:51:37.914654Z",
     "start_time": "2022-05-29T09:51:37.895333Z"
    },
    "hidden": true
   },
   "outputs": [],
   "source": [
    "# transform train and text\n",
    "\n",
    "train_t = disc.transform(X_train)\n",
    "test_t = disc.transform(X_test)"
   ]
  },
  {
   "cell_type": "code",
   "execution_count": 34,
   "id": "8e0bd6e6",
   "metadata": {
    "ExecuteTime": {
     "end_time": "2022-05-29T09:51:41.711075Z",
     "start_time": "2022-05-29T09:51:41.668522Z"
    },
    "hidden": true
   },
   "outputs": [
    {
     "data": {
      "text/html": [
       "<div>\n",
       "<style scoped>\n",
       "    .dataframe tbody tr th:only-of-type {\n",
       "        vertical-align: middle;\n",
       "    }\n",
       "\n",
       "    .dataframe tbody tr th {\n",
       "        vertical-align: top;\n",
       "    }\n",
       "\n",
       "    .dataframe thead th {\n",
       "        text-align: right;\n",
       "    }\n",
       "</style>\n",
       "<table border=\"1\" class=\"dataframe\">\n",
       "  <thead>\n",
       "    <tr style=\"text-align: right;\">\n",
       "      <th></th>\n",
       "      <th>Age</th>\n",
       "      <th>Fare</th>\n",
       "    </tr>\n",
       "  </thead>\n",
       "  <tbody>\n",
       "    <tr>\n",
       "      <th>857</th>\n",
       "      <td>6</td>\n",
       "      <td>0</td>\n",
       "    </tr>\n",
       "    <tr>\n",
       "      <th>52</th>\n",
       "      <td>6</td>\n",
       "      <td>1</td>\n",
       "    </tr>\n",
       "    <tr>\n",
       "      <th>386</th>\n",
       "      <td>0</td>\n",
       "      <td>0</td>\n",
       "    </tr>\n",
       "    <tr>\n",
       "      <th>124</th>\n",
       "      <td>6</td>\n",
       "      <td>1</td>\n",
       "    </tr>\n",
       "    <tr>\n",
       "      <th>578</th>\n",
       "      <td>1</td>\n",
       "      <td>0</td>\n",
       "    </tr>\n",
       "  </tbody>\n",
       "</table>\n",
       "</div>"
      ],
      "text/plain": [
       "     Age  Fare\n",
       "857    6     0\n",
       "52     6     1\n",
       "386    0     0\n",
       "124    6     1\n",
       "578    1     0"
      ]
     },
     "execution_count": 34,
     "metadata": {},
     "output_type": "execute_result"
    }
   ],
   "source": [
    "train_t.head()"
   ]
  },
  {
   "cell_type": "code",
   "execution_count": 35,
   "id": "4c656823",
   "metadata": {
    "ExecuteTime": {
     "end_time": "2022-05-29T09:51:50.728501Z",
     "start_time": "2022-05-29T09:51:50.447657Z"
    },
    "hidden": true
   },
   "outputs": [
    {
     "data": {
      "text/plain": [
       "Text(0, 0.5, 'Number of observations per bin')"
      ]
     },
     "execution_count": 35,
     "metadata": {},
     "output_type": "execute_result"
    },
    {
     "data": {
      "image/png": "[encoded data removed]",
      "text/plain": [
       "<Figure size 432x288 with 1 Axes>"
      ]
     },
     "metadata": {
      "needs_background": "light"
     },
     "output_type": "display_data"
    }
   ],
   "source": [
    "t1 = train_t.groupby(['Age'])['Age'].count() / len(train_t)\n",
    "t2 = test_t.groupby(['Age'])['Age'].count() / len(test_t)\n",
    "\n",
    "tmp = pd.concat([t1, t2], axis=1)\n",
    "tmp.columns = ['train', 'test']\n",
    "tmp.plot.bar()\n",
    "plt.xticks(rotation=0)\n",
    "plt.ylabel('Number of observations per bin')"
   ]
  },
  {
   "cell_type": "code",
   "execution_count": 36,
   "id": "21bf1a50",
   "metadata": {
    "ExecuteTime": {
     "end_time": "2022-05-29T09:52:30.643927Z",
     "start_time": "2022-05-29T09:52:30.383631Z"
    },
    "hidden": true
   },
   "outputs": [
    {
     "data": {
      "text/plain": [
       "Text(0, 0.5, 'Number of observations per bin')"
      ]
     },
     "execution_count": 36,
     "metadata": {},
     "output_type": "execute_result"
    },
    {
     "data": {
      "image/png": "[encoded data removed]",
      "text/plain": [
       "<Figure size 432x288 with 1 Axes>"
      ]
     },
     "metadata": {
      "needs_background": "light"
     },
     "output_type": "display_data"
    }
   ],
   "source": [
    "t1 = train_t.groupby(['Fare'])['Fare'].count() / len(train_t)\n",
    "t2 = test_t.groupby(['Fare'])['Fare'].count() / len(test_t)\n",
    "\n",
    "tmp = pd.concat([t1, t2], axis=1)\n",
    "tmp.columns = ['train', 'test']\n",
    "tmp.plot.bar()\n",
    "plt.xticks(rotation=0)\n",
    "plt.ylabel('Number of observations per bin')"
   ]
  },
  {
   "cell_type": "markdown",
   "id": "cd7b0221",
   "metadata": {
    "hidden": true
   },
   "source": [
    "We can see quite clearly, that equal width discretisation does not improve the value spread. The original variable Fare was skewed, and the discrete variable is also skewed."
   ]
  },
  {
   "cell_type": "markdown",
   "id": "302fbf90",
   "metadata": {
    "collapsed": true,
    "hidden": true
   },
   "source": [
    "## 1.3. Equal width discretisation with Scikit-learn"
   ]
  },
  {
   "cell_type": "code",
   "execution_count": 37,
   "id": "0e0e9fb4",
   "metadata": {
    "ExecuteTime": {
     "end_time": "2022-05-29T09:54:11.157809Z",
     "start_time": "2022-05-29T09:54:11.147824Z"
    },
    "hidden": true
   },
   "outputs": [],
   "source": [
    "from sklearn.preprocessing import KBinsDiscretizer"
   ]
  },
  {
   "cell_type": "code",
   "execution_count": 38,
   "id": "38bce012",
   "metadata": {
    "ExecuteTime": {
     "end_time": "2022-05-29T09:54:14.314202Z",
     "start_time": "2022-05-29T09:54:14.298842Z"
    },
    "hidden": true
   },
   "outputs": [
    {
     "data": {
      "text/plain": [
       "((623, 2), (268, 2))"
      ]
     },
     "execution_count": 38,
     "metadata": {},
     "output_type": "execute_result"
    }
   ],
   "source": [
    "# Let's separate into train and test set\n",
    "\n",
    "X_train, X_test, y_train, y_test = train_test_split(\n",
    "    data[['Age', 'Fare']],\n",
    "    data['Survived'],\n",
    "    test_size=0.3,\n",
    "    random_state=0)\n",
    "\n",
    "X_train.shape, X_test.shape"
   ]
  },
  {
   "cell_type": "code",
   "execution_count": 39,
   "id": "d7444d5f",
   "metadata": {
    "ExecuteTime": {
     "end_time": "2022-05-29T09:54:14.926946Z",
     "start_time": "2022-05-29T09:54:14.890712Z"
    },
    "hidden": true
   },
   "outputs": [],
   "source": [
    "# replace NA in both  train and test sets\n",
    "\n",
    "X_train['Age'] = impute_na(data, 'Age')\n",
    "X_test['Age'] = impute_na(data, 'Age')\n",
    "\n",
    "X_train['Fare'] = impute_na(data, 'Fare')\n",
    "X_test['Fare'] = impute_na(data, 'Fare')"
   ]
  },
  {
   "cell_type": "code",
   "execution_count": 40,
   "id": "0257aae4",
   "metadata": {
    "ExecuteTime": {
     "end_time": "2022-05-29T09:54:59.397821Z",
     "start_time": "2022-05-29T09:54:59.384822Z"
    },
    "hidden": true
   },
   "outputs": [
    {
     "data": {
      "text/plain": [
       "KBinsDiscretizer(encode='ordinal', n_bins=10, strategy='uniform')"
      ]
     },
     "execution_count": 40,
     "metadata": {},
     "output_type": "execute_result"
    }
   ],
   "source": [
    "disc = KBinsDiscretizer(n_bins=10, encode='ordinal', strategy='uniform')\n",
    "\n",
    "disc.fit(X_train[['Age', 'Fare']])"
   ]
  },
  {
   "cell_type": "code",
   "execution_count": 41,
   "id": "5e111bcd",
   "metadata": {
    "ExecuteTime": {
     "end_time": "2022-05-29T09:55:01.683266Z",
     "start_time": "2022-05-29T09:55:01.661272Z"
    },
    "hidden": true
   },
   "outputs": [
    {
     "data": {
      "text/plain": [
       "array([array([ 0.67 ,  8.603, 16.536, 24.469, 32.402, 40.335, 48.268, 56.201,\n",
       "              64.134, 72.067, 80.   ])                                       ,\n",
       "       array([  0.     ,  51.23292, 102.46584, 153.69876, 204.93168, 256.1646 ,\n",
       "              307.39752, 358.63044, 409.86336, 461.09628, 512.3292 ])          ],\n",
       "      dtype=object)"
      ]
     },
     "execution_count": 41,
     "metadata": {},
     "output_type": "execute_result"
    }
   ],
   "source": [
    "disc.bin_edges_"
   ]
  },
  {
   "cell_type": "code",
   "execution_count": 42,
   "id": "11ddb7a7",
   "metadata": {
    "ExecuteTime": {
     "end_time": "2022-05-29T09:55:08.435976Z",
     "start_time": "2022-05-29T09:55:08.404782Z"
    },
    "hidden": true
   },
   "outputs": [
    {
     "data": {
      "text/html": [
       "<div>\n",
       "<style scoped>\n",
       "    .dataframe tbody tr th:only-of-type {\n",
       "        vertical-align: middle;\n",
       "    }\n",
       "\n",
       "    .dataframe tbody tr th {\n",
       "        vertical-align: top;\n",
       "    }\n",
       "\n",
       "    .dataframe thead th {\n",
       "        text-align: right;\n",
       "    }\n",
       "</style>\n",
       "<table border=\"1\" class=\"dataframe\">\n",
       "  <thead>\n",
       "    <tr style=\"text-align: right;\">\n",
       "      <th></th>\n",
       "      <th>Age</th>\n",
       "      <th>Fare</th>\n",
       "    </tr>\n",
       "  </thead>\n",
       "  <tbody>\n",
       "    <tr>\n",
       "      <th>0</th>\n",
       "      <td>6.0</td>\n",
       "      <td>0.0</td>\n",
       "    </tr>\n",
       "    <tr>\n",
       "      <th>1</th>\n",
       "      <td>6.0</td>\n",
       "      <td>1.0</td>\n",
       "    </tr>\n",
       "    <tr>\n",
       "      <th>2</th>\n",
       "      <td>0.0</td>\n",
       "      <td>0.0</td>\n",
       "    </tr>\n",
       "    <tr>\n",
       "      <th>3</th>\n",
       "      <td>6.0</td>\n",
       "      <td>1.0</td>\n",
       "    </tr>\n",
       "    <tr>\n",
       "      <th>4</th>\n",
       "      <td>1.0</td>\n",
       "      <td>0.0</td>\n",
       "    </tr>\n",
       "  </tbody>\n",
       "</table>\n",
       "</div>"
      ],
      "text/plain": [
       "   Age  Fare\n",
       "0  6.0   0.0\n",
       "1  6.0   1.0\n",
       "2  0.0   0.0\n",
       "3  6.0   1.0\n",
       "4  1.0   0.0"
      ]
     },
     "execution_count": 42,
     "metadata": {},
     "output_type": "execute_result"
    }
   ],
   "source": [
    "train_t = disc.transform(X_train[['Age', 'Fare']])\n",
    "\n",
    "train_t = pd.DataFrame(train_t, columns = ['Age', 'Fare'])\n",
    "\n",
    "train_t.head()"
   ]
  },
  {
   "cell_type": "code",
   "execution_count": 43,
   "id": "5f44044b",
   "metadata": {
    "ExecuteTime": {
     "end_time": "2022-05-29T09:55:08.890496Z",
     "start_time": "2022-05-29T09:55:08.873027Z"
    },
    "hidden": true
   },
   "outputs": [],
   "source": [
    "test_t = disc.transform(X_test[['Age', 'Fare']])\n",
    "\n",
    "test_t = pd.DataFrame(test_t, columns = ['Age', 'Fare'])"
   ]
  },
  {
   "cell_type": "code",
   "execution_count": 44,
   "id": "dd0edb9f",
   "metadata": {
    "ExecuteTime": {
     "end_time": "2022-05-29T09:55:09.673677Z",
     "start_time": "2022-05-29T09:55:09.360566Z"
    },
    "hidden": true
   },
   "outputs": [
    {
     "data": {
      "text/plain": [
       "Text(0, 0.5, 'Number of observations per bin')"
      ]
     },
     "execution_count": 44,
     "metadata": {},
     "output_type": "execute_result"
    },
    {
     "data": {
      "image/png": "[encoded data removed]",
      "text/plain": [
       "<Figure size 432x288 with 1 Axes>"
      ]
     },
     "metadata": {
      "needs_background": "light"
     },
     "output_type": "display_data"
    }
   ],
   "source": [
    "t1 = train_t.groupby(['Age'])['Age'].count() / len(train_t)\n",
    "t2 = test_t.groupby(['Age'])['Age'].count() / len(test_t)\n",
    "\n",
    "tmp = pd.concat([t1, t2], axis=1)\n",
    "tmp.columns = ['train', 'test']\n",
    "tmp.plot.bar()\n",
    "plt.xticks(rotation=0)\n",
    "plt.ylabel('Number of observations per bin')"
   ]
  },
  {
   "cell_type": "code",
   "execution_count": 45,
   "id": "144ef9aa",
   "metadata": {
    "ExecuteTime": {
     "end_time": "2022-05-29T09:55:10.544080Z",
     "start_time": "2022-05-29T09:55:10.244651Z"
    },
    "hidden": true
   },
   "outputs": [
    {
     "data": {
      "text/plain": [
       "Text(0, 0.5, 'Number of observations per bin')"
      ]
     },
     "execution_count": 45,
     "metadata": {},
     "output_type": "execute_result"
    },
    {
     "data": {
      "image/png": "[encoded data removed]",
      "text/plain": [
       "<Figure size 432x288 with 1 Axes>"
      ]
     },
     "metadata": {
      "needs_background": "light"
     },
     "output_type": "display_data"
    }
   ],
   "source": [
    "t1 = train_t.groupby(['Fare'])['Fare'].count() / len(train_t)\n",
    "t2 = test_t.groupby(['Fare'])['Fare'].count() / len(test_t)\n",
    "\n",
    "tmp = pd.concat([t1, t2], axis=1)\n",
    "tmp.columns = ['train', 'test']\n",
    "tmp.plot.bar()\n",
    "plt.xticks(rotation=0)\n",
    "plt.ylabel('Number of observations per bin')"
   ]
  },
  {
   "cell_type": "markdown",
   "id": "0cb07dfd",
   "metadata": {
    "heading_collapsed": true
   },
   "source": [
    "# 2. Equal frequency discretisation with Feature-Engine"
   ]
  },
  {
   "cell_type": "code",
   "execution_count": 46,
   "id": "e41af823",
   "metadata": {
    "ExecuteTime": {
     "end_time": "2022-05-29T09:57:11.207872Z",
     "start_time": "2022-05-29T09:57:11.181430Z"
    },
    "hidden": true
   },
   "outputs": [],
   "source": [
    "from feature_engine.discretisation import EqualFrequencyDiscretiser"
   ]
  },
  {
   "cell_type": "code",
   "execution_count": 47,
   "id": "c62e2e2e",
   "metadata": {
    "ExecuteTime": {
     "end_time": "2022-05-29T09:57:14.670856Z",
     "start_time": "2022-05-29T09:57:14.653506Z"
    },
    "hidden": true
   },
   "outputs": [
    {
     "data": {
      "text/plain": [
       "((623, 2), (268, 2))"
      ]
     },
     "execution_count": 47,
     "metadata": {},
     "output_type": "execute_result"
    }
   ],
   "source": [
    "# Let's separate into train and test set\n",
    "\n",
    "X_train, X_test, y_train, y_test = train_test_split(\n",
    "    data[['Age', 'Fare']],\n",
    "    data['Survived'],\n",
    "    test_size=0.3,\n",
    "    random_state=0)\n",
    "\n",
    "X_train.shape, X_test.shape"
   ]
  },
  {
   "cell_type": "code",
   "execution_count": 48,
   "id": "ecf67975",
   "metadata": {
    "ExecuteTime": {
     "end_time": "2022-05-29T09:57:15.279852Z",
     "start_time": "2022-05-29T09:57:15.231020Z"
    },
    "hidden": true
   },
   "outputs": [],
   "source": [
    "# replace NA in both  train and test sets\n",
    "\n",
    "X_train['Age'] = impute_na(data, 'Age')\n",
    "X_test['Age'] = impute_na(data, 'Age')\n",
    "\n",
    "X_train['Fare'] = impute_na(data, 'Fare')\n",
    "X_test['Fare'] = impute_na(data, 'Fare')"
   ]
  },
  {
   "cell_type": "code",
   "execution_count": 49,
   "id": "0f1a0755",
   "metadata": {
    "ExecuteTime": {
     "end_time": "2022-05-29T09:57:48.675562Z",
     "start_time": "2022-05-29T09:57:48.628981Z"
    },
    "hidden": true
   },
   "outputs": [
    {
     "data": {
      "text/plain": [
       "EqualFrequencyDiscretiser(variables=['Age', 'Fare'])"
      ]
     },
     "execution_count": 49,
     "metadata": {},
     "output_type": "execute_result"
    }
   ],
   "source": [
    "# with feature engine we can automate the process for many variables\n",
    "# in one line of code\n",
    "\n",
    "disc = EqualFrequencyDiscretiser(q=10, variables = ['Age', 'Fare'])\n",
    "\n",
    "disc.fit(X_train)"
   ]
  },
  {
   "cell_type": "code",
   "execution_count": 50,
   "id": "f6919c8b",
   "metadata": {
    "ExecuteTime": {
     "end_time": "2022-05-29T09:58:04.348549Z",
     "start_time": "2022-05-29T09:58:04.319768Z"
    },
    "hidden": true
   },
   "outputs": [
    {
     "data": {
      "text/plain": [
       "{'Age': [-inf,\n",
       "  13.200000000000003,\n",
       "  19.0,\n",
       "  22.0,\n",
       "  26.0,\n",
       "  29.0,\n",
       "  32.0,\n",
       "  36.0,\n",
       "  41.60000000000002,\n",
       "  49.0,\n",
       "  inf],\n",
       " 'Fare': [-inf,\n",
       "  7.72584,\n",
       "  7.88252,\n",
       "  8.05,\n",
       "  12.130000000000008,\n",
       "  15.0,\n",
       "  23.45,\n",
       "  27.75,\n",
       "  46.9,\n",
       "  77.17584000000004,\n",
       "  inf]}"
      ]
     },
     "execution_count": 50,
     "metadata": {},
     "output_type": "execute_result"
    }
   ],
   "source": [
    "# in the binner dict, we can see the limits of the intervals. Note\n",
    "# that the intervals have different widths\n",
    "\n",
    "disc.binner_dict_"
   ]
  },
  {
   "cell_type": "code",
   "execution_count": 51,
   "id": "7d9d7393",
   "metadata": {
    "ExecuteTime": {
     "end_time": "2022-05-29T09:59:05.182887Z",
     "start_time": "2022-05-29T09:59:05.135014Z"
    },
    "hidden": true
   },
   "outputs": [],
   "source": [
    "# transform train and text\n",
    "\n",
    "train_t = disc.transform(X_train)\n",
    "test_t = disc.transform(X_test)"
   ]
  },
  {
   "cell_type": "code",
   "execution_count": 52,
   "id": "843cd9ff",
   "metadata": {
    "ExecuteTime": {
     "end_time": "2022-05-29T09:59:06.096350Z",
     "start_time": "2022-05-29T09:59:06.088156Z"
    },
    "hidden": true
   },
   "outputs": [
    {
     "data": {
      "text/html": [
       "<div>\n",
       "<style scoped>\n",
       "    .dataframe tbody tr th:only-of-type {\n",
       "        vertical-align: middle;\n",
       "    }\n",
       "\n",
       "    .dataframe tbody tr th {\n",
       "        vertical-align: top;\n",
       "    }\n",
       "\n",
       "    .dataframe thead th {\n",
       "        text-align: right;\n",
       "    }\n",
       "</style>\n",
       "<table border=\"1\" class=\"dataframe\">\n",
       "  <thead>\n",
       "    <tr style=\"text-align: right;\">\n",
       "      <th></th>\n",
       "      <th>Age</th>\n",
       "      <th>Fare</th>\n",
       "    </tr>\n",
       "  </thead>\n",
       "  <tbody>\n",
       "    <tr>\n",
       "      <th>857</th>\n",
       "      <td>9</td>\n",
       "      <td>6</td>\n",
       "    </tr>\n",
       "    <tr>\n",
       "      <th>52</th>\n",
       "      <td>8</td>\n",
       "      <td>8</td>\n",
       "    </tr>\n",
       "    <tr>\n",
       "      <th>386</th>\n",
       "      <td>0</td>\n",
       "      <td>7</td>\n",
       "    </tr>\n",
       "    <tr>\n",
       "      <th>124</th>\n",
       "      <td>9</td>\n",
       "      <td>9</td>\n",
       "    </tr>\n",
       "    <tr>\n",
       "      <th>578</th>\n",
       "      <td>1</td>\n",
       "      <td>4</td>\n",
       "    </tr>\n",
       "  </tbody>\n",
       "</table>\n",
       "</div>"
      ],
      "text/plain": [
       "     Age  Fare\n",
       "857    9     6\n",
       "52     8     8\n",
       "386    0     7\n",
       "124    9     9\n",
       "578    1     4"
      ]
     },
     "execution_count": 52,
     "metadata": {},
     "output_type": "execute_result"
    }
   ],
   "source": [
    "train_t.head()"
   ]
  },
  {
   "cell_type": "code",
   "execution_count": 53,
   "id": "cb2de5d9",
   "metadata": {
    "ExecuteTime": {
     "end_time": "2022-05-29T09:59:21.759035Z",
     "start_time": "2022-05-29T09:59:21.449951Z"
    },
    "hidden": true
   },
   "outputs": [
    {
     "data": {
      "text/plain": [
       "Text(0, 0.5, 'Number of observations per bin')"
      ]
     },
     "execution_count": 53,
     "metadata": {},
     "output_type": "execute_result"
    },
    {
     "data": {
      "image/png": "[encoded data removed]",
      "text/plain": [
       "<Figure size 432x288 with 1 Axes>"
      ]
     },
     "metadata": {
      "needs_background": "light"
     },
     "output_type": "display_data"
    }
   ],
   "source": [
    "# and now let's explore the number of observations per bucket\n",
    "\n",
    "t1 = train_t.groupby(['Age'])['Age'].count() / len(train_t)\n",
    "t2 = test_t.groupby(['Age'])['Age'].count() / len(test_t)\n",
    "\n",
    "tmp = pd.concat([t1, t2], axis=1)\n",
    "tmp.columns = ['train', 'test']\n",
    "tmp.plot.bar()\n",
    "plt.xticks(rotation=0)\n",
    "plt.ylabel('Number of observations per bin')"
   ]
  },
  {
   "cell_type": "markdown",
   "id": "e0cc6b0c",
   "metadata": {
    "hidden": true
   },
   "source": [
    "We can see that the top intervals have less observations. This may happen with skewed distributions if we try to divide in a high number of intervals. To make the value spread  more homogeneous, we should discretise in less intervals."
   ]
  },
  {
   "cell_type": "code",
   "execution_count": 54,
   "id": "fa0dbfed",
   "metadata": {
    "ExecuteTime": {
     "end_time": "2022-05-29T10:00:24.847937Z",
     "start_time": "2022-05-29T10:00:24.565998Z"
    },
    "hidden": true
   },
   "outputs": [
    {
     "data": {
      "text/plain": [
       "Text(0, 0.5, 'Number of observations per bin')"
      ]
     },
     "execution_count": 54,
     "metadata": {},
     "output_type": "execute_result"
    },
    {
     "data": {
      "image/png": "[encoded data removed]",
      "text/plain": [
       "<Figure size 432x288 with 1 Axes>"
      ]
     },
     "metadata": {
      "needs_background": "light"
     },
     "output_type": "display_data"
    }
   ],
   "source": [
    "t1 = train_t.groupby(['Fare'])['Fare'].count() / len(train_t)\n",
    "t2 = test_t.groupby(['Fare'])['Fare'].count() / len(test_t)\n",
    "\n",
    "tmp = pd.concat([t1, t2], axis=1)\n",
    "tmp.columns = ['train', 'test']\n",
    "tmp.plot.bar()\n",
    "plt.xticks(rotation=0)\n",
    "plt.ylabel('Number of observations per bin')"
   ]
  },
  {
   "cell_type": "markdown",
   "id": "8e357a16",
   "metadata": {
    "hidden": true
   },
   "source": [
    "Note how equal frequency discretisation obtains a better value spread across the different intervals."
   ]
  },
  {
   "cell_type": "markdown",
   "id": "9a198257",
   "metadata": {
    "hidden": true
   },
   "source": [
    "## Equal frequency discretisation with Scikit-learn"
   ]
  },
  {
   "cell_type": "code",
   "execution_count": 55,
   "id": "6b52588a",
   "metadata": {
    "ExecuteTime": {
     "end_time": "2022-05-29T10:01:30.980747Z",
     "start_time": "2022-05-29T10:01:30.958951Z"
    },
    "hidden": true
   },
   "outputs": [
    {
     "data": {
      "text/plain": [
       "((623, 2), (268, 2))"
      ]
     },
     "execution_count": 55,
     "metadata": {},
     "output_type": "execute_result"
    }
   ],
   "source": [
    "# Let's separate into train and test set\n",
    "\n",
    "X_train, X_test, y_train, y_test = train_test_split(\n",
    "    data[['Age', 'Fare']],\n",
    "    data['Survived'],\n",
    "    test_size=0.3,\n",
    "    random_state=0)\n",
    "\n",
    "X_train.shape, X_test.shape"
   ]
  },
  {
   "cell_type": "code",
   "execution_count": 56,
   "id": "c143ef75",
   "metadata": {
    "ExecuteTime": {
     "end_time": "2022-05-29T10:01:31.315259Z",
     "start_time": "2022-05-29T10:01:31.268724Z"
    },
    "hidden": true
   },
   "outputs": [],
   "source": [
    "# replace NA in both  train and test sets\n",
    "\n",
    "X_train['Age'] = impute_na(data, 'Age')\n",
    "X_test['Age'] = impute_na(data, 'Age')\n",
    "\n",
    "X_train['Fare'] = impute_na(data, 'Fare')\n",
    "X_test['Fare'] = impute_na(data, 'Fare')"
   ]
  },
  {
   "cell_type": "code",
   "execution_count": 57,
   "id": "b945984f",
   "metadata": {
    "ExecuteTime": {
     "end_time": "2022-05-29T10:01:50.434566Z",
     "start_time": "2022-05-29T10:01:50.403176Z"
    },
    "hidden": true
   },
   "outputs": [
    {
     "data": {
      "text/plain": [
       "KBinsDiscretizer(encode='ordinal', n_bins=10)"
      ]
     },
     "execution_count": 57,
     "metadata": {},
     "output_type": "execute_result"
    }
   ],
   "source": [
    "disc = KBinsDiscretizer(n_bins=10, encode='ordinal', strategy='quantile')\n",
    "\n",
    "disc.fit(X_train[['Age', 'Fare']])"
   ]
  },
  {
   "cell_type": "code",
   "execution_count": 58,
   "id": "ccb76d3f",
   "metadata": {
    "ExecuteTime": {
     "end_time": "2022-05-29T10:02:05.035493Z",
     "start_time": "2022-05-29T10:02:05.012414Z"
    },
    "hidden": true
   },
   "outputs": [
    {
     "data": {
      "text/plain": [
       "array([array([ 0.67, 13.2 , 19.  , 22.  , 26.  , 29.  , 32.  , 36.  , 41.6 ,\n",
       "              49.  , 80.  ])                                                ,\n",
       "       array([  0.     ,   7.72584,   7.88252,   8.05   ,  12.13   ,  15.     ,\n",
       "               23.45   ,  27.75   ,  46.9    ,  77.17584, 512.3292 ])          ],\n",
       "      dtype=object)"
      ]
     },
     "execution_count": 58,
     "metadata": {},
     "output_type": "execute_result"
    }
   ],
   "source": [
    "disc.bin_edges_"
   ]
  },
  {
   "cell_type": "code",
   "execution_count": 59,
   "id": "1069101d",
   "metadata": {
    "ExecuteTime": {
     "end_time": "2022-05-29T10:02:53.986009Z",
     "start_time": "2022-05-29T10:02:53.941934Z"
    },
    "hidden": true
   },
   "outputs": [
    {
     "data": {
      "text/html": [
       "<div>\n",
       "<style scoped>\n",
       "    .dataframe tbody tr th:only-of-type {\n",
       "        vertical-align: middle;\n",
       "    }\n",
       "\n",
       "    .dataframe tbody tr th {\n",
       "        vertical-align: top;\n",
       "    }\n",
       "\n",
       "    .dataframe thead th {\n",
       "        text-align: right;\n",
       "    }\n",
       "</style>\n",
       "<table border=\"1\" class=\"dataframe\">\n",
       "  <thead>\n",
       "    <tr style=\"text-align: right;\">\n",
       "      <th></th>\n",
       "      <th>Age</th>\n",
       "      <th>Fare</th>\n",
       "    </tr>\n",
       "  </thead>\n",
       "  <tbody>\n",
       "    <tr>\n",
       "      <th>0</th>\n",
       "      <td>9.0</td>\n",
       "      <td>6.0</td>\n",
       "    </tr>\n",
       "    <tr>\n",
       "      <th>1</th>\n",
       "      <td>9.0</td>\n",
       "      <td>8.0</td>\n",
       "    </tr>\n",
       "    <tr>\n",
       "      <th>2</th>\n",
       "      <td>0.0</td>\n",
       "      <td>8.0</td>\n",
       "    </tr>\n",
       "    <tr>\n",
       "      <th>3</th>\n",
       "      <td>9.0</td>\n",
       "      <td>9.0</td>\n",
       "    </tr>\n",
       "    <tr>\n",
       "      <th>4</th>\n",
       "      <td>1.0</td>\n",
       "      <td>4.0</td>\n",
       "    </tr>\n",
       "  </tbody>\n",
       "</table>\n",
       "</div>"
      ],
      "text/plain": [
       "   Age  Fare\n",
       "0  9.0   6.0\n",
       "1  9.0   8.0\n",
       "2  0.0   8.0\n",
       "3  9.0   9.0\n",
       "4  1.0   4.0"
      ]
     },
     "execution_count": 59,
     "metadata": {},
     "output_type": "execute_result"
    }
   ],
   "source": [
    "train_t = disc.transform(X_train[['Age', 'Fare']])\n",
    "\n",
    "train_t = pd.DataFrame(train_t, columns = ['Age', 'Fare'])\n",
    "\n",
    "train_t.head()"
   ]
  },
  {
   "cell_type": "code",
   "execution_count": 60,
   "id": "28100fa0",
   "metadata": {
    "ExecuteTime": {
     "end_time": "2022-05-29T10:02:54.418580Z",
     "start_time": "2022-05-29T10:02:54.383815Z"
    },
    "hidden": true
   },
   "outputs": [],
   "source": [
    "test_t = disc.transform(X_test[['Age', 'Fare']])\n",
    "\n",
    "test_t = pd.DataFrame(test_t, columns = ['Age', 'Fare'])"
   ]
  },
  {
   "cell_type": "code",
   "execution_count": 61,
   "id": "5284a839",
   "metadata": {
    "ExecuteTime": {
     "end_time": "2022-05-29T10:02:55.046947Z",
     "start_time": "2022-05-29T10:02:54.764357Z"
    },
    "hidden": true
   },
   "outputs": [
    {
     "data": {
      "text/plain": [
       "Text(0, 0.5, 'Number of observations per bin')"
      ]
     },
     "execution_count": 61,
     "metadata": {},
     "output_type": "execute_result"
    },
    {
     "data": {
      "image/png": "[encoded data removed]",
      "text/plain": [
       "<Figure size 432x288 with 1 Axes>"
      ]
     },
     "metadata": {
      "needs_background": "light"
     },
     "output_type": "display_data"
    }
   ],
   "source": [
    "t1 = train_t.groupby(['Age'])['Age'].count() / len(train_t)\n",
    "t2 = test_t.groupby(['Age'])['Age'].count() / len(test_t)\n",
    "\n",
    "tmp = pd.concat([t1, t2], axis=1)\n",
    "tmp.columns = ['train', 'test']\n",
    "tmp.plot.bar()\n",
    "plt.xticks(rotation=0)\n",
    "plt.ylabel('Number of observations per bin')"
   ]
  },
  {
   "cell_type": "markdown",
   "id": "1c483373",
   "metadata": {
    "heading_collapsed": true
   },
   "source": [
    "# 3. Discretisation-using-Decision-Trees-and-Feature-Engine"
   ]
  },
  {
   "cell_type": "code",
   "execution_count": 62,
   "id": "174305e9",
   "metadata": {
    "ExecuteTime": {
     "end_time": "2022-05-29T10:06:30.519148Z",
     "start_time": "2022-05-29T10:06:30.507146Z"
    },
    "hidden": true
   },
   "outputs": [],
   "source": [
    "from feature_engine.discretisation import DecisionTreeDiscretiser"
   ]
  },
  {
   "cell_type": "code",
   "execution_count": 63,
   "id": "68505189",
   "metadata": {
    "ExecuteTime": {
     "end_time": "2022-05-29T10:06:49.178494Z",
     "start_time": "2022-05-29T10:06:48.651791Z"
    },
    "hidden": true
   },
   "outputs": [
    {
     "data": {
      "text/plain": [
       "DecisionTreeDiscretiser(cv=10,\n",
       "                        param_grid={'max_depth': [1, 2, 3],\n",
       "                                    'min_samples_leaf': [10, 4]},\n",
       "                        regression=False, scoring='accuracy',\n",
       "                        variables=['Age', 'Fare'])"
      ]
     },
     "execution_count": 63,
     "metadata": {},
     "output_type": "execute_result"
    }
   ],
   "source": [
    "# set up the decision tree discretiser indicating:\n",
    "# cross-validation number (cv)\n",
    "# how to evaluate model performance (scoring)\n",
    "# the variables we want to discretise (variables)\n",
    "# whether it is a target for regression or classification\n",
    "# and the grid with the parameters we want to test\n",
    "\n",
    "treeDisc = DecisionTreeDiscretiser(cv=10, scoring='accuracy',\n",
    "                                   variables=['Age', 'Fare'],\n",
    "                                   regression=False,\n",
    "                                   param_grid={'max_depth': [1, 2, 3],\n",
    "                                              'min_samples_leaf':[10,4]})\n",
    "\n",
    "treeDisc.fit(X_train, y_train)"
   ]
  },
  {
   "cell_type": "code",
   "execution_count": 64,
   "id": "4ef98107",
   "metadata": {
    "ExecuteTime": {
     "end_time": "2022-05-29T10:06:53.597090Z",
     "start_time": "2022-05-29T10:06:53.577030Z"
    },
    "hidden": true
   },
   "outputs": [
    {
     "data": {
      "text/plain": [
       "{'max_depth': 3, 'min_samples_leaf': 10}"
      ]
     },
     "execution_count": 64,
     "metadata": {},
     "output_type": "execute_result"
    }
   ],
   "source": [
    "# we can inspect the tree for age\n",
    "treeDisc.binner_dict_['Age'].best_params_"
   ]
  },
  {
   "cell_type": "code",
   "execution_count": 65,
   "id": "5f102e32",
   "metadata": {
    "ExecuteTime": {
     "end_time": "2022-05-29T10:06:58.328767Z",
     "start_time": "2022-05-29T10:06:58.306549Z"
    },
    "hidden": true
   },
   "outputs": [
    {
     "data": {
      "text/plain": [
       "0.6324237560192616"
      ]
     },
     "execution_count": 65,
     "metadata": {},
     "output_type": "execute_result"
    }
   ],
   "source": [
    "# and the performance obtained on the train set while fitting\n",
    "treeDisc.scores_dict_['Age']"
   ]
  },
  {
   "cell_type": "code",
   "execution_count": 66,
   "id": "777cfdf7",
   "metadata": {
    "ExecuteTime": {
     "end_time": "2022-05-29T10:07:47.902785Z",
     "start_time": "2022-05-29T10:07:47.881224Z"
    },
    "hidden": true
   },
   "outputs": [
    {
     "data": {
      "text/plain": [
       "{'max_depth': 2, 'min_samples_leaf': 10}"
      ]
     },
     "execution_count": 66,
     "metadata": {},
     "output_type": "execute_result"
    }
   ],
   "source": [
    "# and the best parameters for fare\n",
    "treeDisc.binner_dict_['Fare'].best_params_"
   ]
  },
  {
   "cell_type": "code",
   "execution_count": 67,
   "id": "bfff9693",
   "metadata": {
    "ExecuteTime": {
     "end_time": "2022-05-29T10:07:51.532028Z",
     "start_time": "2022-05-29T10:07:51.523441Z"
    },
    "hidden": true
   },
   "outputs": [
    {
     "data": {
      "text/plain": [
       "0.6645264847512039"
      ]
     },
     "execution_count": 67,
     "metadata": {},
     "output_type": "execute_result"
    }
   ],
   "source": [
    "# and the performance obtained on the train set while fitting\n",
    "\n",
    "treeDisc.scores_dict_['Fare']"
   ]
  },
  {
   "cell_type": "markdown",
   "id": "b7b73844",
   "metadata": {
    "hidden": true
   },
   "source": [
    "By comparing the accuracy of the decision trees for age and fare, we can derive that fare is a better indicator of the outcome survived."
   ]
  },
  {
   "cell_type": "code",
   "execution_count": 70,
   "id": "55307ea3",
   "metadata": {
    "ExecuteTime": {
     "end_time": "2022-05-29T10:10:07.949466Z",
     "start_time": "2022-05-29T10:10:07.919990Z"
    },
    "hidden": true
   },
   "outputs": [
    {
     "data": {
      "text/html": [
       "<div>\n",
       "<style scoped>\n",
       "    .dataframe tbody tr th:only-of-type {\n",
       "        vertical-align: middle;\n",
       "    }\n",
       "\n",
       "    .dataframe tbody tr th {\n",
       "        vertical-align: top;\n",
       "    }\n",
       "\n",
       "    .dataframe thead th {\n",
       "        text-align: right;\n",
       "    }\n",
       "</style>\n",
       "<table border=\"1\" class=\"dataframe\">\n",
       "  <thead>\n",
       "    <tr style=\"text-align: right;\">\n",
       "      <th></th>\n",
       "      <th>Age</th>\n",
       "      <th>Fare</th>\n",
       "    </tr>\n",
       "  </thead>\n",
       "  <tbody>\n",
       "    <tr>\n",
       "      <th>857</th>\n",
       "      <td>51.0</td>\n",
       "      <td>26.5500</td>\n",
       "    </tr>\n",
       "    <tr>\n",
       "      <th>52</th>\n",
       "      <td>49.0</td>\n",
       "      <td>76.7292</td>\n",
       "    </tr>\n",
       "    <tr>\n",
       "      <th>386</th>\n",
       "      <td>1.0</td>\n",
       "      <td>46.9000</td>\n",
       "    </tr>\n",
       "    <tr>\n",
       "      <th>124</th>\n",
       "      <td>54.0</td>\n",
       "      <td>77.2875</td>\n",
       "    </tr>\n",
       "    <tr>\n",
       "      <th>578</th>\n",
       "      <td>14.5</td>\n",
       "      <td>14.4583</td>\n",
       "    </tr>\n",
       "    <tr>\n",
       "      <th>...</th>\n",
       "      <td>...</td>\n",
       "      <td>...</td>\n",
       "    </tr>\n",
       "    <tr>\n",
       "      <th>835</th>\n",
       "      <td>39.0</td>\n",
       "      <td>83.1583</td>\n",
       "    </tr>\n",
       "    <tr>\n",
       "      <th>192</th>\n",
       "      <td>19.0</td>\n",
       "      <td>7.8542</td>\n",
       "    </tr>\n",
       "    <tr>\n",
       "      <th>629</th>\n",
       "      <td>29.0</td>\n",
       "      <td>7.7333</td>\n",
       "    </tr>\n",
       "    <tr>\n",
       "      <th>559</th>\n",
       "      <td>36.0</td>\n",
       "      <td>17.4000</td>\n",
       "    </tr>\n",
       "    <tr>\n",
       "      <th>684</th>\n",
       "      <td>60.0</td>\n",
       "      <td>39.0000</td>\n",
       "    </tr>\n",
       "  </tbody>\n",
       "</table>\n",
       "<p>623 rows × 2 columns</p>\n",
       "</div>"
      ],
      "text/plain": [
       "      Age     Fare\n",
       "857  51.0  26.5500\n",
       "52   49.0  76.7292\n",
       "386   1.0  46.9000\n",
       "124  54.0  77.2875\n",
       "578  14.5  14.4583\n",
       "..    ...      ...\n",
       "835  39.0  83.1583\n",
       "192  19.0   7.8542\n",
       "629  29.0   7.7333\n",
       "559  36.0  17.4000\n",
       "684  60.0  39.0000\n",
       "\n",
       "[623 rows x 2 columns]"
      ]
     },
     "execution_count": 70,
     "metadata": {},
     "output_type": "execute_result"
    }
   ],
   "source": [
    "X_train"
   ]
  },
  {
   "cell_type": "code",
   "execution_count": 71,
   "id": "9b228bd9",
   "metadata": {
    "ExecuteTime": {
     "end_time": "2022-05-29T10:10:15.804475Z",
     "start_time": "2022-05-29T10:10:15.771154Z"
    },
    "hidden": true
   },
   "outputs": [],
   "source": [
    "# let's transform the data\n",
    "\n",
    "train_t = treeDisc.transform(X_train)\n",
    "test_t = treeDisc.transform(X_test)"
   ]
  },
  {
   "cell_type": "code",
   "execution_count": 72,
   "id": "3d38e4a3",
   "metadata": {
    "ExecuteTime": {
     "end_time": "2022-05-29T10:10:21.039479Z",
     "start_time": "2022-05-29T10:10:21.001050Z"
    },
    "hidden": true
   },
   "outputs": [
    {
     "data": {
      "text/html": [
       "<div>\n",
       "<style scoped>\n",
       "    .dataframe tbody tr th:only-of-type {\n",
       "        vertical-align: middle;\n",
       "    }\n",
       "\n",
       "    .dataframe tbody tr th {\n",
       "        vertical-align: top;\n",
       "    }\n",
       "\n",
       "    .dataframe thead th {\n",
       "        text-align: right;\n",
       "    }\n",
       "</style>\n",
       "<table border=\"1\" class=\"dataframe\">\n",
       "  <thead>\n",
       "    <tr style=\"text-align: right;\">\n",
       "      <th></th>\n",
       "      <th>Age</th>\n",
       "      <th>Fare</th>\n",
       "    </tr>\n",
       "  </thead>\n",
       "  <tbody>\n",
       "    <tr>\n",
       "      <th>857</th>\n",
       "      <td>0.392045</td>\n",
       "      <td>0.442308</td>\n",
       "    </tr>\n",
       "    <tr>\n",
       "      <th>52</th>\n",
       "      <td>0.392045</td>\n",
       "      <td>0.746269</td>\n",
       "    </tr>\n",
       "    <tr>\n",
       "      <th>386</th>\n",
       "      <td>0.750000</td>\n",
       "      <td>0.442308</td>\n",
       "    </tr>\n",
       "    <tr>\n",
       "      <th>124</th>\n",
       "      <td>0.392045</td>\n",
       "      <td>0.746269</td>\n",
       "    </tr>\n",
       "    <tr>\n",
       "      <th>578</th>\n",
       "      <td>0.818182</td>\n",
       "      <td>0.442308</td>\n",
       "    </tr>\n",
       "    <tr>\n",
       "      <th>...</th>\n",
       "      <td>...</td>\n",
       "      <td>...</td>\n",
       "    </tr>\n",
       "    <tr>\n",
       "      <th>835</th>\n",
       "      <td>0.392045</td>\n",
       "      <td>0.746269</td>\n",
       "    </tr>\n",
       "    <tr>\n",
       "      <th>192</th>\n",
       "      <td>0.331579</td>\n",
       "      <td>0.255319</td>\n",
       "    </tr>\n",
       "    <tr>\n",
       "      <th>629</th>\n",
       "      <td>0.392045</td>\n",
       "      <td>0.255319</td>\n",
       "    </tr>\n",
       "    <tr>\n",
       "      <th>559</th>\n",
       "      <td>0.392045</td>\n",
       "      <td>0.442308</td>\n",
       "    </tr>\n",
       "    <tr>\n",
       "      <th>684</th>\n",
       "      <td>0.392045</td>\n",
       "      <td>0.442308</td>\n",
       "    </tr>\n",
       "  </tbody>\n",
       "</table>\n",
       "<p>623 rows × 2 columns</p>\n",
       "</div>"
      ],
      "text/plain": [
       "          Age      Fare\n",
       "857  0.392045  0.442308\n",
       "52   0.392045  0.746269\n",
       "386  0.750000  0.442308\n",
       "124  0.392045  0.746269\n",
       "578  0.818182  0.442308\n",
       "..        ...       ...\n",
       "835  0.392045  0.746269\n",
       "192  0.331579  0.255319\n",
       "629  0.392045  0.255319\n",
       "559  0.392045  0.442308\n",
       "684  0.392045  0.442308\n",
       "\n",
       "[623 rows x 2 columns]"
      ]
     },
     "execution_count": 72,
     "metadata": {},
     "output_type": "execute_result"
    }
   ],
   "source": [
    "train_t"
   ]
  },
  {
   "cell_type": "code",
   "execution_count": 69,
   "id": "e26f836d",
   "metadata": {
    "ExecuteTime": {
     "end_time": "2022-05-29T10:07:55.811957Z",
     "start_time": "2022-05-29T10:07:55.757477Z"
    },
    "hidden": true
   },
   "outputs": [
    {
     "data": {
      "text/plain": [
       "array([0.39204545, 0.75      , 0.81818182, 0.45833333, 0.33157895,\n",
       "       0.1       ])"
      ]
     },
     "execution_count": 69,
     "metadata": {},
     "output_type": "execute_result"
    }
   ],
   "source": [
    "# let's inspect how many bins we found\n",
    "\n",
    "train_t['Age'].unique()"
   ]
  },
  {
   "cell_type": "code",
   "execution_count": 73,
   "id": "c79592e5",
   "metadata": {
    "ExecuteTime": {
     "end_time": "2022-05-29T10:11:36.319302Z",
     "start_time": "2022-05-29T10:11:36.065477Z"
    },
    "hidden": true
   },
   "outputs": [
    {
     "data": {
      "text/plain": [
       "Text(0, 0.5, 'Survived')"
      ]
     },
     "execution_count": 73,
     "metadata": {},
     "output_type": "execute_result"
    },
    {
     "data": {
      "image/png": "[encoded data removed]",
      "text/plain": [
       "<Figure size 432x288 with 1 Axes>"
      ]
     },
     "metadata": {
      "needs_background": "light"
     },
     "output_type": "display_data"
    }
   ],
   "source": [
    "# monotonic relationship with target: train set\n",
    "\n",
    "pd.concat([train_t, y_train], axis=1).groupby(['Age'])['Survived'].mean().plot()\n",
    "plt.title('Monotonic relationship between discretised Age and target')\n",
    "plt.ylabel('Survived')"
   ]
  },
  {
   "cell_type": "code",
   "execution_count": 74,
   "id": "d0358d5b",
   "metadata": {
    "ExecuteTime": {
     "end_time": "2022-05-29T10:12:21.298338Z",
     "start_time": "2022-05-29T10:12:21.046390Z"
    },
    "hidden": true
   },
   "outputs": [
    {
     "data": {
      "text/plain": [
       "Text(0, 0.5, 'Survived')"
      ]
     },
     "execution_count": 74,
     "metadata": {},
     "output_type": "execute_result"
    },
    {
     "data": {
      "image/png": "[encoded data removed]",
      "text/plain": [
       "<Figure size 432x288 with 1 Axes>"
      ]
     },
     "metadata": {
      "needs_background": "light"
     },
     "output_type": "display_data"
    }
   ],
   "source": [
    "# monotonic relationship with target: test set\n",
    "\n",
    "pd.concat([test_t, y_test], axis=1).groupby(['Age'])['Survived'].mean().plot()\n",
    "plt.title('Monotonic relationship between discretised Age and target')\n",
    "plt.ylabel('Survived')"
   ]
  },
  {
   "cell_type": "markdown",
   "id": "015754f4",
   "metadata": {
    "hidden": true
   },
   "source": [
    "Our tree kept the monotonic relationship between bins and target."
   ]
  },
  {
   "cell_type": "code",
   "execution_count": 75,
   "id": "50c79c17",
   "metadata": {
    "ExecuteTime": {
     "end_time": "2022-05-29T10:13:45.255316Z",
     "start_time": "2022-05-29T10:13:44.994099Z"
    },
    "hidden": true
   },
   "outputs": [
    {
     "data": {
      "text/plain": [
       "Text(0, 0.5, 'Survived')"
      ]
     },
     "execution_count": 75,
     "metadata": {},
     "output_type": "execute_result"
    },
    {
     "data": {
      "image/png": "[encoded data removed]",
      "text/plain": [
       "<Figure size 432x288 with 1 Axes>"
      ]
     },
     "metadata": {
      "needs_background": "light"
     },
     "output_type": "display_data"
    }
   ],
   "source": [
    "# let's explore the monotonic relationship for fare\n",
    "pd.concat([train_t, y_train], axis=1).groupby(['Fare'])['Survived'].mean().plot()\n",
    "plt.title('Monotonic relationship between discretised Age and target')\n",
    "plt.ylabel('Survived')"
   ]
  },
  {
   "cell_type": "code",
   "execution_count": 76,
   "id": "b137519c",
   "metadata": {
    "ExecuteTime": {
     "end_time": "2022-05-29T10:13:46.483554Z",
     "start_time": "2022-05-29T10:13:46.076546Z"
    },
    "hidden": true
   },
   "outputs": [
    {
     "data": {
      "text/plain": [
       "Text(0, 0.5, 'Survived')"
      ]
     },
     "execution_count": 76,
     "metadata": {},
     "output_type": "execute_result"
    },
    {
     "data": {
      "image/png": "[encoded data removed]",
      "text/plain": [
       "<Figure size 432x288 with 1 Axes>"
      ]
     },
     "metadata": {
      "needs_background": "light"
     },
     "output_type": "display_data"
    }
   ],
   "source": [
    "# monotonic relationship with target: test set\n",
    "\n",
    "pd.concat([test_t, y_test], axis=1).groupby(['Fare'])['Survived'].mean().plot()\n",
    "plt.title('Monotonic relationship between discretised Age and target')\n",
    "plt.ylabel('Survived')"
   ]
  },
  {
   "cell_type": "markdown",
   "id": "0dd10d00",
   "metadata": {
    "hidden": true
   },
   "source": [
    "For fare, the monotonic relationship was preserved, almost entirely, except at the edges, which suggests that the tree could be overfitting to the train set."
   ]
  },
  {
   "cell_type": "code",
   "execution_count": 77,
   "id": "d7c5c196",
   "metadata": {
    "ExecuteTime": {
     "end_time": "2022-05-29T10:14:48.089148Z",
     "start_time": "2022-05-29T10:14:47.782244Z"
    },
    "hidden": true
   },
   "outputs": [
    {
     "data": {
      "text/plain": [
       "Text(0, 0.5, 'Number of observations per bin')"
      ]
     },
     "execution_count": 77,
     "metadata": {},
     "output_type": "execute_result"
    },
    {
     "data": {
      "image/png": "[encoded data removed]",
      "text/plain": [
       "<Figure size 432x288 with 1 Axes>"
      ]
     },
     "metadata": {
      "needs_background": "light"
     },
     "output_type": "display_data"
    }
   ],
   "source": [
    "# let's explore how many observations we have per bin\n",
    "\n",
    "t1 = train_t.groupby(['Age'])['Age'].count() / len(train_t)\n",
    "t2 = test_t.groupby(['Age'])['Age'].count() / len(test_t)\n",
    "\n",
    "tmp = pd.concat([t1, t2], axis=1)\n",
    "tmp.columns = ['train', 'test']\n",
    "tmp.plot.bar()\n",
    "plt.xticks(rotation=45)\n",
    "plt.ylabel('Number of observations per bin')"
   ]
  },
  {
   "cell_type": "markdown",
   "id": "fe94c66f",
   "metadata": {
    "hidden": true
   },
   "source": [
    "Most of the observations are in the middle bucket, which indicates that this variable is not very predictive. "
   ]
  },
  {
   "cell_type": "code",
   "execution_count": 78,
   "id": "c9bd8ef5",
   "metadata": {
    "ExecuteTime": {
     "end_time": "2022-05-29T10:15:30.666133Z",
     "start_time": "2022-05-29T10:15:30.419240Z"
    },
    "hidden": true
   },
   "outputs": [
    {
     "data": {
      "text/plain": [
       "Text(0, 0.5, 'Number of observations per bin')"
      ]
     },
     "execution_count": 78,
     "metadata": {},
     "output_type": "execute_result"
    },
    {
     "data": {
      "image/png": "[encoded data removed]",
      "text/plain": [
       "<Figure size 432x288 with 1 Axes>"
      ]
     },
     "metadata": {
      "needs_background": "light"
     },
     "output_type": "display_data"
    }
   ],
   "source": [
    "# let's explore how many observations we have per bin\n",
    "\n",
    "t1 = train_t.groupby(['Fare'])['Fare'].count() / len(train_t)\n",
    "t2 = test_t.groupby(['Fare'])['Fare'].count() / len(test_t)\n",
    "\n",
    "tmp = pd.concat([t1, t2], axis=1)\n",
    "tmp.columns = ['train', 'test']\n",
    "tmp.plot.bar()\n",
    "plt.xticks(rotation=45)\n",
    "plt.ylabel('Number of observations per bin')"
   ]
  },
  {
   "cell_type": "markdown",
   "id": "5fd8c74f",
   "metadata": {
    "hidden": true
   },
   "source": [
    "For fare, the tree sorted the values in more buckets, therefore creating a better value spread (remember that fare was quite skewed)."
   ]
  }
 ],
 "metadata": {
  "kernelspec": {
   "display_name": "Python 3 (ipykernel)",
   "language": "python",
   "name": "python3"
  },
  "language_info": {
   "codemirror_mode": {
    "name": "ipython",
    "version": 3
   },
   "file_extension": ".py",
   "mimetype": "text/x-python",
   "name": "python",
   "nbconvert_exporter": "python",
   "pygments_lexer": "ipython3",
   "version": "3.7.11"
  }
 },
 "nbformat": 4,
 "nbformat_minor": 5
}
