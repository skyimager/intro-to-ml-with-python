{
 "cells": [
  {
   "cell_type": "markdown",
   "metadata": {},
   "source": [
    "# Interest Rate Prediction"
   ]
  },
  {
   "cell_type": "markdown",
   "metadata": {},
   "source": [
    "## Case Study"
   ]
  },
  {
   "cell_type": "markdown",
   "metadata": {},
   "source": [
    "This data belongs to a loan aggregator agency which connects loan applications to different financial institutions in attempt to get the best interest rate. They want to now utilise past data to predict interest rate given by any financial institute just by looking at loan application characteristics.\n",
    "\n",
    "To achieve that , they have decided to do a POC with a data from a particular financial institution. The data is given in the file \"loans data.csv\". Lets begin: "
   ]
  },
  {
   "cell_type": "markdown",
   "metadata": {},
   "source": [
    "## Step 0: Basic Imports"
   ]
  },
  {
   "cell_type": "code",
   "execution_count": 1,
   "metadata": {
    "ExecuteTime": {
     "end_time": "2022-05-29T10:31:43.229359Z",
     "start_time": "2022-05-29T10:31:43.199772Z"
    }
   },
   "outputs": [],
   "source": [
    "# this is specific to macos X , windows/linux users dont need this \n",
    "# without this , while using xgboost , you get errors , kernel dies\n",
    "import os\n",
    "os.environ['KMP_DUPLICATE_LIB_OK']='True'"
   ]
  },
  {
   "cell_type": "code",
   "execution_count": 2,
   "metadata": {
    "ExecuteTime": {
     "end_time": "2022-05-29T10:31:43.513335Z",
     "start_time": "2022-05-29T10:31:43.490567Z"
    }
   },
   "outputs": [],
   "source": [
    "import warnings\n",
    "warnings.filterwarnings('ignore')"
   ]
  },
  {
   "cell_type": "code",
   "execution_count": 3,
   "metadata": {
    "ExecuteTime": {
     "end_time": "2022-05-29T10:31:45.878414Z",
     "start_time": "2022-05-29T10:31:43.861618Z"
    }
   },
   "outputs": [],
   "source": [
    "import pandas as pd \n",
    "import numpy as np\n",
    "import matplotlib.pyplot as plt\n",
    "import seaborn as sns"
   ]
  },
  {
   "cell_type": "markdown",
   "metadata": {},
   "source": [
    "## Step 1: Load dataset"
   ]
  },
  {
   "cell_type": "code",
   "execution_count": 4,
   "metadata": {
    "ExecuteTime": {
     "end_time": "2022-05-29T10:31:53.093983Z",
     "start_time": "2022-05-29T10:31:53.053826Z"
    }
   },
   "outputs": [],
   "source": [
    "train_file = './data/loan_data_train.csv' #relative path. So in present working directory it will look for data folder.\n",
    "test_file = './data/loan_data_test.csv'\n",
    "\n",
    "df_train = pd.read_csv(train_file) #read_csv is a function in pandas.\n",
    "df_test = pd.read_csv(test_file)               "
   ]
  },
  {
   "cell_type": "code",
   "execution_count": 5,
   "metadata": {
    "ExecuteTime": {
     "end_time": "2022-05-29T10:31:53.941332Z",
     "start_time": "2022-05-29T10:31:53.874330Z"
    }
   },
   "outputs": [
    {
     "name": "stdout",
     "output_type": "stream",
     "text": [
      "(2200, 15)\n"
     ]
    },
    {
     "data": {
      "text/html": [
       "<div>\n",
       "<style scoped>\n",
       "    .dataframe tbody tr th:only-of-type {\n",
       "        vertical-align: middle;\n",
       "    }\n",
       "\n",
       "    .dataframe tbody tr th {\n",
       "        vertical-align: top;\n",
       "    }\n",
       "\n",
       "    .dataframe thead th {\n",
       "        text-align: right;\n",
       "    }\n",
       "</style>\n",
       "<table border=\"1\" class=\"dataframe\">\n",
       "  <thead>\n",
       "    <tr style=\"text-align: right;\">\n",
       "      <th></th>\n",
       "      <th>ID</th>\n",
       "      <th>Amount.Requested</th>\n",
       "      <th>Amount.Funded.By.Investors</th>\n",
       "      <th>Interest.Rate</th>\n",
       "      <th>Loan.Length</th>\n",
       "      <th>Loan.Purpose</th>\n",
       "      <th>Debt.To.Income.Ratio</th>\n",
       "      <th>State</th>\n",
       "      <th>Home.Ownership</th>\n",
       "      <th>Monthly.Income</th>\n",
       "      <th>FICO.Range</th>\n",
       "      <th>Open.CREDIT.Lines</th>\n",
       "      <th>Revolving.CREDIT.Balance</th>\n",
       "      <th>Inquiries.in.the.Last.6.Months</th>\n",
       "      <th>Employment.Length</th>\n",
       "    </tr>\n",
       "  </thead>\n",
       "  <tbody>\n",
       "    <tr>\n",
       "      <th>0</th>\n",
       "      <td>79542.0</td>\n",
       "      <td>25000</td>\n",
       "      <td>25000</td>\n",
       "      <td>18.49%</td>\n",
       "      <td>60 months</td>\n",
       "      <td>debt_consolidation</td>\n",
       "      <td>27.56%</td>\n",
       "      <td>VA</td>\n",
       "      <td>MORTGAGE</td>\n",
       "      <td>8606.56</td>\n",
       "      <td>720-724</td>\n",
       "      <td>11</td>\n",
       "      <td>15210</td>\n",
       "      <td>3.0</td>\n",
       "      <td>5 years</td>\n",
       "    </tr>\n",
       "    <tr>\n",
       "      <th>1</th>\n",
       "      <td>75473.0</td>\n",
       "      <td>19750</td>\n",
       "      <td>19750</td>\n",
       "      <td>17.27%</td>\n",
       "      <td>60 months</td>\n",
       "      <td>debt_consolidation</td>\n",
       "      <td>13.39%</td>\n",
       "      <td>NY</td>\n",
       "      <td>MORTGAGE</td>\n",
       "      <td>6737.50</td>\n",
       "      <td>710-714</td>\n",
       "      <td>14</td>\n",
       "      <td>19070</td>\n",
       "      <td>3.0</td>\n",
       "      <td>4 years</td>\n",
       "    </tr>\n",
       "    <tr>\n",
       "      <th>2</th>\n",
       "      <td>67265.0</td>\n",
       "      <td>2100</td>\n",
       "      <td>2100</td>\n",
       "      <td>14.33%</td>\n",
       "      <td>36 months</td>\n",
       "      <td>major_purchase</td>\n",
       "      <td>3.50%</td>\n",
       "      <td>LA</td>\n",
       "      <td>OWN</td>\n",
       "      <td>1000.00</td>\n",
       "      <td>690-694</td>\n",
       "      <td>13</td>\n",
       "      <td>893</td>\n",
       "      <td>1.0</td>\n",
       "      <td>&lt; 1 year</td>\n",
       "    </tr>\n",
       "    <tr>\n",
       "      <th>3</th>\n",
       "      <td>80167.0</td>\n",
       "      <td>28000</td>\n",
       "      <td>28000</td>\n",
       "      <td>16.29%</td>\n",
       "      <td>36 months</td>\n",
       "      <td>credit_card</td>\n",
       "      <td>19.62%</td>\n",
       "      <td>NV</td>\n",
       "      <td>MORTGAGE</td>\n",
       "      <td>7083.33</td>\n",
       "      <td>710-714</td>\n",
       "      <td>12</td>\n",
       "      <td>38194</td>\n",
       "      <td>1.0</td>\n",
       "      <td>10+ years</td>\n",
       "    </tr>\n",
       "    <tr>\n",
       "      <th>4</th>\n",
       "      <td>17240.0</td>\n",
       "      <td>24250</td>\n",
       "      <td>17431.82</td>\n",
       "      <td>12.23%</td>\n",
       "      <td>60 months</td>\n",
       "      <td>credit_card</td>\n",
       "      <td>23.79%</td>\n",
       "      <td>OH</td>\n",
       "      <td>MORTGAGE</td>\n",
       "      <td>5833.33</td>\n",
       "      <td>730-734</td>\n",
       "      <td>6</td>\n",
       "      <td>31061</td>\n",
       "      <td>2.0</td>\n",
       "      <td>10+ years</td>\n",
       "    </tr>\n",
       "  </tbody>\n",
       "</table>\n",
       "</div>"
      ],
      "text/plain": [
       "        ID Amount.Requested Amount.Funded.By.Investors Interest.Rate  \\\n",
       "0  79542.0            25000                      25000        18.49%   \n",
       "1  75473.0            19750                      19750        17.27%   \n",
       "2  67265.0             2100                       2100        14.33%   \n",
       "3  80167.0            28000                      28000        16.29%   \n",
       "4  17240.0            24250                   17431.82        12.23%   \n",
       "\n",
       "  Loan.Length        Loan.Purpose Debt.To.Income.Ratio State Home.Ownership  \\\n",
       "0   60 months  debt_consolidation               27.56%    VA       MORTGAGE   \n",
       "1   60 months  debt_consolidation               13.39%    NY       MORTGAGE   \n",
       "2   36 months      major_purchase                3.50%    LA            OWN   \n",
       "3   36 months         credit_card               19.62%    NV       MORTGAGE   \n",
       "4   60 months         credit_card               23.79%    OH       MORTGAGE   \n",
       "\n",
       "   Monthly.Income FICO.Range Open.CREDIT.Lines Revolving.CREDIT.Balance  \\\n",
       "0         8606.56    720-724                11                    15210   \n",
       "1         6737.50    710-714                14                    19070   \n",
       "2         1000.00    690-694                13                      893   \n",
       "3         7083.33    710-714                12                    38194   \n",
       "4         5833.33    730-734                 6                    31061   \n",
       "\n",
       "   Inquiries.in.the.Last.6.Months Employment.Length  \n",
       "0                             3.0           5 years  \n",
       "1                             3.0           4 years  \n",
       "2                             1.0          < 1 year  \n",
       "3                             1.0         10+ years  \n",
       "4                             2.0         10+ years  "
      ]
     },
     "execution_count": 5,
     "metadata": {},
     "output_type": "execute_result"
    }
   ],
   "source": [
    "print(df_train.shape) # check no of rows (ie the no of data points) and cols (ie the no of features)\n",
    "df_train.head(5) # display the first 5 columns in your dataset"
   ]
  },
  {
   "cell_type": "markdown",
   "metadata": {},
   "source": [
    "14 features and 1 target variable"
   ]
  },
  {
   "cell_type": "code",
   "execution_count": 6,
   "metadata": {
    "ExecuteTime": {
     "end_time": "2022-05-29T10:32:24.977877Z",
     "start_time": "2022-05-29T10:32:24.951343Z"
    },
    "scrolled": true
   },
   "outputs": [
    {
     "name": "stdout",
     "output_type": "stream",
     "text": [
      "(300, 14)\n"
     ]
    },
    {
     "data": {
      "text/html": [
       "<div>\n",
       "<style scoped>\n",
       "    .dataframe tbody tr th:only-of-type {\n",
       "        vertical-align: middle;\n",
       "    }\n",
       "\n",
       "    .dataframe tbody tr th {\n",
       "        vertical-align: top;\n",
       "    }\n",
       "\n",
       "    .dataframe thead th {\n",
       "        text-align: right;\n",
       "    }\n",
       "</style>\n",
       "<table border=\"1\" class=\"dataframe\">\n",
       "  <thead>\n",
       "    <tr style=\"text-align: right;\">\n",
       "      <th></th>\n",
       "      <th>ID</th>\n",
       "      <th>Amount.Requested</th>\n",
       "      <th>Amount.Funded.By.Investors</th>\n",
       "      <th>Loan.Length</th>\n",
       "      <th>Loan.Purpose</th>\n",
       "      <th>Debt.To.Income.Ratio</th>\n",
       "      <th>State</th>\n",
       "      <th>Home.Ownership</th>\n",
       "      <th>Monthly.Income</th>\n",
       "      <th>FICO.Range</th>\n",
       "      <th>Open.CREDIT.Lines</th>\n",
       "      <th>Revolving.CREDIT.Balance</th>\n",
       "      <th>Inquiries.in.the.Last.6.Months</th>\n",
       "      <th>Employment.Length</th>\n",
       "    </tr>\n",
       "  </thead>\n",
       "  <tbody>\n",
       "    <tr>\n",
       "      <th>267</th>\n",
       "      <td>67109</td>\n",
       "      <td>4025</td>\n",
       "      <td>4025</td>\n",
       "      <td>36 months</td>\n",
       "      <td>credit_card</td>\n",
       "      <td>15.32%</td>\n",
       "      <td>CA</td>\n",
       "      <td>MORTGAGE</td>\n",
       "      <td>5000.0</td>\n",
       "      <td>700-704</td>\n",
       "      <td>12</td>\n",
       "      <td>15943</td>\n",
       "      <td>0</td>\n",
       "      <td>8 years</td>\n",
       "    </tr>\n",
       "    <tr>\n",
       "      <th>260</th>\n",
       "      <td>76810</td>\n",
       "      <td>14000</td>\n",
       "      <td>14000</td>\n",
       "      <td>36 months</td>\n",
       "      <td>credit_card</td>\n",
       "      <td>31.02%</td>\n",
       "      <td>IL</td>\n",
       "      <td>MORTGAGE</td>\n",
       "      <td>5000.0</td>\n",
       "      <td>660-664</td>\n",
       "      <td>15</td>\n",
       "      <td>12728</td>\n",
       "      <td>3</td>\n",
       "      <td>7 years</td>\n",
       "    </tr>\n",
       "  </tbody>\n",
       "</table>\n",
       "</div>"
      ],
      "text/plain": [
       "        ID  Amount.Requested Amount.Funded.By.Investors Loan.Length  \\\n",
       "267  67109              4025                       4025   36 months   \n",
       "260  76810             14000                      14000   36 months   \n",
       "\n",
       "    Loan.Purpose Debt.To.Income.Ratio State Home.Ownership  Monthly.Income  \\\n",
       "267  credit_card               15.32%    CA       MORTGAGE          5000.0   \n",
       "260  credit_card               31.02%    IL       MORTGAGE          5000.0   \n",
       "\n",
       "    FICO.Range Open.CREDIT.Lines  Revolving.CREDIT.Balance  \\\n",
       "267    700-704                12                     15943   \n",
       "260    660-664                15                     12728   \n",
       "\n",
       "     Inquiries.in.the.Last.6.Months Employment.Length  \n",
       "267                               0           8 years  \n",
       "260                               3           7 years  "
      ]
     },
     "execution_count": 6,
     "metadata": {},
     "output_type": "execute_result"
    }
   ],
   "source": [
    "#test data does not have interest rate\n",
    "print(df_test.shape)\n",
    "df_test.sample(2)"
   ]
  },
  {
   "cell_type": "markdown",
   "metadata": {},
   "source": [
    "## Step 2: Manual Feature Engg observations"
   ]
  },
  {
   "cell_type": "markdown",
   "metadata": {},
   "source": [
    "1. 'Amount.Requested': **convert it to numeric**\n",
    "2. 'Amount.Funded.By.Investors': **drop**\n",
    "3. 'Interest.Rate': **remove % and then to numeric**\n",
    "4. 'Loan.Length': **dummies for categories**\n",
    "5. 'Loan.Purpose': **dummies for categories**\n",
    "6. 'Debt.To.Income.Ratio': **remove % and then to numeric**\n",
    "7. 'State': **dummies for categories**\n",
    "8. 'Home.Ownership': **dummies for categories**\n",
    "9. 'FICO.Range': **replace it by a numeric column which is average of the range**\n",
    "10. 'Open.CREDIT.Lines': **convert it to numeric**\n",
    "11. 'Revolving.CREDIT.Balance': **convert it to numeric**\n",
    "12. 'Employment.Length': **convert it to number**\n",
    "\n",
    "\n",
    "##### Lets group by operation:\n",
    "\n",
    "1. drop: \n",
    "    - ID \n",
    "    - Amount.Funded.By.Investors\n",
    "<br>\n",
    "2. convert it to numeric \n",
    "    - Amount.Requested\n",
    "    - Open.CREDIT.Lines\n",
    "    - Revolving.CREDIT.Balance\n",
    "<br>\n",
    "3. remove % and then to numeric\n",
    "    - Interest Rate\n",
    "    - Debt to income ratio\n",
    "<br>\n",
    "4. replace it by a numeric column which is average of the range\n",
    "    - FICO.Range \n",
    "<br>\n",
    "5. convert to number:\n",
    "    - Employment Length \n",
    "<br>\n",
    "6. dummies for categories with good occurence rate:\n",
    "    - Loan Lenth\n",
    "    - Loan Purpose\n",
    "    - State\n",
    "    - Home ownership"
   ]
  },
  {
   "cell_type": "code",
   "execution_count": null,
   "metadata": {
    "ExecuteTime": {
     "end_time": "2022-05-29T04:27:47.370609Z",
     "start_time": "2022-05-29T04:27:47.356249Z"
    }
   },
   "outputs": [],
   "source": [
    "# Manul Feature Engg pipeline for Test dataset\n",
    "\n",
    "# def preprocessing(dataframe, to_store, std):\n",
    "    \n",
    "#     #Operation1\n",
    "#     dataframe = dataframe.drop(['ID','Amount.Funded.By.Investors'],axis=1)\n",
    "    \n",
    "#     #Operation2\n",
    "#     for col in ['Amount.Requested', 'Open.CREDIT.Lines','Revolving.CREDIT.Balance']:\n",
    "#         dataframe[col]=pd.to_numeric(dataframe[col],errors='coerce')\n",
    "    \n",
    "#     #Operation3\n",
    "#     for col in ['Debt.To.Income.Ratio']:\n",
    "#         dataframe[col] = dataframe[col].str.replace(\"%\",\"\") \n",
    "    \n",
    "#     for col in ['Debt.To.Income.Ratio']:\n",
    "#         dataframe[col]=pd.to_numeric(dataframe[col],errors='coerce') \n",
    "    \n",
    "#     #Operation4\n",
    "#     k=dataframe['FICO.Range'].str.split(\"-\",expand=True).astype(float)\n",
    "#     dataframe['fico']=0.5*(k[0]+k[1])\n",
    "#     del dataframe['FICO.Range']\n",
    "    \n",
    "#     #Operation5\n",
    "#     dataframe['Employment.Length']=dataframe['Employment.Length'].str.replace('years',\"\")\n",
    "#     dataframe['Employment.Length']=dataframe['Employment.Length'].str.replace('year',\"\")\n",
    "    \n",
    "#     dataframe['Employment.Length']=np.where(dataframe['Employment.Length'].str[:2]==\"10\",10,\n",
    "#                                        dataframe['Employment.Length'])\n",
    "\n",
    "#     dataframe['Employment.Length']=np.where(dataframe['Employment.Length'].str[0]==\"<\",0,\n",
    "#                                        dataframe['Employment.Length'])\n",
    "    \n",
    "#     dataframe['Employment.Length']=pd.to_numeric(dataframe['Employment.Length'],errors='coerce')\n",
    "    \n",
    "#     #Operation6\n",
    "#     for column, categories in to_store:\n",
    "#         for category in categories:\n",
    "#             name=column+'.'+category\n",
    "#             dataframe[name]=(dataframe[column]==category).astype(int)\n",
    "#         del dataframe[column]\n",
    "    \n",
    "#     #Missing values\n",
    "#     imputer = SimpleImputer(missing_values=np.nan, strategy='mean')\n",
    "#     dataframe = pd.DataFrame(imputer.fit_transform(dataframe), columns=dataframe.columns)\n",
    "    \n",
    "#     #data scaling\n",
    "#     X_test = dataframe.values\n",
    "#     X_test = std.transform(X_test) #standard scaling\n",
    "    \n",
    "#     return X_test"
   ]
  },
  {
   "cell_type": "markdown",
   "metadata": {},
   "source": [
    "# Feature Engg with Python Pipelines"
   ]
  },
  {
   "cell_type": "code",
   "execution_count": 28,
   "metadata": {
    "ExecuteTime": {
     "end_time": "2022-05-29T11:01:30.168341Z",
     "start_time": "2022-05-29T11:01:30.142561Z"
    }
   },
   "outputs": [],
   "source": [
    "from mypipes import *"
   ]
  },
  {
   "cell_type": "code",
   "execution_count": null,
   "metadata": {
    "ExecuteTime": {
     "end_time": "2022-05-29T04:27:48.740890Z",
     "start_time": "2022-05-29T04:27:48.730067Z"
    }
   },
   "outputs": [],
   "source": [
    "# Transformers - fit, transform (multiple Transformers)\n",
    "# Estimator - fit and predict (Single estimator)"
   ]
  },
  {
   "cell_type": "code",
   "execution_count": null,
   "metadata": {
    "ExecuteTime": {
     "end_time": "2022-05-29T04:27:49.153838Z",
     "start_time": "2022-05-29T04:27:49.134922Z"
    }
   },
   "outputs": [],
   "source": [
    "# pipe_name=pdPipeline([\n",
    "#     ('name of the process',call to process),\n",
    "#     ('name of the process', call to process),\n",
    "#     .....\n",
    "# ])"
   ]
  },
  {
   "cell_type": "code",
   "execution_count": 8,
   "metadata": {
    "ExecuteTime": {
     "end_time": "2022-05-29T10:49:15.558772Z",
     "start_time": "2022-05-29T10:49:15.518794Z"
    }
   },
   "outputs": [],
   "source": [
    "#Operation2\n",
    "# for col in ['Amount.Requested', 'Open.CREDIT.Lines','Revolving.CREDIT.Balance']:\n",
    "#   dataframe[col]=pd.to_numeric(dataframe[col],errors='coerce')\n",
    "\n",
    "    \n",
    "p1=pdPipeline([\n",
    "    ('var_select',VarSelector(['Amount.Requested','Open.CREDIT.Lines','Revolving.CREDIT.Balance'])),\n",
    "    ('convert_to_numeric',convert_to_numeric()),\n",
    "    ('missing_trt',DataFrameImputer())\n",
    "])"
   ]
  },
  {
   "cell_type": "code",
   "execution_count": 9,
   "metadata": {
    "ExecuteTime": {
     "end_time": "2022-05-29T10:49:15.903882Z",
     "start_time": "2022-05-29T10:49:15.890940Z"
    }
   },
   "outputs": [],
   "source": [
    "#Operation3\n",
    "# for col in ['Debt.To.Income.Ratio']:\n",
    "#     dataframe[col] = dataframe[col].str.replace(\"%\",\"\") \n",
    "\n",
    "# for col in ['Debt.To.Income.Ratio']:\n",
    "#     dataframe[col]=pd.to_numeric(dataframe[col],errors='coerce') \n",
    "        \n",
    "p2=pdPipeline([\n",
    "    ('var_select',VarSelector(['Debt.To.Income.Ratio'])),\n",
    "    ('string_clean',string_clean(replace_it='%',replace_with='')),\n",
    "    ('convert_to_numeric',convert_to_numeric()),\n",
    "    ('missing_trt',DataFrameImputer())\n",
    "])"
   ]
  },
  {
   "cell_type": "code",
   "execution_count": 10,
   "metadata": {
    "ExecuteTime": {
     "end_time": "2022-05-29T10:49:16.253390Z",
     "start_time": "2022-05-29T10:49:16.249573Z"
    }
   },
   "outputs": [],
   "source": [
    "#Operation4\n",
    "# k=dataframe['FICO.Range'].str.split(\"-\",expand=True).astype(float)\n",
    "# dataframe['fico']=0.5*(k[0]+k[1])\n",
    "# del dataframe['FICO.Range']\n",
    " \n",
    "p3=pdPipeline([\n",
    "    ('var_select',VarSelector(['FICO.Range'])),\n",
    "    ('custom_fico',custom_fico()),\n",
    "    ('missing_trt',DataFrameImputer())\n",
    "])"
   ]
  },
  {
   "cell_type": "code",
   "execution_count": 11,
   "metadata": {
    "ExecuteTime": {
     "end_time": "2022-05-29T10:49:16.746237Z",
     "start_time": "2022-05-29T10:49:16.740531Z"
    }
   },
   "outputs": [],
   "source": [
    "p4=pdPipeline([\n",
    "    ('var_select',VarSelector(['Monthly.Income','Inquiries.in.the.Last.6.Months'])),\n",
    "    ('missing_trt',DataFrameImputer())\n",
    "])"
   ]
  },
  {
   "cell_type": "code",
   "execution_count": 12,
   "metadata": {
    "ExecuteTime": {
     "end_time": "2022-05-29T10:49:17.155147Z",
     "start_time": "2022-05-29T10:49:17.132197Z"
    }
   },
   "outputs": [],
   "source": [
    "p5=pdPipeline([\n",
    "    ('var_select',VarSelector(['Loan.Length', 'Loan.Purpose','State','Home.Ownership',\n",
    "                               'Employment.Length'])),\n",
    "    ('missing_trt',DataFrameImputer()),\n",
    "    ('create_dummies',get_dummies_Pipe(20))\n",
    "])"
   ]
  },
  {
   "cell_type": "code",
   "execution_count": 13,
   "metadata": {
    "ExecuteTime": {
     "end_time": "2022-05-29T10:50:04.391435Z",
     "start_time": "2022-05-29T10:50:04.379272Z"
    }
   },
   "outputs": [],
   "source": [
    "data_pipe = FeatureUnion([\n",
    "              ('obj_to_num',p1),\n",
    "              ('dtir',p2),\n",
    "              ('fico',p3),\n",
    "              ('num',p4),\n",
    "              ('obj_to_dum',p5)\n",
    "            ])"
   ]
  },
  {
   "cell_type": "code",
   "execution_count": 14,
   "metadata": {
    "ExecuteTime": {
     "end_time": "2022-05-29T10:50:31.502002Z",
     "start_time": "2022-05-29T10:50:31.407265Z"
    }
   },
   "outputs": [
    {
     "data": {
      "text/plain": [
       "FeatureUnion(transformer_list=[('obj_to_num',\n",
       "                                pdPipeline(steps=[('var_select',\n",
       "                                                   VarSelector(feature_names=['Amount.Requested',\n",
       "                                                                              'Open.CREDIT.Lines',\n",
       "                                                                              'Revolving.CREDIT.Balance'])),\n",
       "                                                  ('convert_to_numeric',\n",
       "                                                   convert_to_numeric()),\n",
       "                                                  ('missing_trt',\n",
       "                                                   DataFrameImputer())])),\n",
       "                               ('dtir',\n",
       "                                pdPipeline(steps=[('var_select',\n",
       "                                                   VarSelector(feature_names=['Debt.To.Income.Ratio'])),\n",
       "                                                  ('...\n",
       "                                                   VarSelector(feature_names=['Monthly.Income',\n",
       "                                                                              'Inquiries.in.the.Last.6.Months'])),\n",
       "                                                  ('missing_trt',\n",
       "                                                   DataFrameImputer())])),\n",
       "                               ('obj_to_dum',\n",
       "                                pdPipeline(steps=[('var_select',\n",
       "                                                   VarSelector(feature_names=['Loan.Length',\n",
       "                                                                              'Loan.Purpose',\n",
       "                                                                              'State',\n",
       "                                                                              'Home.Ownership',\n",
       "                                                                              'Employment.Length'])),\n",
       "                                                  ('missing_trt',\n",
       "                                                   DataFrameImputer()),\n",
       "                                                  ('create_dummies',\n",
       "                                                   get_dummies_Pipe(freq_cutoff=20))]))])"
      ]
     },
     "execution_count": 14,
     "metadata": {},
     "output_type": "execute_result"
    }
   ],
   "source": [
    "data_pipe.fit(df_train)"
   ]
  },
  {
   "cell_type": "code",
   "execution_count": 17,
   "metadata": {
    "ExecuteTime": {
     "end_time": "2022-05-29T10:51:02.759677Z",
     "start_time": "2022-05-29T10:51:02.715466Z"
    }
   },
   "outputs": [
    {
     "data": {
      "text/plain": [
       "60"
      ]
     },
     "execution_count": 17,
     "metadata": {},
     "output_type": "execute_result"
    }
   ],
   "source": [
    "len(data_pipe.get_feature_names())"
   ]
  },
  {
   "cell_type": "code",
   "execution_count": 18,
   "metadata": {
    "ExecuteTime": {
     "end_time": "2022-05-29T10:51:04.424404Z",
     "start_time": "2022-05-29T10:51:04.234572Z"
    }
   },
   "outputs": [
    {
     "data": {
      "text/plain": [
       "(2200, 60)"
      ]
     },
     "execution_count": 18,
     "metadata": {},
     "output_type": "execute_result"
    }
   ],
   "source": [
    "data_pipe.transform(df_train).shape"
   ]
  },
  {
   "cell_type": "code",
   "execution_count": 21,
   "metadata": {
    "ExecuteTime": {
     "end_time": "2022-05-29T10:51:21.866641Z",
     "start_time": "2022-05-29T10:51:21.710546Z"
    }
   },
   "outputs": [],
   "source": [
    "x_train=pd.DataFrame(data=data_pipe.transform(df_train),\n",
    "                     columns=data_pipe.get_feature_names())"
   ]
  },
  {
   "cell_type": "code",
   "execution_count": 22,
   "metadata": {
    "ExecuteTime": {
     "end_time": "2022-05-29T10:51:22.337599Z",
     "start_time": "2022-05-29T10:51:22.259936Z"
    }
   },
   "outputs": [],
   "source": [
    "x_test=pd.DataFrame(data=data_pipe.transform(df_test),\n",
    "                    columns=data_pipe.get_feature_names())"
   ]
  },
  {
   "cell_type": "code",
   "execution_count": 23,
   "metadata": {
    "ExecuteTime": {
     "end_time": "2022-05-29T10:51:23.360683Z",
     "start_time": "2022-05-29T10:51:23.344980Z"
    }
   },
   "outputs": [
    {
     "data": {
      "text/plain": [
       "(2200, 60)"
      ]
     },
     "execution_count": 23,
     "metadata": {},
     "output_type": "execute_result"
    }
   ],
   "source": [
    "x_train.shape"
   ]
  },
  {
   "cell_type": "code",
   "execution_count": 24,
   "metadata": {
    "ExecuteTime": {
     "end_time": "2022-05-29T10:51:24.050969Z",
     "start_time": "2022-05-29T10:51:24.030380Z"
    }
   },
   "outputs": [
    {
     "data": {
      "text/plain": [
       "(300, 60)"
      ]
     },
     "execution_count": 24,
     "metadata": {},
     "output_type": "execute_result"
    }
   ],
   "source": [
    "x_test.shape"
   ]
  },
  {
   "cell_type": "code",
   "execution_count": 25,
   "metadata": {
    "ExecuteTime": {
     "end_time": "2022-05-29T10:52:25.364078Z",
     "start_time": "2022-05-29T10:52:25.338525Z"
    }
   },
   "outputs": [
    {
     "data": {
      "text/plain": [
       "Index(['obj_to_num__Amount.Requested', 'obj_to_num__Open.CREDIT.Lines',\n",
       "       'obj_to_num__Revolving.CREDIT.Balance', 'dtir__Debt.To.Income.Ratio',\n",
       "       'fico__fico', 'num__Monthly.Income',\n",
       "       'num__Inquiries.in.the.Last.6.Months',\n",
       "       'obj_to_dum__Loan.Length_36 months',\n",
       "       'obj_to_dum__Loan.Length_60 months',\n",
       "       'obj_to_dum__Loan.Purpose_debt_consolidation',\n",
       "       'obj_to_dum__Loan.Purpose_credit_card',\n",
       "       'obj_to_dum__Loan.Purpose_other',\n",
       "       'obj_to_dum__Loan.Purpose_home_improvement',\n",
       "       'obj_to_dum__Loan.Purpose_major_purchase',\n",
       "       'obj_to_dum__Loan.Purpose_small_business',\n",
       "       'obj_to_dum__Loan.Purpose_car', 'obj_to_dum__Loan.Purpose_wedding',\n",
       "       'obj_to_dum__Loan.Purpose_medical', 'obj_to_dum__Loan.Purpose_moving',\n",
       "       'obj_to_dum__State_CA', 'obj_to_dum__State_NY', 'obj_to_dum__State_FL',\n",
       "       'obj_to_dum__State_TX', 'obj_to_dum__State_PA', 'obj_to_dum__State_IL',\n",
       "       'obj_to_dum__State_GA', 'obj_to_dum__State_NJ', 'obj_to_dum__State_VA',\n",
       "       'obj_to_dum__State_MA', 'obj_to_dum__State_NC', 'obj_to_dum__State_OH',\n",
       "       'obj_to_dum__State_MD', 'obj_to_dum__State_CO', 'obj_to_dum__State_WA',\n",
       "       'obj_to_dum__State_CT', 'obj_to_dum__State_AZ', 'obj_to_dum__State_MI',\n",
       "       'obj_to_dum__State_AL', 'obj_to_dum__State_MN', 'obj_to_dum__State_MO',\n",
       "       'obj_to_dum__State_NV', 'obj_to_dum__State_SC', 'obj_to_dum__State_WI',\n",
       "       'obj_to_dum__State_OR', 'obj_to_dum__State_KS',\n",
       "       'obj_to_dum__Home.Ownership_MORTGAGE',\n",
       "       'obj_to_dum__Home.Ownership_RENT', 'obj_to_dum__Home.Ownership_OWN',\n",
       "       'obj_to_dum__Employment.Length_10+ years',\n",
       "       'obj_to_dum__Employment.Length_< 1 year',\n",
       "       'obj_to_dum__Employment.Length_2 years',\n",
       "       'obj_to_dum__Employment.Length_3 years',\n",
       "       'obj_to_dum__Employment.Length_5 years',\n",
       "       'obj_to_dum__Employment.Length_4 years',\n",
       "       'obj_to_dum__Employment.Length_1 year',\n",
       "       'obj_to_dum__Employment.Length_6 years',\n",
       "       'obj_to_dum__Employment.Length_7 years',\n",
       "       'obj_to_dum__Employment.Length_8 years',\n",
       "       'obj_to_dum__Employment.Length_missing',\n",
       "       'obj_to_dum__Employment.Length_9 years'],\n",
       "      dtype='object')"
      ]
     },
     "execution_count": 25,
     "metadata": {},
     "output_type": "execute_result"
    }
   ],
   "source": [
    "x_train.columns"
   ]
  },
  {
   "cell_type": "code",
   "execution_count": 26,
   "metadata": {
    "ExecuteTime": {
     "end_time": "2022-05-29T10:52:26.190525Z",
     "start_time": "2022-05-29T10:52:26.180184Z"
    }
   },
   "outputs": [
    {
     "data": {
      "text/plain": [
       "Index(['obj_to_num__Amount.Requested', 'obj_to_num__Open.CREDIT.Lines',\n",
       "       'obj_to_num__Revolving.CREDIT.Balance', 'dtir__Debt.To.Income.Ratio',\n",
       "       'fico__fico', 'num__Monthly.Income',\n",
       "       'num__Inquiries.in.the.Last.6.Months',\n",
       "       'obj_to_dum__Loan.Length_36 months',\n",
       "       'obj_to_dum__Loan.Length_60 months',\n",
       "       'obj_to_dum__Loan.Purpose_debt_consolidation',\n",
       "       'obj_to_dum__Loan.Purpose_credit_card',\n",
       "       'obj_to_dum__Loan.Purpose_other',\n",
       "       'obj_to_dum__Loan.Purpose_home_improvement',\n",
       "       'obj_to_dum__Loan.Purpose_major_purchase',\n",
       "       'obj_to_dum__Loan.Purpose_small_business',\n",
       "       'obj_to_dum__Loan.Purpose_car', 'obj_to_dum__Loan.Purpose_wedding',\n",
       "       'obj_to_dum__Loan.Purpose_medical', 'obj_to_dum__Loan.Purpose_moving',\n",
       "       'obj_to_dum__State_CA', 'obj_to_dum__State_NY', 'obj_to_dum__State_FL',\n",
       "       'obj_to_dum__State_TX', 'obj_to_dum__State_PA', 'obj_to_dum__State_IL',\n",
       "       'obj_to_dum__State_GA', 'obj_to_dum__State_NJ', 'obj_to_dum__State_VA',\n",
       "       'obj_to_dum__State_MA', 'obj_to_dum__State_NC', 'obj_to_dum__State_OH',\n",
       "       'obj_to_dum__State_MD', 'obj_to_dum__State_CO', 'obj_to_dum__State_WA',\n",
       "       'obj_to_dum__State_CT', 'obj_to_dum__State_AZ', 'obj_to_dum__State_MI',\n",
       "       'obj_to_dum__State_AL', 'obj_to_dum__State_MN', 'obj_to_dum__State_MO',\n",
       "       'obj_to_dum__State_NV', 'obj_to_dum__State_SC', 'obj_to_dum__State_WI',\n",
       "       'obj_to_dum__State_OR', 'obj_to_dum__State_KS',\n",
       "       'obj_to_dum__Home.Ownership_MORTGAGE',\n",
       "       'obj_to_dum__Home.Ownership_RENT', 'obj_to_dum__Home.Ownership_OWN',\n",
       "       'obj_to_dum__Employment.Length_10+ years',\n",
       "       'obj_to_dum__Employment.Length_< 1 year',\n",
       "       'obj_to_dum__Employment.Length_2 years',\n",
       "       'obj_to_dum__Employment.Length_3 years',\n",
       "       'obj_to_dum__Employment.Length_5 years',\n",
       "       'obj_to_dum__Employment.Length_4 years',\n",
       "       'obj_to_dum__Employment.Length_1 year',\n",
       "       'obj_to_dum__Employment.Length_6 years',\n",
       "       'obj_to_dum__Employment.Length_7 years',\n",
       "       'obj_to_dum__Employment.Length_8 years',\n",
       "       'obj_to_dum__Employment.Length_missing',\n",
       "       'obj_to_dum__Employment.Length_9 years'],\n",
       "      dtype='object')"
      ]
     },
     "execution_count": 26,
     "metadata": {},
     "output_type": "execute_result"
    }
   ],
   "source": [
    "x_test.columns"
   ]
  },
  {
   "cell_type": "code",
   "execution_count": 27,
   "metadata": {
    "ExecuteTime": {
     "end_time": "2022-05-29T10:58:03.171497Z",
     "start_time": "2022-05-29T10:58:03.128189Z"
    }
   },
   "outputs": [],
   "source": [
    "df_train['Interest.Rate'] = df_train['Interest.Rate'].str.replace(\"%\",\"\") \n",
    "df_train['Interest.Rate'] = pd.to_numeric(df_train['Interest.Rate'],errors='coerce') \n",
    "y_train = df_train[\"Interest.Rate\"].values"
   ]
  },
  {
   "cell_type": "markdown",
   "metadata": {},
   "source": [
    "# Permutation Importance\n",
    "\n",
    "- The idea behind this technique is that feature importance can be measured by looking at how much a desired metric (say accuracy, F1, R^2, etc. - any metric we’re interested in) decreases when a feature is not available.\n",
    "\n",
    "<br> \n",
    "\n",
    "- To do that one can remove feature from the dataset, re-train the estimator and check the score. \n",
    "    - But it requires re-training an estimator for each feature, which can be computationally intensive. \n",
    "    - Also, it shows what may be important within a dataset, not what is important within a concrete trained model.\n",
    "\n",
    "<br> \n",
    "\n",
    "- To avoid re-training the estimator we can remove a feature only from the test part of the dataset, and compute score without using this feature. \n",
    "    - It doesn’t work as-is, because estimators expect feature to be present. \n",
    "    - So instead of removing a feature we can replace it with random noise - feature column is still there, but it no longer contains useful information. \n",
    "    - This method works if noise is drawn from the same distribution as original feature values (as otherwise estimator may fail). The simplest way to get such noise is to shuffle values for a feature, i.e. use other examples’ feature values - this is how permutation importance is computed.\n",
    "\n",
    "<br> \n",
    "\n",
    "- The method is most suitable for computing feature importances when a number of columns (features) is not huge; it can be resource-intensive otherwise."
   ]
  },
  {
   "cell_type": "markdown",
   "metadata": {},
   "source": [
    "## Permuation Importance using rfpimp"
   ]
  },
  {
   "cell_type": "code",
   "execution_count": 29,
   "metadata": {
    "ExecuteTime": {
     "end_time": "2022-05-29T11:12:43.414732Z",
     "start_time": "2022-05-29T11:12:43.221298Z"
    }
   },
   "outputs": [],
   "source": [
    "from sklearn.ensemble import RandomForestRegressor"
   ]
  },
  {
   "cell_type": "code",
   "execution_count": 30,
   "metadata": {
    "ExecuteTime": {
     "end_time": "2022-05-29T11:12:43.621763Z",
     "start_time": "2022-05-29T11:12:43.605074Z"
    }
   },
   "outputs": [],
   "source": [
    "# !pip install rfpimp\n",
    "from rfpimp import *"
   ]
  },
  {
   "cell_type": "code",
   "execution_count": 35,
   "metadata": {
    "ExecuteTime": {
     "end_time": "2022-05-29T11:15:20.673422Z",
     "start_time": "2022-05-29T11:15:20.652475Z"
    }
   },
   "outputs": [],
   "source": [
    "x_train['random'] = np.random.random(size=len(x_train))"
   ]
  },
  {
   "cell_type": "code",
   "execution_count": 38,
   "metadata": {
    "ExecuteTime": {
     "end_time": "2022-05-29T11:15:47.942588Z",
     "start_time": "2022-05-29T11:15:47.155692Z"
    }
   },
   "outputs": [
    {
     "data": {
      "text/plain": [
       "RandomForestRegressor(min_samples_leaf=5, n_jobs=-1, oob_score=True)"
      ]
     },
     "execution_count": 38,
     "metadata": {},
     "output_type": "execute_result"
    }
   ],
   "source": [
    "rf = RandomForestRegressor(n_estimators=100,\n",
    "                            min_samples_leaf=5,\n",
    "                            n_jobs=-1,\n",
    "                            oob_score=True)\n",
    "\n",
    "rf.fit(x_train,y_train)"
   ]
  },
  {
   "cell_type": "code",
   "execution_count": 39,
   "metadata": {
    "ExecuteTime": {
     "end_time": "2022-05-29T11:15:58.128787Z",
     "start_time": "2022-05-29T11:15:51.082854Z"
    }
   },
   "outputs": [],
   "source": [
    "imp = importances(rf, x_train, y_train, n_samples=-1) # this function comes from package rfpimp"
   ]
  },
  {
   "cell_type": "code",
   "execution_count": 40,
   "metadata": {
    "ExecuteTime": {
     "end_time": "2022-05-29T11:15:59.544667Z",
     "start_time": "2022-05-29T11:15:59.515219Z"
    }
   },
   "outputs": [
    {
     "data": {
      "text/html": [
       "<div>\n",
       "<style scoped>\n",
       "    .dataframe tbody tr th:only-of-type {\n",
       "        vertical-align: middle;\n",
       "    }\n",
       "\n",
       "    .dataframe tbody tr th {\n",
       "        vertical-align: top;\n",
       "    }\n",
       "\n",
       "    .dataframe thead th {\n",
       "        text-align: right;\n",
       "    }\n",
       "</style>\n",
       "<table border=\"1\" class=\"dataframe\">\n",
       "  <thead>\n",
       "    <tr style=\"text-align: right;\">\n",
       "      <th></th>\n",
       "      <th>Importance</th>\n",
       "    </tr>\n",
       "    <tr>\n",
       "      <th>Feature</th>\n",
       "      <th></th>\n",
       "    </tr>\n",
       "  </thead>\n",
       "  <tbody>\n",
       "    <tr>\n",
       "      <th>fico__fico</th>\n",
       "      <td>1.194374e+00</td>\n",
       "    </tr>\n",
       "    <tr>\n",
       "      <th>obj_to_num__Amount.Requested</th>\n",
       "      <td>2.107850e-01</td>\n",
       "    </tr>\n",
       "    <tr>\n",
       "      <th>obj_to_dum__Loan.Length_60 months</th>\n",
       "      <td>1.591265e-01</td>\n",
       "    </tr>\n",
       "    <tr>\n",
       "      <th>num__Inquiries.in.the.Last.6.Months</th>\n",
       "      <td>4.719584e-02</td>\n",
       "    </tr>\n",
       "    <tr>\n",
       "      <th>obj_to_num__Open.CREDIT.Lines</th>\n",
       "      <td>3.245950e-02</td>\n",
       "    </tr>\n",
       "    <tr>\n",
       "      <th>...</th>\n",
       "      <td>...</td>\n",
       "    </tr>\n",
       "    <tr>\n",
       "      <th>obj_to_dum__State_WI</th>\n",
       "      <td>0.000000e+00</td>\n",
       "    </tr>\n",
       "    <tr>\n",
       "      <th>obj_to_dum__State_SC</th>\n",
       "      <td>0.000000e+00</td>\n",
       "    </tr>\n",
       "    <tr>\n",
       "      <th>obj_to_dum__State_NV</th>\n",
       "      <td>0.000000e+00</td>\n",
       "    </tr>\n",
       "    <tr>\n",
       "      <th>obj_to_dum__State_NC</th>\n",
       "      <td>0.000000e+00</td>\n",
       "    </tr>\n",
       "    <tr>\n",
       "      <th>obj_to_dum__State_PA</th>\n",
       "      <td>-5.855818e-07</td>\n",
       "    </tr>\n",
       "  </tbody>\n",
       "</table>\n",
       "<p>61 rows × 1 columns</p>\n",
       "</div>"
      ],
      "text/plain": [
       "                                       Importance\n",
       "Feature                                          \n",
       "fico__fico                           1.194374e+00\n",
       "obj_to_num__Amount.Requested         2.107850e-01\n",
       "obj_to_dum__Loan.Length_60 months    1.591265e-01\n",
       "num__Inquiries.in.the.Last.6.Months  4.719584e-02\n",
       "obj_to_num__Open.CREDIT.Lines        3.245950e-02\n",
       "...                                           ...\n",
       "obj_to_dum__State_WI                 0.000000e+00\n",
       "obj_to_dum__State_SC                 0.000000e+00\n",
       "obj_to_dum__State_NV                 0.000000e+00\n",
       "obj_to_dum__State_NC                 0.000000e+00\n",
       "obj_to_dum__State_PA                -5.855818e-07\n",
       "\n",
       "[61 rows x 1 columns]"
      ]
     },
     "execution_count": 40,
     "metadata": {},
     "output_type": "execute_result"
    }
   ],
   "source": [
    "imp"
   ]
  },
  {
   "cell_type": "code",
   "execution_count": 41,
   "metadata": {
    "ExecuteTime": {
     "end_time": "2022-05-29T11:16:03.930922Z",
     "start_time": "2022-05-29T11:16:00.495090Z"
    }
   },
   "outputs": [
    {
     "data": {
      "image/png": "[encoded data removed]",
      "text/plain": [
       "<Figure size 720x967.68 with 1 Axes>"
      ]
     },
     "metadata": {
      "needs_background": "light"
     },
     "output_type": "display_data"
    }
   ],
   "source": [
    "viz = plot_importances(imp, width=10, color='#FDDB7D')\n",
    "viz.view()\n",
    "\n",
    "# it is possible that with different iterations of the code result in features at boundary switch to other side\n",
    "# dont worry about that , they dont make much difference either way [ and you have to draw a line somewhere]"
   ]
  },
  {
   "cell_type": "code",
   "execution_count": 42,
   "metadata": {
    "ExecuteTime": {
     "end_time": "2022-05-29T11:20:00.976891Z",
     "start_time": "2022-05-29T11:20:00.886136Z"
    }
   },
   "outputs": [
    {
     "data": {
      "text/plain": [
       "<Figure size 432x288 with 0 Axes>"
      ]
     },
     "metadata": {},
     "output_type": "display_data"
    }
   ],
   "source": [
    "viz.save('interest_rate_featureImp.png')"
   ]
  },
  {
   "cell_type": "markdown",
   "metadata": {},
   "source": [
    "# Genetic Algorithm\n",
    "\n",
    "- A genetic algorithm is an adaptive heuristic search algorithm inspired by \"Darwin's theory of evolution in Nature.\"\n",
    "- It is used to solve optimization problems in machine learning. It is one of the important algorithms as it helps solve complex problems that would take a long time to solve.\n",
    "\n",
    "## Terminologies\n",
    "\n",
    "- Population: Population is the subset of all possible or probable solutions, which can solve the given problem.\n",
    "- Chromosomes: A chromosome is one of the solutions in the population for the given problem, and the collection of gene generate a chromosome.\n",
    "- Gene: A chromosome is divided into a different gene, or it is an element of the chromosome.\n",
    "- Allele: Allele is the value provided to the gene within a particular chromosome.\n",
    "- Fitness Function: The fitness function is used to determine the individual's fitness level in the population. It means the ability of an individual to compete with other individuals. In every iteration, individuals are evaluated based on their fitness function.\n",
    "- Genetic Operators: In a genetic algorithm, the best individual mate to regenerate offspring better than parents. Here genetic operators play a role in changing the genetic composition of the next generation.\n",
    "\n",
    "## Process\n",
    "\n",
    "- The process of a genetic algorithm starts by generating the set of individuals, which is called population. Here each individual is the solution for the given problem. An individual contains or is characterized by a set of parameters called Genes. Genes are combined into a string and generate chromosomes, which is the solution to the problem. \n",
    "\n",
    "<img align=\"center\" src=\"./images/ga1.png\" width=\"400\" height=\"280\" />\n",
    "\n",
    "- New Chromosome creation by crossover\n",
    "\n",
    "<img align=\"center\" src=\"./images/ga2.png\" width=\"800\" height=\"280\" />\n",
    "\n",
    "\n",
    "## Workflow\n",
    "<img align=\"center\" src=\"./images/ga3.png\" width=\"200\" height=\"600\" />\n"
   ]
  },
  {
   "cell_type": "code",
   "execution_count": null,
   "metadata": {
    "ExecuteTime": {
     "end_time": "2022-05-29T04:28:11.987813Z",
     "start_time": "2022-05-29T04:28:11.931836Z"
    }
   },
   "outputs": [],
   "source": [
    "df_train"
   ]
  },
  {
   "cell_type": "code",
   "execution_count": null,
   "metadata": {
    "ExecuteTime": {
     "end_time": "2022-05-29T04:28:12.056084Z",
     "start_time": "2022-05-29T04:28:12.005147Z"
    }
   },
   "outputs": [],
   "source": [
    "x_train = df_train[['Amount.Requested','FICO.Range']]"
   ]
  },
  {
   "cell_type": "code",
   "execution_count": null,
   "metadata": {
    "ExecuteTime": {
     "end_time": "2022-05-29T04:28:12.095875Z",
     "start_time": "2022-05-29T04:28:12.084623Z"
    }
   },
   "outputs": [],
   "source": [
    "x_train['Amount.Requested']=pd.to_numeric(x_train['Amount.Requested'],errors='coerce')"
   ]
  },
  {
   "cell_type": "code",
   "execution_count": null,
   "metadata": {
    "ExecuteTime": {
     "end_time": "2022-05-29T04:28:12.140156Z",
     "start_time": "2022-05-29T04:28:12.119907Z"
    }
   },
   "outputs": [],
   "source": [
    "temp = x_train['FICO.Range'].str.split('-',expand=True).astype(int)\n",
    "x_train['fico']=(temp[0]+temp[1])/2"
   ]
  },
  {
   "cell_type": "code",
   "execution_count": null,
   "metadata": {
    "ExecuteTime": {
     "end_time": "2022-05-29T04:28:12.156011Z",
     "start_time": "2022-05-29T04:28:12.148508Z"
    }
   },
   "outputs": [],
   "source": [
    "del temp\n",
    "del x_train['FICO.Range']"
   ]
  },
  {
   "cell_type": "code",
   "execution_count": null,
   "metadata": {
    "ExecuteTime": {
     "end_time": "2022-05-29T04:28:12.185911Z",
     "start_time": "2022-05-29T04:28:12.177523Z"
    }
   },
   "outputs": [],
   "source": [
    "for col in x_train:\n",
    "    x_train[col].fillna(x_train[col].mean(),inplace=True)"
   ]
  },
  {
   "cell_type": "code",
   "execution_count": null,
   "metadata": {
    "ExecuteTime": {
     "end_time": "2022-05-29T04:28:12.199897Z",
     "start_time": "2022-05-29T04:28:12.190250Z"
    }
   },
   "outputs": [],
   "source": [
    "x_train.shape"
   ]
  },
  {
   "cell_type": "code",
   "execution_count": null,
   "metadata": {
    "ExecuteTime": {
     "end_time": "2022-05-29T04:28:13.043941Z",
     "start_time": "2022-05-29T04:28:13.027244Z"
    }
   },
   "outputs": [],
   "source": [
    "y_train.shape"
   ]
  },
  {
   "cell_type": "code",
   "execution_count": null,
   "metadata": {
    "ExecuteTime": {
     "end_time": "2022-05-29T04:28:13.576308Z",
     "start_time": "2022-05-29T04:28:13.538433Z"
    }
   },
   "outputs": [],
   "source": [
    "x_train.describe()"
   ]
  },
  {
   "cell_type": "code",
   "execution_count": null,
   "metadata": {
    "ExecuteTime": {
     "end_time": "2022-05-29T04:28:14.192831Z",
     "start_time": "2022-05-29T04:28:14.181576Z"
    }
   },
   "outputs": [],
   "source": [
    "rf=RandomForestRegressor(n_estimators=150,max_features=2,bootstrap=True)"
   ]
  },
  {
   "cell_type": "code",
   "execution_count": null,
   "metadata": {
    "ExecuteTime": {
     "end_time": "2022-05-29T04:28:16.323173Z",
     "start_time": "2022-05-29T04:28:15.929539Z"
    }
   },
   "outputs": [],
   "source": [
    "rf.fit(x_train,y_train)"
   ]
  },
  {
   "cell_type": "code",
   "execution_count": null,
   "metadata": {
    "ExecuteTime": {
     "end_time": "2022-05-29T04:28:17.219584Z",
     "start_time": "2022-05-29T04:28:17.209729Z"
    }
   },
   "outputs": [],
   "source": [
    "# lets say we want to find out for what value of fico interest rate will be minimum if amount requested \n",
    "# is 10000\n",
    "\n",
    "# for implementing a GA we'll need to implement some version of crossover and mutation \n",
    "\n",
    "# we'll sample 10 random values in the range of fico to start with use their average as the value which gives us optimal point \n",
    "# a list of 10 [it could be any other number ], will help us in implementing cross over and mutation\n",
    "amount_requested=5000"
   ]
  },
  {
   "cell_type": "code",
   "execution_count": null,
   "metadata": {
    "ExecuteTime": {
     "end_time": "2022-05-29T05:58:49.040108Z",
     "start_time": "2022-05-29T05:58:48.921216Z"
    }
   },
   "outputs": [],
   "source": [
    "def objective(values):\n",
    "    \n",
    "    data=[amount_requested,np.array(values).mean()]\n",
    "    \n",
    "    df=pd.DataFrame(data).T\n",
    "    \n",
    "    pred=rf.predict(df)[0]\n",
    "    \n",
    "    return(pred)"
   ]
  },
  {
   "cell_type": "code",
   "execution_count": null,
   "metadata": {
    "ExecuteTime": {
     "end_time": "2022-05-29T05:58:49.827486Z",
     "start_time": "2022-05-29T05:58:49.661158Z"
    }
   },
   "outputs": [],
   "source": [
    "objective(np.random.randint(1,100,10)) #input = range of fico values, output=interest_rate"
   ]
  },
  {
   "cell_type": "code",
   "execution_count": null,
   "metadata": {
    "ExecuteTime": {
     "end_time": "2022-05-29T05:58:50.065964Z",
     "start_time": "2022-05-29T05:58:50.049334Z"
    }
   },
   "outputs": [],
   "source": [
    "def obj_pop(population):\n",
    "    scores=[]\n",
    "    \n",
    "    for values in population:        \n",
    "        scores.append([values,objective(values)])\n",
    "        \n",
    "    return(scores)"
   ]
  },
  {
   "cell_type": "code",
   "execution_count": null,
   "metadata": {
    "ExecuteTime": {
     "end_time": "2022-05-29T05:58:50.525106Z",
     "start_time": "2022-05-29T05:58:50.500388Z"
    }
   },
   "outputs": [],
   "source": [
    "def select_top_6(population):\n",
    "    \n",
    "    scores=obj_pop(population)\n",
    "#     print(scores)\n",
    "    scores.sort(key=lambda x:x[1])\n",
    "#     print(scores)\n",
    "    selected=scores[:6]\n",
    "    return(selected)"
   ]
  },
  {
   "cell_type": "code",
   "execution_count": null,
   "metadata": {
    "ExecuteTime": {
     "end_time": "2022-05-29T05:58:51.052315Z",
     "start_time": "2022-05-29T05:58:51.005762Z"
    }
   },
   "outputs": [],
   "source": [
    "def crossover_mutate(parents):\n",
    "    \n",
    "    pairs=[(0,5),(1,4),(2,3)]\n",
    "    \n",
    "    # this can be made random\n",
    "    # every pair of parents makes a child , half of child's gene/values\n",
    "    # come from one parent and rest come from another \n",
    "    # then some random values in child are mutated based on some probability threshold \n",
    "    # we have taken that to be 0.7\n",
    "    children=[]\n",
    "    data=parents.copy()\n",
    "    \n",
    "    for i,j in pairs:\n",
    "        \n",
    "        rand_ind=np.random.choice(range(10),5,replace=False)\n",
    "        \n",
    "        child=parents[i].copy()\n",
    "        \n",
    "        for ind in rand_ind:\n",
    "            \n",
    "            child[ind]=parents[j][ind]\n",
    "            \n",
    "        for ind2 in range(len(child)): # mutation\n",
    "            \n",
    "            if np.random.random()>0.7:\n",
    "                child[ind2]=np.random.randint(500,850,1)\n",
    "        \n",
    "        children.append(child)\n",
    "        \n",
    "    return(children)\n",
    "    "
   ]
  },
  {
   "cell_type": "code",
   "execution_count": null,
   "metadata": {
    "ExecuteTime": {
     "end_time": "2022-05-29T05:58:51.626543Z",
     "start_time": "2022-05-29T05:58:51.599049Z"
    }
   },
   "outputs": [],
   "source": [
    "rand_ind=np.random.choice(range(10),5,replace=False)\n",
    "rand_ind"
   ]
  },
  {
   "cell_type": "code",
   "execution_count": null,
   "metadata": {
    "ExecuteTime": {
     "end_time": "2022-05-29T05:58:52.089187Z",
     "start_time": "2022-05-29T05:58:52.078094Z"
    }
   },
   "outputs": [],
   "source": [
    "# we are starting with totally random values in the range\n",
    "population=np.random.randint(500,850,size=(10,10))"
   ]
  },
  {
   "cell_type": "code",
   "execution_count": null,
   "metadata": {
    "ExecuteTime": {
     "end_time": "2022-05-29T05:58:52.585340Z",
     "start_time": "2022-05-29T05:58:52.577184Z"
    }
   },
   "outputs": [],
   "source": [
    "population"
   ]
  },
  {
   "cell_type": "code",
   "execution_count": null,
   "metadata": {
    "ExecuteTime": {
     "end_time": "2022-05-29T05:58:53.184340Z",
     "start_time": "2022-05-29T05:58:53.172576Z"
    }
   },
   "outputs": [],
   "source": [
    "num_gen=50"
   ]
  },
  {
   "cell_type": "code",
   "execution_count": null,
   "metadata": {
    "ExecuteTime": {
     "end_time": "2022-05-29T05:59:37.727926Z",
     "start_time": "2022-05-29T05:58:53.645248Z"
    }
   },
   "outputs": [],
   "source": [
    "for _ in range(num_gen):\n",
    "    \n",
    "    scored_pop=select_top_6(population)\n",
    "    \n",
    "    best_score=scored_pop[0][1]\n",
    "    \n",
    "    print(best_score)\n",
    "    \n",
    "    parents=[x for x,_ in select_top_6(population)]\n",
    "    \n",
    "    # new population will be top 6 parents + 3 children and + 3 random member\n",
    "    # as the new population evolves , we will reach to best possible outcome\n",
    "    \n",
    "    new_population=parents+crossover_mutate(parents)\n",
    "    \n",
    "    new_population.extend(np.random.randint(500,850,size=(3,10)))\n",
    "    \n",
    "    population=new_population\n"
   ]
  },
  {
   "cell_type": "code",
   "execution_count": null,
   "metadata": {
    "ExecuteTime": {
     "end_time": "2022-05-29T05:59:46.834890Z",
     "start_time": "2022-05-29T05:59:46.685504Z"
    }
   },
   "outputs": [],
   "source": [
    "best_value=select_top_6(population)[0][0].mean()"
   ]
  },
  {
   "cell_type": "code",
   "execution_count": null,
   "metadata": {
    "ExecuteTime": {
     "end_time": "2022-05-29T05:59:47.204392Z",
     "start_time": "2022-05-29T05:59:47.164056Z"
    }
   },
   "outputs": [],
   "source": [
    "best_value"
   ]
  },
  {
   "cell_type": "code",
   "execution_count": null,
   "metadata": {},
   "outputs": [],
   "source": []
  },
  {
   "cell_type": "code",
   "execution_count": null,
   "metadata": {},
   "outputs": [],
   "source": []
  },
  {
   "cell_type": "code",
   "execution_count": null,
   "metadata": {},
   "outputs": [],
   "source": []
  }
 ],
 "metadata": {
  "kernelspec": {
   "display_name": "Python 3 (ipykernel)",
   "language": "python",
   "name": "python3"
  },
  "language_info": {
   "codemirror_mode": {
    "name": "ipython",
    "version": 3
   },
   "file_extension": ".py",
   "mimetype": "text/x-python",
   "name": "python",
   "nbconvert_exporter": "python",
   "pygments_lexer": "ipython3",
   "version": "3.7.11"
  }
 },
 "nbformat": 4,
 "nbformat_minor": 2
}
