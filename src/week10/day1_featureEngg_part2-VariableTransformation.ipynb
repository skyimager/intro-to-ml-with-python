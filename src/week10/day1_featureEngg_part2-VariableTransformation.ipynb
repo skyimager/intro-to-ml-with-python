{
 "cells": [
  {
   "cell_type": "markdown",
   "metadata": {},
   "source": [
    "# Basic Imports"
   ]
  },
  {
   "cell_type": "code",
   "execution_count": 1,
   "metadata": {
    "ExecuteTime": {
     "end_time": "2022-05-29T08:37:31.371630Z",
     "start_time": "2022-05-29T08:37:31.326711Z"
    }
   },
   "outputs": [],
   "source": [
    "# this is specific to macos X , windows/linux users dont need this \n",
    "# without this , while using xgboost , you get errors , kernel dies\n",
    "import os\n",
    "os.environ['KMP_DUPLICATE_LIB_OK']='True'"
   ]
  },
  {
   "cell_type": "code",
   "execution_count": 2,
   "metadata": {
    "ExecuteTime": {
     "end_time": "2022-05-29T08:37:31.841971Z",
     "start_time": "2022-05-29T08:37:31.837184Z"
    }
   },
   "outputs": [],
   "source": [
    "import warnings\n",
    "warnings.filterwarnings('ignore')"
   ]
  },
  {
   "cell_type": "code",
   "execution_count": 3,
   "metadata": {
    "ExecuteTime": {
     "end_time": "2022-05-29T08:37:33.769728Z",
     "start_time": "2022-05-29T08:37:32.356938Z"
    }
   },
   "outputs": [],
   "source": [
    "import numpy as np\n",
    "import seaborn as sns\n",
    "import pandas as pd\n",
    "import math as mt"
   ]
  },
  {
   "cell_type": "code",
   "execution_count": 4,
   "metadata": {
    "ExecuteTime": {
     "end_time": "2022-05-29T08:37:34.165073Z",
     "start_time": "2022-05-29T08:37:33.772228Z"
    }
   },
   "outputs": [],
   "source": [
    "from sklearn.ensemble import RandomForestRegressor\n",
    "from sklearn.model_selection import train_test_split\n",
    "from xgboost.sklearn import XGBRegressor\n",
    "from sklearn.svm import SVR\n",
    "from sklearn.metrics import mean_absolute_error"
   ]
  },
  {
   "cell_type": "markdown",
   "metadata": {},
   "source": [
    "# Variable Transformation"
   ]
  },
  {
   "cell_type": "code",
   "execution_count": 10,
   "metadata": {
    "ExecuteTime": {
     "end_time": "2022-05-29T08:47:24.672492Z",
     "start_time": "2022-05-29T08:47:24.647270Z"
    }
   },
   "outputs": [
    {
     "data": {
      "text/plain": [
       "(4000, 5)"
      ]
     },
     "execution_count": 10,
     "metadata": {},
     "output_type": "execute_result"
    }
   ],
   "source": [
    "x_data = pd.DataFrame(np.random.random(size= (4000,5)), columns= ['x1','x2','x3','x4','x5'])\n",
    "x_data.shape"
   ]
  },
  {
   "cell_type": "code",
   "execution_count": 11,
   "metadata": {
    "ExecuteTime": {
     "end_time": "2022-05-29T08:47:25.120847Z",
     "start_time": "2022-05-29T08:47:25.057523Z"
    }
   },
   "outputs": [
    {
     "data": {
      "text/html": [
       "<div>\n",
       "<style scoped>\n",
       "    .dataframe tbody tr th:only-of-type {\n",
       "        vertical-align: middle;\n",
       "    }\n",
       "\n",
       "    .dataframe tbody tr th {\n",
       "        vertical-align: top;\n",
       "    }\n",
       "\n",
       "    .dataframe thead th {\n",
       "        text-align: right;\n",
       "    }\n",
       "</style>\n",
       "<table border=\"1\" class=\"dataframe\">\n",
       "  <thead>\n",
       "    <tr style=\"text-align: right;\">\n",
       "      <th></th>\n",
       "      <th>x1</th>\n",
       "      <th>x2</th>\n",
       "      <th>x3</th>\n",
       "      <th>x4</th>\n",
       "      <th>x5</th>\n",
       "    </tr>\n",
       "  </thead>\n",
       "  <tbody>\n",
       "    <tr>\n",
       "      <th>0</th>\n",
       "      <td>0.220938</td>\n",
       "      <td>0.843987</td>\n",
       "      <td>0.498426</td>\n",
       "      <td>0.894416</td>\n",
       "      <td>0.726749</td>\n",
       "    </tr>\n",
       "    <tr>\n",
       "      <th>1</th>\n",
       "      <td>0.054855</td>\n",
       "      <td>0.523400</td>\n",
       "      <td>0.903358</td>\n",
       "      <td>0.204263</td>\n",
       "      <td>0.184858</td>\n",
       "    </tr>\n",
       "    <tr>\n",
       "      <th>2</th>\n",
       "      <td>0.462370</td>\n",
       "      <td>0.893711</td>\n",
       "      <td>0.025692</td>\n",
       "      <td>0.361849</td>\n",
       "      <td>0.280721</td>\n",
       "    </tr>\n",
       "    <tr>\n",
       "      <th>3</th>\n",
       "      <td>0.964271</td>\n",
       "      <td>0.572357</td>\n",
       "      <td>0.775846</td>\n",
       "      <td>0.883013</td>\n",
       "      <td>0.674869</td>\n",
       "    </tr>\n",
       "    <tr>\n",
       "      <th>4</th>\n",
       "      <td>0.752567</td>\n",
       "      <td>0.127214</td>\n",
       "      <td>0.800428</td>\n",
       "      <td>0.241559</td>\n",
       "      <td>0.967697</td>\n",
       "    </tr>\n",
       "  </tbody>\n",
       "</table>\n",
       "</div>"
      ],
      "text/plain": [
       "         x1        x2        x3        x4        x5\n",
       "0  0.220938  0.843987  0.498426  0.894416  0.726749\n",
       "1  0.054855  0.523400  0.903358  0.204263  0.184858\n",
       "2  0.462370  0.893711  0.025692  0.361849  0.280721\n",
       "3  0.964271  0.572357  0.775846  0.883013  0.674869\n",
       "4  0.752567  0.127214  0.800428  0.241559  0.967697"
      ]
     },
     "execution_count": 11,
     "metadata": {},
     "output_type": "execute_result"
    }
   ],
   "source": [
    "x_data.head(5)"
   ]
  },
  {
   "cell_type": "code",
   "execution_count": 12,
   "metadata": {
    "ExecuteTime": {
     "end_time": "2022-05-29T08:47:25.731959Z",
     "start_time": "2022-05-29T08:47:25.667899Z"
    }
   },
   "outputs": [
    {
     "data": {
      "text/html": [
       "<div>\n",
       "<style scoped>\n",
       "    .dataframe tbody tr th:only-of-type {\n",
       "        vertical-align: middle;\n",
       "    }\n",
       "\n",
       "    .dataframe tbody tr th {\n",
       "        vertical-align: top;\n",
       "    }\n",
       "\n",
       "    .dataframe thead th {\n",
       "        text-align: right;\n",
       "    }\n",
       "</style>\n",
       "<table border=\"1\" class=\"dataframe\">\n",
       "  <thead>\n",
       "    <tr style=\"text-align: right;\">\n",
       "      <th></th>\n",
       "      <th>x1</th>\n",
       "      <th>x2</th>\n",
       "      <th>x3</th>\n",
       "      <th>x4</th>\n",
       "      <th>x5</th>\n",
       "      <th>y1</th>\n",
       "      <th>y2</th>\n",
       "      <th>y3</th>\n",
       "      <th>y4</th>\n",
       "      <th>y5</th>\n",
       "    </tr>\n",
       "  </thead>\n",
       "  <tbody>\n",
       "    <tr>\n",
       "      <th>0</th>\n",
       "      <td>0.220938</td>\n",
       "      <td>0.843987</td>\n",
       "      <td>0.498426</td>\n",
       "      <td>0.894416</td>\n",
       "      <td>0.726749</td>\n",
       "      <td>5.313187</td>\n",
       "      <td>4.470377</td>\n",
       "      <td>-0.771405</td>\n",
       "      <td>11.760815</td>\n",
       "      <td>9.254034</td>\n",
       "    </tr>\n",
       "    <tr>\n",
       "      <th>1</th>\n",
       "      <td>0.054855</td>\n",
       "      <td>0.523400</td>\n",
       "      <td>0.903358</td>\n",
       "      <td>0.204263</td>\n",
       "      <td>0.184858</td>\n",
       "      <td>3.894253</td>\n",
       "      <td>3.255108</td>\n",
       "      <td>-5.403951</td>\n",
       "      <td>33.792295</td>\n",
       "      <td>14.229336</td>\n",
       "    </tr>\n",
       "    <tr>\n",
       "      <th>2</th>\n",
       "      <td>0.462370</td>\n",
       "      <td>0.893711</td>\n",
       "      <td>0.025692</td>\n",
       "      <td>0.361849</td>\n",
       "      <td>0.280721</td>\n",
       "      <td>4.515149</td>\n",
       "      <td>3.568327</td>\n",
       "      <td>-5.109311</td>\n",
       "      <td>50.983507</td>\n",
       "      <td>19.320714</td>\n",
       "    </tr>\n",
       "    <tr>\n",
       "      <th>3</th>\n",
       "      <td>0.964271</td>\n",
       "      <td>0.572357</td>\n",
       "      <td>0.775846</td>\n",
       "      <td>0.883013</td>\n",
       "      <td>0.674869</td>\n",
       "      <td>6.198952</td>\n",
       "      <td>5.114783</td>\n",
       "      <td>0.580162</td>\n",
       "      <td>8.818041</td>\n",
       "      <td>6.163644</td>\n",
       "    </tr>\n",
       "    <tr>\n",
       "      <th>4</th>\n",
       "      <td>0.752567</td>\n",
       "      <td>0.127214</td>\n",
       "      <td>0.800428</td>\n",
       "      <td>0.241559</td>\n",
       "      <td>0.967697</td>\n",
       "      <td>4.980558</td>\n",
       "      <td>3.870724</td>\n",
       "      <td>-2.242343</td>\n",
       "      <td>17.985796</td>\n",
       "      <td>12.313194</td>\n",
       "    </tr>\n",
       "  </tbody>\n",
       "</table>\n",
       "</div>"
      ],
      "text/plain": [
       "         x1        x2        x3        x4        x5        y1        y2  \\\n",
       "0  0.220938  0.843987  0.498426  0.894416  0.726749  5.313187  4.470377   \n",
       "1  0.054855  0.523400  0.903358  0.204263  0.184858  3.894253  3.255108   \n",
       "2  0.462370  0.893711  0.025692  0.361849  0.280721  4.515149  3.568327   \n",
       "3  0.964271  0.572357  0.775846  0.883013  0.674869  6.198952  5.114783   \n",
       "4  0.752567  0.127214  0.800428  0.241559  0.967697  4.980558  3.870724   \n",
       "\n",
       "         y3         y4         y5  \n",
       "0 -0.771405  11.760815   9.254034  \n",
       "1 -5.403951  33.792295  14.229336  \n",
       "2 -5.109311  50.983507  19.320714  \n",
       "3  0.580162   8.818041   6.163644  \n",
       "4 -2.242343  17.985796  12.313194  "
      ]
     },
     "execution_count": 12,
     "metadata": {},
     "output_type": "execute_result"
    }
   ],
   "source": [
    "# Linear Relationship (y -> X)\n",
    "x_data['y1']= 1.5 + x_data['x1'] + x_data['x2'] + x_data['x3'] + x_data['x4'] + x_data['x5'] + np.random.random(size=4000)\n",
    "\n",
    "# Quadratic Relationship\n",
    "x_data['y2']= 1.5 + (x_data['x1']**2) + (x_data['x2']**2) + (x_data['x3']**2) + (x_data['x4']**2) + (x_data['x5']**2) + np.random.random(size=4000)\n",
    "\n",
    "# Logarithmic Relationship\n",
    "x_data['y3']= 1.5 + (np.log(x_data['x1'])) + (np.log(x_data['x2'])) + (np.log(x_data['x3'])) + (np.log(x_data['x4'])) + (np.log(x_data['x5'])) + np.random.random(size=4000)\n",
    "\n",
    "# Inverse Relationship\n",
    "x_data['y4']= 1.5 + (1/x_data['x1']) + (1/x_data['x2']) + (1/x_data['x3']) + (1/x_data['x4']) + (1/x_data['x5']) + np.random.random(size=4000)\n",
    "\n",
    "# Ratios\n",
    "x_data['y5']= 1.5 + (x_data['x2']/x_data['x1'])  + (x_data['x3']/x_data['x2'])  + (x_data['x4']/x_data['x3']) + (x_data['x5']/x_data['x4']) + np.random.random(size=4000)\n",
    "\n",
    "x_data.head(5)"
   ]
  },
  {
   "cell_type": "code",
   "execution_count": 13,
   "metadata": {
    "ExecuteTime": {
     "end_time": "2022-05-29T08:49:26.846418Z",
     "start_time": "2022-05-29T08:49:26.811619Z"
    }
   },
   "outputs": [],
   "source": [
    "train, test = train_test_split(x_data, test_size=0.2, random_state=2)\n",
    "\n",
    "x_train= train.drop(['y1','y2','y3','y4','y5'],1)\n",
    "y_train= train[['y1','y2','y3','y4','y5']]\n",
    "\n",
    "x_test= test.drop(['y1','y2','y3','y4','y5'],1)\n",
    "y_test= test[['y1','y2','y3','y4','y5']]"
   ]
  },
  {
   "cell_type": "code",
   "execution_count": 14,
   "metadata": {
    "ExecuteTime": {
     "end_time": "2022-05-29T08:49:59.418889Z",
     "start_time": "2022-05-29T08:49:59.400708Z"
    }
   },
   "outputs": [],
   "source": [
    "results= pd.DataFrame(columns=[\"Algo\",\"Relation\",\"MAE\"])"
   ]
  },
  {
   "cell_type": "code",
   "execution_count": 15,
   "metadata": {
    "ExecuteTime": {
     "end_time": "2022-05-29T08:51:48.539426Z",
     "start_time": "2022-05-29T08:51:48.514197Z"
    }
   },
   "outputs": [],
   "source": [
    "def Random_Forest(x,y,relation):\n",
    "    \n",
    "    rf= RandomForestRegressor(n_estimators=200)\n",
    "    rf.fit(x,y_train[y])\n",
    "    y_pred=rf.predict(x_test)\n",
    "    mae= np.round(mean_absolute_error(y_test[y],y_pred),4)\n",
    "    global results\n",
    "    results= results.append({'Algo':\"Random Forest\",'Relation':relation,'MAE':mae}, ignore_index=True)\n",
    "    \n",
    "    #return(print(\"Algo: Random Forest\\nRelation: \"+relation+\" \\nMean Absolute error: \",mean_absolute_error(y_test[y],y_pred)))\n",
    "    \n",
    "\n",
    "def SV_M (x,y, relation):\n",
    "    svr= SVR()\n",
    "    svr.fit(x,y_train[y])\n",
    "    y_pred=svr.predict(x_test)\n",
    "    mae= np.round(mean_absolute_error(y_test[y],y_pred),4)\n",
    "    global results\n",
    "    results= results.append({'Algo':\"SVM\",'Relation':relation,'MAE':mae}, ignore_index=True)\n",
    "   # return(print(\"Algo: SVM \\nRelation: \"+relation+\" \\nMean Absolute error: \",mean_absolute_error(y_test[y],y_pred)))\n",
    "\n",
    "\n",
    "def XG_B(x,y, relation):\n",
    "    xgb= XGBRegressor(n_estimators=200,learning_rate=.01,objective='reg:squarederror')\n",
    "    xgb.fit(x,y_train[y])\n",
    "    y_pred=xgb.predict(x_test)\n",
    "    mae= np.round(mean_absolute_error(y_test[y],y_pred),4)\n",
    "    global results\n",
    "    results= results.append({'Algo':\"XGB\",'Relation':relation,'MAE':mae}, ignore_index=True)\n",
    "   # return(print(\"Algo: XGB \\nRelation: \"+relation+\" \\nMean Absolute error: \",mean_absolute_error(y_test[y],y_pred)))\n"
   ]
  },
  {
   "cell_type": "code",
   "execution_count": 16,
   "metadata": {
    "ExecuteTime": {
     "end_time": "2022-05-29T08:52:53.020662Z",
     "start_time": "2022-05-29T08:52:52.997164Z"
    }
   },
   "outputs": [
    {
     "data": {
      "text/plain": [
       "(3200, 5)"
      ]
     },
     "execution_count": 16,
     "metadata": {},
     "output_type": "execute_result"
    }
   ],
   "source": [
    "x_train.shape"
   ]
  },
  {
   "cell_type": "code",
   "execution_count": 17,
   "metadata": {
    "ExecuteTime": {
     "end_time": "2022-05-29T08:53:22.189976Z",
     "start_time": "2022-05-29T08:53:17.954592Z"
    }
   },
   "outputs": [],
   "source": [
    "# SET-1 (x)\n",
    "\n",
    "Random_Forest(x_train,\"y1\",\"x\")\n",
    "\n",
    "SV_M(x_train,\"y1\",\"x\")\n",
    "\n",
    "XG_B(x_train,\"y1\",\"x\")"
   ]
  },
  {
   "cell_type": "code",
   "execution_count": 18,
   "metadata": {
    "ExecuteTime": {
     "end_time": "2022-05-29T08:54:28.168827Z",
     "start_time": "2022-05-29T08:54:23.739994Z"
    }
   },
   "outputs": [],
   "source": [
    "# SET-2 (x^2)\n",
    "\n",
    "Random_Forest(x_train,\"y2\",\"x^2\")\n",
    "\n",
    "SV_M(x_train,\"y2\",\"x^2\")\n",
    "\n",
    "XG_B(x_train,\"y2\",\"x^2\")\n",
    "\n"
   ]
  },
  {
   "cell_type": "code",
   "execution_count": 19,
   "metadata": {
    "ExecuteTime": {
     "end_time": "2022-05-29T08:54:47.351041Z",
     "start_time": "2022-05-29T08:54:42.570896Z"
    }
   },
   "outputs": [],
   "source": [
    "# SET-3 (log(x))\n",
    "Random_Forest(x_train,\"y3\",\"log(x)\")\n",
    "\n",
    "SV_M(x_train,\"y3\",\"log(x)\")\n",
    "\n",
    "XG_B(x_train,\"y3\",\"log(x)\")"
   ]
  },
  {
   "cell_type": "code",
   "execution_count": 20,
   "metadata": {
    "ExecuteTime": {
     "end_time": "2022-05-29T08:55:02.502460Z",
     "start_time": "2022-05-29T08:54:54.733762Z"
    }
   },
   "outputs": [],
   "source": [
    "# SET-4 (Inverse)\n",
    "Random_Forest(x_train,\"y4\",\"1/x\")\n",
    "\n",
    "SV_M(x_train,\"y4\",\"1/x\")\n",
    "\n",
    "XG_B(x_train,\"y4\",\"1/x\")"
   ]
  },
  {
   "cell_type": "code",
   "execution_count": 21,
   "metadata": {
    "ExecuteTime": {
     "end_time": "2022-05-29T08:55:17.926712Z",
     "start_time": "2022-05-29T08:55:02.505154Z"
    }
   },
   "outputs": [],
   "source": [
    "# SET-5 (Ratios)\n",
    "\n",
    "Random_Forest(x_train,\"y5\",\"Ratio\")\n",
    "\n",
    "SV_M(x_train,\"y5\",\"Ratio\")\n",
    "\n",
    "XG_B(x_train,\"y5\",\"Ratio\")\n"
   ]
  },
  {
   "cell_type": "code",
   "execution_count": 22,
   "metadata": {
    "ExecuteTime": {
     "end_time": "2022-05-29T08:55:19.298952Z",
     "start_time": "2022-05-29T08:55:19.253203Z"
    }
   },
   "outputs": [
    {
     "data": {
      "text/html": [
       "<div>\n",
       "<style scoped>\n",
       "    .dataframe tbody tr th:only-of-type {\n",
       "        vertical-align: middle;\n",
       "    }\n",
       "\n",
       "    .dataframe tbody tr th {\n",
       "        vertical-align: top;\n",
       "    }\n",
       "\n",
       "    .dataframe thead th {\n",
       "        text-align: right;\n",
       "    }\n",
       "</style>\n",
       "<table border=\"1\" class=\"dataframe\">\n",
       "  <thead>\n",
       "    <tr style=\"text-align: right;\">\n",
       "      <th></th>\n",
       "      <th>Algo</th>\n",
       "      <th>Relation</th>\n",
       "      <th>MAE</th>\n",
       "    </tr>\n",
       "  </thead>\n",
       "  <tbody>\n",
       "    <tr>\n",
       "      <th>0</th>\n",
       "      <td>Random Forest</td>\n",
       "      <td>x</td>\n",
       "      <td>0.2716</td>\n",
       "    </tr>\n",
       "    <tr>\n",
       "      <th>1</th>\n",
       "      <td>SVM</td>\n",
       "      <td>x</td>\n",
       "      <td>0.2572</td>\n",
       "    </tr>\n",
       "    <tr>\n",
       "      <th>2</th>\n",
       "      <td>XGB</td>\n",
       "      <td>x</td>\n",
       "      <td>0.5448</td>\n",
       "    </tr>\n",
       "    <tr>\n",
       "      <th>3</th>\n",
       "      <td>Random Forest</td>\n",
       "      <td>x^2</td>\n",
       "      <td>0.2706</td>\n",
       "    </tr>\n",
       "    <tr>\n",
       "      <th>4</th>\n",
       "      <td>SVM</td>\n",
       "      <td>x^2</td>\n",
       "      <td>0.2644</td>\n",
       "    </tr>\n",
       "    <tr>\n",
       "      <th>5</th>\n",
       "      <td>XGB</td>\n",
       "      <td>x^2</td>\n",
       "      <td>0.4619</td>\n",
       "    </tr>\n",
       "    <tr>\n",
       "      <th>6</th>\n",
       "      <td>Random Forest</td>\n",
       "      <td>log(x)</td>\n",
       "      <td>0.3885</td>\n",
       "    </tr>\n",
       "    <tr>\n",
       "      <th>7</th>\n",
       "      <td>SVM</td>\n",
       "      <td>log(x)</td>\n",
       "      <td>0.4192</td>\n",
       "    </tr>\n",
       "    <tr>\n",
       "      <th>8</th>\n",
       "      <td>XGB</td>\n",
       "      <td>log(x)</td>\n",
       "      <td>0.6337</td>\n",
       "    </tr>\n",
       "    <tr>\n",
       "      <th>9</th>\n",
       "      <td>Random Forest</td>\n",
       "      <td>1/x</td>\n",
       "      <td>7.3836</td>\n",
       "    </tr>\n",
       "    <tr>\n",
       "      <th>10</th>\n",
       "      <td>SVM</td>\n",
       "      <td>1/x</td>\n",
       "      <td>22.2895</td>\n",
       "    </tr>\n",
       "    <tr>\n",
       "      <th>11</th>\n",
       "      <td>XGB</td>\n",
       "      <td>1/x</td>\n",
       "      <td>22.7291</td>\n",
       "    </tr>\n",
       "    <tr>\n",
       "      <th>12</th>\n",
       "      <td>Random Forest</td>\n",
       "      <td>Ratio</td>\n",
       "      <td>3.6194</td>\n",
       "    </tr>\n",
       "    <tr>\n",
       "      <th>13</th>\n",
       "      <td>SVM</td>\n",
       "      <td>Ratio</td>\n",
       "      <td>9.3229</td>\n",
       "    </tr>\n",
       "    <tr>\n",
       "      <th>14</th>\n",
       "      <td>XGB</td>\n",
       "      <td>Ratio</td>\n",
       "      <td>9.8642</td>\n",
       "    </tr>\n",
       "  </tbody>\n",
       "</table>\n",
       "</div>"
      ],
      "text/plain": [
       "             Algo Relation      MAE\n",
       "0   Random Forest        x   0.2716\n",
       "1             SVM        x   0.2572\n",
       "2             XGB        x   0.5448\n",
       "3   Random Forest      x^2   0.2706\n",
       "4             SVM      x^2   0.2644\n",
       "5             XGB      x^2   0.4619\n",
       "6   Random Forest   log(x)   0.3885\n",
       "7             SVM   log(x)   0.4192\n",
       "8             XGB   log(x)   0.6337\n",
       "9   Random Forest      1/x   7.3836\n",
       "10            SVM      1/x  22.2895\n",
       "11            XGB      1/x  22.7291\n",
       "12  Random Forest    Ratio   3.6194\n",
       "13            SVM    Ratio   9.3229\n",
       "14            XGB    Ratio   9.8642"
      ]
     },
     "execution_count": 22,
     "metadata": {},
     "output_type": "execute_result"
    }
   ],
   "source": [
    "results"
   ]
  },
  {
   "cell_type": "code",
   "execution_count": null,
   "metadata": {},
   "outputs": [],
   "source": [
    "#x1 -> x6 = 1/x1\n",
    "#x2 -> x7 = 1/x2\n",
    "#x3 -> x8 = 1/x3\n",
    "#x5 -> x10 = 1/x5\n",
    "\n",
    "# prev - x_train = [x1, x2, .. x5]\n",
    "# after transf - x_train_new = [x6, x7, .. x10]"
   ]
  }
 ],
 "metadata": {
  "kernelspec": {
   "display_name": "Python 3 (ipykernel)",
   "language": "python",
   "name": "python3"
  },
  "language_info": {
   "codemirror_mode": {
    "name": "ipython",
    "version": 3
   },
   "file_extension": ".py",
   "mimetype": "text/x-python",
   "name": "python",
   "nbconvert_exporter": "python",
   "pygments_lexer": "ipython3",
   "version": "3.7.11"
  }
 },
 "nbformat": 4,
 "nbformat_minor": 2
}
